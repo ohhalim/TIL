{
 "cells": [
  {
   "cell_type": "markdown",
   "id": "7fa29cce-7938-4e40-8c18-efe04dbdc323",
   "metadata": {},
   "source": [
    "문자열 str이 주어질 때, str을 출력하는 코드를 작성해 보세요.\n",
    "\n",
    "제한사항\n",
    "1 ≤ str의 길이 ≤ 1,000,000\n",
    "str에는 공백이 없으며, 첫째 줄에 한 줄로만 주어집니다."
   ]
  },
  {
   "cell_type": "code",
   "execution_count": 1,
   "id": "d538a90d-51be-458f-bad1-1111053344b6",
   "metadata": {},
   "outputs": [
    {
     "name": "stdout",
     "output_type": "stream",
     "text": [
      " hi\n"
     ]
    },
    {
     "name": "stdout",
     "output_type": "stream",
     "text": [
      "hi\n"
     ]
    }
   ],
   "source": [
    "# 입력으로 문자열 받기\n",
    "str = input()\n",
    "\n",
    "# 문자열 출력\n",
    "print(str)"
   ]
  },
  {
   "cell_type": "markdown",
   "id": "42fd1810-b840-4d57-b0df-d5b87bda5564",
   "metadata": {},
   "source": [
    "정수 a와 b가 주어집니다. 각 수를 입력받아 입출력 예와 같은 형식으로 출력하는 코드를 작성해 보세요.\n",
    "\n",
    "제한사항\n",
    "-100,000 ≤ a, b ≤ 100,000\n",
    "\n",
    "\n",
    "입출력 예\n",
    "\n",
    "입력 \n",
    "\n",
    "4 5\n",
    "\n",
    "출력 \n",
    "\n",
    "a = 4\n",
    "b = 5\n"
   ]
  },
  {
   "cell_type": "code",
   "execution_count": 2,
   "id": "0cb1c980-8c61-43a1-92fe-8447f0881602",
   "metadata": {},
   "outputs": [
    {
     "name": "stdout",
     "output_type": "stream",
     "text": [
      " 4 5\n"
     ]
    },
    {
     "name": "stdout",
     "output_type": "stream",
     "text": [
      "a = 4 b = 5\n"
     ]
    }
   ],
   "source": [
    "# 두 정수를 입력받습니다\n",
    "a, b = map(int, input().split())\n",
    "\n",
    "# 주어진 형식으로 출력합니다\n",
    "print(f\"a = {a} b = {b}\")"
   ]
  },
  {
   "cell_type": "code",
   "execution_count": 3,
   "id": "8ff630e9-23c0-4ddc-9bfd-cfdfb1a18a11",
   "metadata": {},
   "outputs": [
    {
     "name": "stdout",
     "output_type": "stream",
     "text": [
      " 7\n"
     ]
    },
    {
     "data": {
      "text/plain": [
       "'7'"
      ]
     },
     "execution_count": 3,
     "metadata": {},
     "output_type": "execute_result"
    }
   ],
   "source": [
    "input()\n",
    "\n"
   ]
  },
  {
   "cell_type": "code",
   "execution_count": null,
   "id": "65fabc8f-e8e9-4eb0-8756-1c6a5153a249",
   "metadata": {},
   "outputs": [],
   "source": [
    "아니라네 ~~~ 아 모르것다 \n"
   ]
  }
 ],
 "metadata": {
  "kernelspec": {
   "display_name": "Python 3 (ipykernel)",
   "language": "python",
   "name": "python3"
  },
  "language_info": {
   "codemirror_mode": {
    "name": "ipython",
    "version": 3
   },
   "file_extension": ".py",
   "mimetype": "text/x-python",
   "name": "python",
   "nbconvert_exporter": "python",
   "pygments_lexer": "ipython3",
   "version": "3.12.7"
  }
 },
 "nbformat": 4,
 "nbformat_minor": 5
}
