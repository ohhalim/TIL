{
 "cells": [
  {
   "cell_type": "markdown",
   "metadata": {},
   "source": [
    "## 문제 1\n",
    "화면에 Hello World 문자열을 출력하세요."
   ]
  },
  {
   "cell_type": "code",
   "execution_count": 1,
   "metadata": {},
   "outputs": [
    {
     "name": "stdout",
     "output_type": "stream",
     "text": [
      "Hello World\n"
     ]
    }
   ],
   "source": [
    "print(\"Hello World\")"
   ]
  },
  {
   "cell_type": "markdown",
   "metadata": {},
   "source": [
    "## 문제 2\n",
    "화면에 MR'S JUNSEOK을 출력하세요."
   ]
  },
  {
   "cell_type": "code",
   "execution_count": 5,
   "metadata": {},
   "outputs": [
    {
     "name": "stdout",
     "output_type": "stream",
     "text": [
      "MR'S JUNSEOK\n",
      "MR'S JUNSEOK\n"
     ]
    }
   ],
   "source": [
    "print(\"MR'S JUNSEOK\")\n",
    "print('MR\\'S JUNSEOK')"
   ]
  },
  {
   "cell_type": "markdown",
   "metadata": {
    "vscode": {
     "languageId": "plaintext"
    }
   },
   "source": [
    "## 문제 3\n",
    "변수 name과 age를 사용하여 다음과 같이 출력하는 코드를 작성하세요."
   ]
  },
  {
   "cell_type": "raw",
   "metadata": {
    "vscode": {
     "languageId": "raw"
    }
   },
   "source": [
    "출력 예시 : \n",
    "\n",
    "천준석님의 나이는 30살입니다."
   ]
  },
  {
   "cell_type": "code",
   "execution_count": 1,
   "metadata": {},
   "outputs": [],
   "source": [
    "name = \"천준석\"\n",
    "age = 30\n"
   ]
  },
  {
   "cell_type": "code",
   "execution_count": 3,
   "metadata": {},
   "outputs": [
    {
     "name": "stdout",
     "output_type": "stream",
     "text": [
      "천준석님의 나이는 30살입니다.\n"
     ]
    }
   ],
   "source": [
    "name = \"천준석\"\n",
    "age = 30\n",
    "print(f'{name}님의 나이는 {age}살입니다.')\n"
   ]
  },
  {
   "cell_type": "code",
   "execution_count": 10,
   "metadata": {},
   "outputs": [
    {
     "name": "stdout",
     "output_type": "stream",
     "text": [
      "천준석님의 나이는 30살입니다.\n",
      "천준석님의 나이는 30살입니다.\n",
      "천준석님의 나이는 30살입니다.\n"
     ]
    }
   ],
   "source": [
    "print(\"{}님의 나이는 {}살입니다.\".format(name, age))\n",
    "print(f\"{name}님의 나이는 {age}살입니다.\")\n",
    "print(\"%s님의 나이는 %s살입니다.\" %(name, age))"
   ]
  },
  {
   "cell_type": "markdown",
   "metadata": {},
   "source": [
    "## 문제 4\n",
    "다음 코드의 출력 결과를 예측해보세요."
   ]
  },
  {
   "cell_type": "code",
   "execution_count": 5,
   "metadata": {},
   "outputs": [
    {
     "name": "stdout",
     "output_type": "stream",
     "text": [
      "파이썬★프로그래밍\n",
      "파이썬★프로그래밍☆"
     ]
    }
   ],
   "source": [
    "print(\"파이썬\", \"프로그래밍\", sep=\"★\")\n",
    "\n",
    "# 오 sep 을 사용하면 구분자를 지정할 수있구나\n",
    "print(\"파이썬\", \"프로그래밍\", sep=\"★\", end=\"☆\")"
   ]
  },
  {
   "cell_type": "raw",
   "metadata": {},
   "source": []
  },
  {
   "cell_type": "code",
   "execution_count": 11,
   "metadata": {},
   "outputs": [
    {
     "name": "stdout",
     "output_type": "stream",
     "text": [
      "파이썬★프로그래밍\n"
     ]
    }
   ],
   "source": [
    "print(\"파이썬\", \"프로그래밍\", sep=\"★\")"
   ]
  },
  {
   "cell_type": "raw",
   "metadata": {
    "vscode": {
     "languageId": "raw"
    }
   },
   "source": [
    "print(\"파이썬\", \"프로그래밍\", end=\" 끝!\\n\")"
   ]
  },
  {
   "cell_type": "code",
   "execution_count": 12,
   "metadata": {},
   "outputs": [
    {
     "name": "stdout",
     "output_type": "stream",
     "text": [
      "파이썬 프로그래밍 끝!\n"
     ]
    }
   ],
   "source": [
    "print(\"파이썬\", \"프로그래밍\", end=\" 끝!\\n\")\n",
    "# \\n 는 줄바꿈을 의미한다\n",
    "# 끝에 말을 붙이고 싶으면 end 사용\n"
   ]
  },
  {
   "cell_type": "raw",
   "metadata": {
    "vscode": {
     "languageId": "raw"
    }
   },
   "source": [
    "print(\"파이썬\", \"프로그래밍\", sep=\"★\", end=\" 끝!\\n\")"
   ]
  },
  {
   "cell_type": "code",
   "execution_count": 13,
   "metadata": {},
   "outputs": [
    {
     "name": "stdout",
     "output_type": "stream",
     "text": [
      "파이썬★프로그래밍 끝!\n"
     ]
    }
   ],
   "source": [
    "print(\"파이썬\", \"프로그래밍\", sep=\"★\", end=\" 끝!\\n\")"
   ]
  },
  {
   "cell_type": "raw",
   "metadata": {
    "vscode": {
     "languageId": "raw"
    }
   },
   "source": [
    "print(\"A\", \"B\", \"C\", sep=\"\\n\", end=\"!\")\n",
    "\n",
    "# 예상하면 출력은: \n",
    "A \n",
    "B\n",
    "C!"
   ]
  },
  {
   "cell_type": "code",
   "execution_count": 14,
   "metadata": {},
   "outputs": [
    {
     "name": "stdout",
     "output_type": "stream",
     "text": [
      "A\n",
      "B\n",
      "C!"
     ]
    }
   ],
   "source": [
    "print(\"A\", \"B\", \"C\", sep=\"\\n\", end=\"!\")\n"
   ]
  },
  {
   "cell_type": "markdown",
   "metadata": {},
   "source": [
    "## 문제 5\n",
    "다음 코드에서 오류가 발생합니다. 오류를 수정하여 숫자 15가 출력되도록 하세요."
   ]
  },
  {
   "cell_type": "code",
   "execution_count": 7,
   "metadata": {},
   "outputs": [
    {
     "ename": "TypeError",
     "evalue": "can only concatenate str (not \"int\") to str",
     "output_type": "error",
     "traceback": [
      "\u001b[1;31m---------------------------------------------------------------------------\u001b[0m",
      "\u001b[1;31mTypeError\u001b[0m                                 Traceback (most recent call last)",
      "Cell \u001b[1;32mIn[7], line 3\u001b[0m\n\u001b[0;32m      1\u001b[0m a \u001b[38;5;241m=\u001b[39m \u001b[38;5;241m10\u001b[39m\n\u001b[0;32m      2\u001b[0m b \u001b[38;5;241m=\u001b[39m \u001b[38;5;241m5\u001b[39m\n\u001b[1;32m----> 3\u001b[0m \u001b[38;5;28mprint\u001b[39m(\u001b[38;5;124;43m\"\u001b[39;49m\u001b[38;5;124;43ma + b = \u001b[39;49m\u001b[38;5;124;43m\"\u001b[39;49m\u001b[43m \u001b[49m\u001b[38;5;241;43m+\u001b[39;49m\u001b[43m \u001b[49m\u001b[43ma\u001b[49m \u001b[38;5;241m+\u001b[39m b)\n",
      "\u001b[1;31mTypeError\u001b[0m: can only concatenate str (not \"int\") to str"
     ]
    }
   ],
   "source": [
    "a = 10\n",
    "b = 5\n",
    "print(\"a + b = \" + a + b)\n",
    "\n",
    "# 숫자가 출력되려면 str로 감싸줘야한다\n",
    "# {} 는 문자열을 print할때 사용한다\n",
    "#f-string을 사용하여 문자열 내에 변수나 표현식을 삽입할 수 있습니다.\n",
    "print(f\"a + b = {a + b}\")\n"
   ]
  },
  {
   "cell_type": "code",
   "execution_count": 15,
   "metadata": {},
   "outputs": [
    {
     "name": "stdout",
     "output_type": "stream",
     "text": [
      "a + b = 15\n"
     ]
    }
   ],
   "source": [
    "a = 10\n",
    "b = 5\n",
    "print(f\"a + b = {a + b}\")"
   ]
  },
  {
   "cell_type": "markdown",
   "metadata": {},
   "source": [
    "## 문제 6\n",
    "사용자에게 이름과 취미를 입력받아 다음과 같이 출력하는 코드를 작성하세요."
   ]
  },
  {
   "cell_type": "raw",
   "metadata": {
    "vscode": {
     "languageId": "raw"
    }
   },
   "source": [
    "입력 예시 :\n",
    "\n",
    "이름을 입력하세요: 천준석\n",
    "취미를 입력하세요: 산책"
   ]
  },
  {
   "cell_type": "code",
   "execution_count": 6,
   "metadata": {},
   "outputs": [
    {
     "name": "stdout",
     "output_type": "stream",
     "text": [
      "이름을 입력하세요 = 오하림\n"
     ]
    }
   ],
   "source": [
    "name = input(\"이름을 입력하세요\")\n",
    "print(f\"이름을 입력하세요 = {name}\")"
   ]
  },
  {
   "cell_type": "raw",
   "metadata": {
    "vscode": {
     "languageId": "raw"
    }
   },
   "source": [
    "출력 결과 :\n",
    "\n",
    "안녕하세요, 천준석님! 당신의 취미는 산책군요."
   ]
  },
  {
   "cell_type": "code",
   "execution_count": 16,
   "metadata": {},
   "outputs": [
    {
     "name": "stdout",
     "output_type": "stream",
     "text": [
      "안녕하세요, 천준석님! 당신의 취미는 산책이군요\n"
     ]
    }
   ],
   "source": [
    "name = input(\"이름을 입력하세요: \")\n",
    "hobby = input(\"취미를 입력하세요: \")\n",
    "\n",
    "print(f\"안녕하세요, {name}님! 당신의 취미는 {hobby}이군요\")"
   ]
  },
  {
   "cell_type": "markdown",
   "metadata": {},
   "source": [
    "## 문제 7\n",
    "반지름을 입력받아 원의 넓이를 계산하여 출력하는 코드를 작성하세요. (원의 넓이 = π * r^2, π는 3.14159로 사용)"
   ]
  },
  {
   "cell_type": "raw",
   "metadata": {
    "vscode": {
     "languageId": "raw"
    }
   },
   "source": [
    "입력 예시 : \n",
    "\n",
    "원의 반지름을 입력하세요: 5"
   ]
  },
  {
   "cell_type": "code",
   "execution_count": 7,
   "metadata": {},
   "outputs": [
    {
     "name": "stdout",
     "output_type": "stream",
     "text": [
      "원의 반지름을 입력하세요: 5\n"
     ]
    }
   ],
   "source": [
    "circle_r = input()\n",
    "print(f'원의 반지름을 입력하세요: {circle_r}')"
   ]
  },
  {
   "cell_type": "raw",
   "metadata": {
    "vscode": {
     "languageId": "raw"
    }
   },
   "source": [
    "출력 결과 :\n",
    "\n",
    "원의 넓이는 78.53975입니다."
   ]
  },
  {
   "cell_type": "code",
   "execution_count": 19,
   "metadata": {},
   "outputs": [
    {
     "name": "stdout",
     "output_type": "stream",
     "text": [
      "원의 넓이는 78.53975입니다.\n"
     ]
    }
   ],
   "source": [
    "r = int(input(\"원의 반지름을 입력하세요: \"))\n",
    "\n",
    "print(f\"원의 넓이는 {3.14159*r**2}입니다.\")"
   ]
  },
  {
   "cell_type": "markdown",
   "metadata": {},
   "source": [
    "## 문제 8\n",
    "두 정수를 입력받고, 두 정수를 더하고 빼고 곱하고 나누기를 출력하세요."
   ]
  },
  {
   "cell_type": "raw",
   "metadata": {
    "vscode": {
     "languageId": "raw"
    }
   },
   "source": [
    "입력 예시 : \n",
    "\n",
    "두 정수를 입력하세요 : 10 5"
   ]
  },
  {
   "cell_type": "code",
   "execution_count": 9,
   "metadata": {},
   "outputs": [
    {
     "ename": "ValueError",
     "evalue": "not enough values to unpack (expected 2, got 1)",
     "output_type": "error",
     "traceback": [
      "\u001b[0;31m---------------------------------------------------------------------------\u001b[0m",
      "\u001b[0;31mValueError\u001b[0m                                Traceback (most recent call last)",
      "Cell \u001b[0;32mIn[9], line 2\u001b[0m\n\u001b[1;32m      1\u001b[0m ints \u001b[38;5;241m=\u001b[39m \u001b[38;5;28minput\u001b[39m(\u001b[38;5;124m\"\u001b[39m\u001b[38;5;124m두 정수를 입력하세요 : \u001b[39m\u001b[38;5;124m\"\u001b[39m)\u001b[38;5;241m.\u001b[39msplit()\n\u001b[0;32m----> 2\u001b[0m num1, num2 \u001b[38;5;241m=\u001b[39m \u001b[38;5;28mmap\u001b[39m(\u001b[38;5;28mint\u001b[39m, ints)\n\u001b[1;32m      3\u001b[0m \u001b[38;5;28mprint\u001b[39m(\u001b[38;5;124mf\u001b[39m\u001b[38;5;124m\"\u001b[39m\u001b[38;5;124m두 정수를 입력하세요: \u001b[39m\u001b[38;5;132;01m{\u001b[39;00mnum1\u001b[38;5;132;01m}\u001b[39;00m\u001b[38;5;124m \u001b[39m\u001b[38;5;132;01m{\u001b[39;00mnum2\u001b[38;5;132;01m}\u001b[39;00m\u001b[38;5;124m\"\u001b[39m)\n",
      "\u001b[0;31mValueError\u001b[0m: not enough values to unpack (expected 2, got 1)"
     ]
    }
   ],
   "source": [
    "ints = input(\"두 정수를 입력하세요 : \").split()\n",
    "num1, num2 = map(int, ints)\n",
    "print(f\"두 정수를 입력하세요: {num1} {num2}\")\n"
   ]
  },
  {
   "cell_type": "raw",
   "metadata": {
    "vscode": {
     "languageId": "raw"
    }
   },
   "source": [
    "출력 결과 :\n",
    "\n",
    "10 + 5 = 15\n",
    "10 - 5 = 5\n",
    "10 * 5 = 50\n",
    "10 / 5 = 2"
   ]
  },
  {
   "cell_type": "code",
   "execution_count": 11,
   "metadata": {},
   "outputs": [
    {
     "ename": "ValueError",
     "evalue": "not enough values to unpack (expected 2, got 1)",
     "output_type": "error",
     "traceback": [
      "\u001b[0;31m---------------------------------------------------------------------------\u001b[0m",
      "\u001b[0;31mValueError\u001b[0m                                Traceback (most recent call last)",
      "Cell \u001b[0;32mIn[11], line 1\u001b[0m\n\u001b[0;32m----> 1\u001b[0m num1, num2 \u001b[38;5;241m=\u001b[39m \u001b[38;5;28mmap\u001b[39m(\u001b[38;5;28mint\u001b[39m, \u001b[38;5;28minput\u001b[39m(\u001b[38;5;124m\"\u001b[39m\u001b[38;5;124m두 정수를 입력하세요 : \u001b[39m\u001b[38;5;124m\"\u001b[39m)\u001b[38;5;241m.\u001b[39msplit())\n\u001b[1;32m      2\u001b[0m \u001b[38;5;66;03m# map 은 여러개의 데이터를 한번에 다른 형태로 변환할때 사용한다\u001b[39;00m\n\u001b[1;32m      3\u001b[0m \u001b[38;5;66;03m# int 은 정수로 변환\u001b[39;00m\n\u001b[1;32m      4\u001b[0m \u001b[38;5;66;03m# split 은 문자열을 나눌때 사용\u001b[39;00m\n\u001b[1;32m      5\u001b[0m \u001b[38;5;66;03m# input 은 사용자로부터 입력을 받을때 사용\u001b[39;00m\n\u001b[1;32m      6\u001b[0m \u001b[38;5;28mprint\u001b[39m(\u001b[38;5;124mf\u001b[39m\u001b[38;5;124m\"\u001b[39m\u001b[38;5;132;01m{\u001b[39;00mnum1\u001b[38;5;132;01m}\u001b[39;00m\u001b[38;5;124m + \u001b[39m\u001b[38;5;132;01m{\u001b[39;00mnum2\u001b[38;5;132;01m}\u001b[39;00m\u001b[38;5;124m = \u001b[39m\u001b[38;5;132;01m{\u001b[39;00mnum1\u001b[38;5;241m+\u001b[39mnum2\u001b[38;5;132;01m}\u001b[39;00m\u001b[38;5;124m\"\u001b[39m)\n",
      "\u001b[0;31mValueError\u001b[0m: not enough values to unpack (expected 2, got 1)"
     ]
    }
   ],
   "source": [
    "num1, num2 = map(int, input(\"두 정수를 입력하세요 : \").split())\n",
    "# map 은 여러개의 데이터를 한번에 다른 형태로 변환할때 사용한다\n",
    "# int 은 정수로 변환\n",
    "# split 은 문자열을 나눌때 사용\n",
    "# input 은 사용자로부터 입력을 받을때 사용\n",
    "print(f\"{num1} + {num2} = {num1+num2}\")\n",
    "print(f\"{num1} - {num2} = {num1-num2}\")\n",
    "print(f\"{num1} * {num2} = {num1*num2}\")\n",
    "print(f\"{num1} / {num2} = {num1/num2}\")\n",
    "# f-string안에 숫자를가 나오는 문자를 넣고 싶으면 {} 안에 함수를 넣으면 돼"
   ]
  },
  {
   "cell_type": "markdown",
   "metadata": {},
   "source": [
    "## 문제 9\n",
    "섭씨 온도를 입력받아 화씨 온도로 변환하여 출력하는 코드를 작성하세요. (화씨 = 섭씨 * 1.8 + 32)"
   ]
  },
  {
   "cell_type": "raw",
   "metadata": {
    "vscode": {
     "languageId": "raw"
    }
   },
   "source": [
    "입력 예시 : \n",
    "\n",
    "섭씨 온도를 입력하세요: 25"
   ]
  },
  {
   "cell_type": "code",
   "execution_count": 12,
   "metadata": {},
   "outputs": [
    {
     "name": "stdout",
     "output_type": "stream",
     "text": [
      "화씨온도는 77.0입니다\n"
     ]
    }
   ],
   "source": [
    "c = int(input(\"섭씨온도를 입력하세요: \"))\n",
    "f = c*1.8 + 32\n",
    "print(f'화씨온도는 {f}입니다')"
   ]
  },
  {
   "cell_type": "raw",
   "metadata": {
    "vscode": {
     "languageId": "raw"
    }
   },
   "source": [
    "출력 결과 :\n",
    "\n",
    "화씨 온도는 77.0도입니다."
   ]
  },
  {
   "cell_type": "code",
   "execution_count": 21,
   "metadata": {},
   "outputs": [
    {
     "name": "stdout",
     "output_type": "stream",
     "text": [
      "화씨 온도는 77.0도입니다.\n"
     ]
    }
   ],
   "source": [
    "temperature = int(input(\"섭씨 온도를 입력하세요 : \"))\n",
    "\n",
    "print(f\"화씨 온도는 {temperature*1.8+32}도입니다.\")"
   ]
  },
  {
   "cell_type": "markdown",
   "metadata": {},
   "source": [
    "## 문제 10\n",
    "'#'으로 구분된 4개의 문자열을 입력받고, 출력해보세요"
   ]
  },
  {
   "cell_type": "raw",
   "metadata": {
    "vscode": {
     "languageId": "raw"
    }
   },
   "source": [
    "입력 예시 : \n",
    "\n",
    "입력하세요 : apple#banana#watermelon#grape"
   ]
  },
  {
   "cell_type": "code",
   "execution_count": 17,
   "metadata": {},
   "outputs": [
    {
     "name": "stdout",
     "output_type": "stream",
     "text": [
      "입력한 값은 ['apple', 'banana', 'watermelon', 'grape']입니다.\n"
     ]
    }
   ],
   "source": [
    "str = input(\"입력하세요: \").split(\"#\")\n",
    "# split은 들어같 문자를 없애고, 문자열을 나눌때 사용\n",
    "print(f\"입력한 값은 {str}입니다.\")"
   ]
  },
  {
   "cell_type": "raw",
   "metadata": {
    "vscode": {
     "languageId": "raw"
    }
   },
   "source": [
    "출력 결과 :\n",
    "\n",
    "apple banana watermelon grape"
   ]
  },
  {
   "cell_type": "code",
   "execution_count": 23,
   "metadata": {},
   "outputs": [
    {
     "name": "stdout",
     "output_type": "stream",
     "text": [
      "apple banana watermelon grape\n"
     ]
    }
   ],
   "source": [
    "num1, num2, num3, num4 = map(str, input(\"입력하세요 : \").split(\"#\"))\n",
    "\n",
    "print(num1, num2, num3, num4)"
   ]
  }
 ],
 "metadata": {
  "kernelspec": {
   "display_name": "llm",
   "language": "python",
   "name": "llm"
  },
  "language_info": {
   "codemirror_mode": {
    "name": "ipython",
    "version": 3
   },
   "file_extension": ".py",
   "mimetype": "text/x-python",
   "name": "python",
   "nbconvert_exporter": "python",
   "pygments_lexer": "ipython3",
   "version": "3.12.7"
  }
 },
 "nbformat": 4,
 "nbformat_minor": 2
}
