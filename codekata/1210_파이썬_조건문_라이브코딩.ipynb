{
 "cells": [
  {
   "cell_type": "markdown",
   "metadata": {},
   "source": [
    "## 문제 1\n",
    "사용자로부터 정수를 입력받은 뒤, 해당 정수가 다음 조건 중 하나에 해당하는지 판별하는 프로그램을 작성하세요.\n",
    "\n",
    "- 3의 배수이면서 동시에 7의 배수인 경우: \"3과 7의 공배수입니다.\" 출력\n",
    "- 3의 배수이지만 7의 배수는 아닌 경우: \"3의 배수입니다.\" 출력\n",
    "- 7의 배수이지만 3의 배수는 아닌 경우: \"7의 배수입니다.\" 출력\n",
    "- 위의 어떤 조건도 만족하지 않으면: \"3과 7의 배수가 아닙니다.\" 출력"
   ]
  },
  {
   "cell_type": "code",
   "execution_count": 1,
   "metadata": {},
   "outputs": [
    {
     "ename": "SyntaxError",
     "evalue": "invalid syntax (4276777155.py, line 3)",
     "output_type": "error",
     "traceback": [
      "\u001b[0;36m  Cell \u001b[0;32mIn[1], line 3\u001b[0;36m\u001b[0m\n\u001b[0;31m    if num %3 == 0 and %7 ==0:\u001b[0m\n\u001b[0m                       ^\u001b[0m\n\u001b[0;31mSyntaxError\u001b[0m\u001b[0;31m:\u001b[0m invalid syntax\n"
     ]
    }
   ],
   "source": [
    "num = int(input(\"정수를 입력하세요:\"))\n",
    "\n",
    "if num %3 == 0 and %7 ==0:\n",
    "    print(\"3과 7의 공배수입니다.\")\n",
    "elif num %3 == 0:\n",
    "    print(\"7의배수입니다\")\n",
    "else:\n",
    "    print(\"3과 7의 배수입니다\")\n"
   ]
  },
  {
   "cell_type": "raw",
   "metadata": {
    "vscode": {
     "languageId": "raw"
    }
   },
   "source": [
    "테스트 입력값\n",
    "\n",
    "입력: 21\n",
    "21은 3의 배수이면서 7의 배수 → \"3과 7의 공배수입니다.\"\n",
    "\n",
    "입력: 9\n",
    "9는 3의 배수지만 7의 배수 아님 → \"3의 배수입니다.\"\n",
    "\n",
    "입력: 14\n",
    "14는 7의 배수지만 3의 배수 아님 → \"7의 배수입니다.\"\n",
    "\n",
    "입력: 10\n",
    "3의 배수도, 7의 배수도 아님 → \"3과 7의 배수가 아닙니다.\""
   ]
  },
  {
   "cell_type": "markdown",
   "metadata": {},
   "source": [
    "## 문제 2\n",
    "사용자로부터 키(정수, cm)와 몸무게(정수, kg)를 입력받아 BMI 상태를 출력하는 프로그램을 작성하세요.  \n",
    "BMI는 다음과 같이 계산합니다: BMI = 몸무게(kg) / (키(m)의 제곱)  \n",
    "여기서 키는 cm로 입력되므로 m 단위로 변환해야 합니다.  \n",
    "\n",
    "- BMI < 18.5: \"저체중\"\n",
    "- 18.5 ≤ BMI < 23: \"정상 체중\"\n",
    "- 23 ≤ BMI < 25: \"과체중\"\n",
    "- BMI ≥ 25: \"비만\""
   ]
  },
  {
   "cell_type": "code",
   "execution_count": 3,
   "metadata": {},
   "outputs": [
    {
     "ename": "SyntaxError",
     "evalue": "invalid character '≤' (U+2264) (1481217482.py, line 7)",
     "output_type": "error",
     "traceback": [
      "\u001b[0;36m  Cell \u001b[0;32mIn[3], line 7\u001b[0;36m\u001b[0m\n\u001b[0;31m    18.5 ≤ BMI < 23 =\"정상 체중\"\u001b[0m\n\u001b[0m         ^\u001b[0m\n\u001b[0;31mSyntaxError\u001b[0m\u001b[0;31m:\u001b[0m invalid character '≤' (U+2264)\n"
     ]
    }
   ],
   "source": [
    "user_k = int(input(\"키: \"))\n",
    "user_m = int(input(\"몸무게: \"))\n",
    "\n",
    "BMI = user_k/user_m\n",
    "if BMI < 18.5 = \"저체중\"\n",
    "elif\n",
    "18.5 ≤ BMI < 23 =\"정상 체중\"\n",
    "elif\n",
    "23 ≤ BMI < 25=  \"과체중\"\n",
    "else\n",
    "BMI ≥ 25: \"비만\"\n",
    "\n",
    "\n",
    "\n",
    "height = int(input(\"키를 입력하세요:\"))\n",
    "weight = int(input(\"몸무게를 입력하세요:\"))\n",
    "\n",
    "height_m = height / 100\n",
    "bmi \n",
    "\n"
   ]
  },
  {
   "cell_type": "raw",
   "metadata": {
    "vscode": {
     "languageId": "raw"
    }
   },
   "source": [
    "테스트 입력값\n",
    "\n",
    "입력:\n",
    "키: 170\n",
    "몸무게: 50\n",
    "BMI = 50 / (1.7^2) ≈ 17.3 → \"저체중\"\n",
    "\n",
    "입력:\n",
    "키: 165\n",
    "몸무게: 60\n",
    "BMI = 60 / (1.65^2) ≈ 22.0 → \"정상 체중\"\n",
    "\n",
    "입력:\n",
    "키: 175\n",
    "몸무게: 80\n",
    "BMI = 80 / (1.75^2) ≈ 26.1 → \"비만\""
   ]
  },
  {
   "cell_type": "markdown",
   "metadata": {},
   "source": [
    "## 문제 3\n",
    "사용자로부터 세 정수를 입력받아, 이 중 어느 하나라도 다른 두 수의 합보다 크다면 \"삼각형을 이룰 수 없습니다.\"를 출력하고, 그렇지 않다면 \"삼각형을 이룰 수 있습니다.\"를 출력하는 프로그램을 작성하세요.  \n",
    "(참고: 세 변의 길이가 a, b, c라 할 때, 삼각형을 이루려면 a < b + c, b < a + c, c < a + b 모두 만족해야 합니다.)"
   ]
  },
  {
   "cell_type": "code",
   "execution_count": 4,
   "metadata": {},
   "outputs": [
    {
     "ename": "SyntaxError",
     "evalue": "expected ':' (3630973681.py, line 5)",
     "output_type": "error",
     "traceback": [
      "\u001b[0;36m  Cell \u001b[0;32mIn[4], line 5\u001b[0;36m\u001b[0m\n\u001b[0;31m    if a < (b + c )\u001b[0m\n\u001b[0m                   ^\u001b[0m\n\u001b[0;31mSyntaxError\u001b[0m\u001b[0;31m:\u001b[0m expected ':'\n"
     ]
    }
   ],
   "source": [
    "'''\n",
    "a = int(input())\n",
    "b = int(input())\n",
    "c = int(input())\n",
    "\n",
    "if a < (b + c )\n",
    "    print(\"삼각형을 이룰수없습니다\")\n",
    "elif b < (a + c)\n",
    "    print(\"삼각형을 이룰수없습니다\")\n",
    "elif c < (a + b )\n",
    "    print(\"삼각형을 이룰수없습니다\")\n",
    "else \n",
    "    print(\"삼각형을 이룰수있습니다\")\n",
    "'''\n",
    "\n",
    "a, b, c = map(int, input().split())\n",
    "\n",
    "if  a < b+c and b <a+c \n",
    "    print\n"
   ]
  },
  {
   "cell_type": "raw",
   "metadata": {
    "vscode": {
     "languageId": "raw"
    }
   },
   "source": [
    "테스트 입력값\n",
    "\n",
    "입력: 3, 4, 5\n",
    "3+4=7 >5, 3+5=8 >4, 4+5=9 >3 → \"삼각형을 이룰 수 있습니다.\"\n",
    "\n",
    "입력: 2, 2, 4\n",
    "2+2=4 ==4, 한 변이 다른 두 변의 합과 같거나 커서 삼각형 불가 → \"삼각형을 이룰 수 없습니다.\"\n",
    "\n",
    "입력: 10, 1, 5\n",
    "1+5=6 < 10 → 성립 불가 → \"삼각형을 이룰 수 없습니다.\""
   ]
  },
  {
   "cell_type": "markdown",
   "metadata": {},
   "source": [
    "## 문제 4\n",
    "사용자로부터 문자열을 입력받아, 해당 문자열이 모두 알파벳으로만 이루어져 있으며(공백 없음), 길이가 8 이상인 경우 \"사용 가능한 비밀번호입니다.\"를 출력하고, 그렇지 않으면 \"사용 불가능한 비밀번호입니다.\"를 출력하세요."
   ]
  },
  {
   "cell_type": "code",
   "execution_count": null,
   "metadata": {},
   "outputs": [],
   "source": []
  },
  {
   "cell_type": "raw",
   "metadata": {
    "vscode": {
     "languageId": "raw"
    }
   },
   "source": [
    "테스트 입력값\n",
    "\n",
    "입력: abcdefgh\n",
    "전부 알파벳, 길이 8 → \"사용 가능한 비밀번호입니다.\"\n",
    "\n",
    "입력: abc123\n",
    "숫자 포함 → \"사용 불가능한 비밀번호입니다.\"\n",
    "\n",
    "입력: abc\n",
    "전부 알파벳이나 길이 3 < 8 → \"사용 불가능한 비밀번호입니다.\""
   ]
  },
  {
   "cell_type": "markdown",
   "metadata": {},
   "source": [
    "## 문제 5\n",
    "사용자로부터 연도를 입력받아 해당 연도가 윤년인지 판단하는 프로그램을 작성하세요.  \n",
    "\n",
    "윤년 판단 규칙:\n",
    "- 연도가 4로 나누어 떨어지고\n",
    "- 100으로 나누어 떨어지지 않거나 400으로 나누어 떨어지면 윤년이다."
   ]
  },
  {
   "cell_type": "code",
   "execution_count": 5,
   "metadata": {},
   "outputs": [
    {
     "name": "stdout",
     "output_type": "stream",
     "text": [
      "윤년 x\n"
     ]
    }
   ],
   "source": [
    "year = int(input(\"연도를 입력하세요: \"))\n",
    "if year % 4 == 0 and (year%100 != 0 or year % 400 == 0):\n",
    "    print(\"윤년\")\n",
    "else: \n",
    "    print(\"윤년 x\")\n",
    "    "
   ]
  },
  {
   "cell_type": "raw",
   "metadata": {
    "vscode": {
     "languageId": "raw"
    }
   },
   "source": [
    "테스트 입력값\n",
    "\n",
    "입력: 2020\n",
    "2020 %4=0, %100=20, %400=... 조건 만족 → \"윤년입니다.\"\n",
    "\n",
    "입력: 2100\n",
    "2100 %4=0 but %100=0 and %400=100 → \"윤년이 아닙니다.\"\n",
    "\n",
    "입력: 2000\n",
    "2000 %400=0 → \"윤년입니다.\""
   ]
  },
  {
   "cell_type": "markdown",
   "metadata": {},
   "source": [
    "## 문제 6\n",
    "사용자로부터 두 정수를 입력받아, 만약 두 수 중 하나라도 0이면 \"0으로 나눌 수 없습니다.\"를 출력하고 종료합니다.  \n",
    "둘 다 0이 아니면 두 수의 비율(a/b)을 계산한 뒤,\n",
    "\n",
    "- 비율이 1보다 크면 \"a가 b보다 큽니다.\"\n",
    "- 비율이 1이면 \"두 수는 같습니다.\"\n",
    "- 비율이 1보다 작으면 \"a가 b보다 작습니다.\"\n",
    "를 출력하세요."
   ]
  },
  {
   "cell_type": "code",
   "execution_count": 9,
   "metadata": {},
   "outputs": [
    {
     "ename": "ValueError",
     "evalue": "not enough values to unpack (expected 2, got 1)",
     "output_type": "error",
     "traceback": [
      "\u001b[0;31m---------------------------------------------------------------------------\u001b[0m",
      "\u001b[0;31mValueError\u001b[0m                                Traceback (most recent call last)",
      "Cell \u001b[0;32mIn[9], line 1\u001b[0m\n\u001b[0;32m----> 1\u001b[0m a, b \u001b[38;5;241m=\u001b[39m \u001b[38;5;28mmap\u001b[39m(\u001b[38;5;28mint\u001b[39m, \u001b[38;5;28minput\u001b[39m(\u001b[38;5;124m\"\u001b[39m\u001b[38;5;124m정수를 입력하세요:\u001b[39m\u001b[38;5;124m\"\u001b[39m)\u001b[38;5;241m.\u001b[39msplit())\n\u001b[1;32m      3\u001b[0m \u001b[38;5;28;01mif\u001b[39;00m \u001b[38;5;241m0\u001b[39m \u001b[38;5;241m==\u001b[39m a \u001b[38;5;241m*\u001b[39m b:\n\u001b[1;32m      4\u001b[0m     \u001b[38;5;28mprint\u001b[39m(\u001b[38;5;124m\"\u001b[39m\u001b[38;5;124m0으로 나눌수 없습니다\u001b[39m\u001b[38;5;124m\"\u001b[39m)\n",
      "\u001b[0;31mValueError\u001b[0m: not enough values to unpack (expected 2, got 1)"
     ]
    }
   ],
   "source": [
    "a, b = map(int, input(\"정수를 입력하세요:\").split())\n",
    "\n",
    "if 0 == a * b:\n",
    "    print(\"0으로 나눌수 없습니다\")\n",
    "else: \n",
    "    ratio = a/b \n",
    "    if ratio > 1: \n",
    "        print(\"a가 b보다 큽니다\")\n",
    "    elif ratio == 1:\n",
    "        print(\"두수는 같습니다\")\n",
    "    elif ratio < 1:\n",
    "        print(\"a가 b볻 작습니다\")\n"
   ]
  },
  {
   "cell_type": "raw",
   "metadata": {
    "vscode": {
     "languageId": "raw"
    }
   },
   "source": [
    "테스트 입력값\n",
    "\n",
    "입력: a=10, b=5\n",
    "ratio=10/5=2 >1 → \"a가 b보다 큽니다.\"\n",
    "\n",
    "입력: a=10, b=0\n",
    "b가 0 → \"0으로 나눌 수 없습니다.\"\n",
    "\n",
    "입력: a=5, b=5\n",
    "ratio=1 → \"두 수는 같습니다.\""
   ]
  },
  {
   "cell_type": "markdown",
   "metadata": {},
   "source": [
    "## 문제 7\n",
    "사용자로부터 문자열을 입력받아, 문자열이 비어있거나 공백 문자로만 이루어져 있으면 \"빈 문자열입니다.\"를 출력합니다.  \n",
    "그렇지 않고, 문자열이 모두 숫자로만 이루어져 있으면 \"숫자만 포함된 문자열입니다.\"를 출력합니다. 이 외 경우에는 \"일반 문자열입니다.\"를 출력하세요."
   ]
  },
  {
   "cell_type": "code",
   "execution_count": null,
   "metadata": {},
   "outputs": [],
   "source": []
  },
  {
   "cell_type": "raw",
   "metadata": {
    "vscode": {
     "languageId": "raw"
    }
   },
   "source": [
    "테스트 입력값\n",
    "\n",
    "입력: \" \"(공백만)\n",
    "strip()하면 \"\" → \"빈 문자열입니다.\"\n",
    "\n",
    "입력: \"12345\"\n",
    "숫자만 → \"숫자만 포함된 문자열입니다.\"\n",
    "\n",
    "입력: \"hello123\"\n",
    "알파벳+숫자 혼합 → \"일반 문자열입니다.\"\n",
    "\n",
    "입력: \"hello\"\n",
    "알파벳만이지만 문제 조건상 이 경우도 \"일반 문자열\" (숫자가 아니므로)"
   ]
  },
  {
   "cell_type": "markdown",
   "metadata": {},
   "source": [
    "## 문제 8\n",
    "사용자로부터 영문 문자열을 입력받아, 문자열에 대문자와 소문자가 섞여 있는 경우 \"대소문자 섞여 있음\", 전부 소문자면 \"전부 소문자\", 전부 대문자면 \"전부 대문자\"를 출력하세요. 알파벳 외 다른 문자가 포함되어 있다면 \"알파벳 이외의 문자가 있습니다.\"를 출력하세요."
   ]
  },
  {
   "cell_type": "code",
   "execution_count": null,
   "metadata": {},
   "outputs": [],
   "source": [
    "if n <= "
   ]
  },
  {
   "cell_type": "raw",
   "metadata": {
    "vscode": {
     "languageId": "raw"
    }
   },
   "source": [
    "테스트 입력값\n",
    "\n",
    "입력: \"HELLO\"\n",
    "모두 대문자 → \"전부 대문자\"\n",
    "\n",
    "입력: \"hello\"\n",
    "모두 소문자 → \"전부 소문자\"\n",
    "\n",
    "입력: \"Hello\"\n",
    "대소문자 섞임 → \"대소문자 섞여 있음\"\n",
    "\n",
    "입력: \"Hello!\"\n",
    "알파벳 이외 문자인 '!' 존재 → \"알파벳 이외의 문자가 있습니다.\""
   ]
  },
  {
   "cell_type": "markdown",
   "metadata": {},
   "source": [
    "## 문제 9\n",
    "사용자로부터 이메일 주소를 입력받아, '@'문자와 '.'문자가 모두 포함되어 있다면 \"올바른 이메일 형식입니다.\"를 출력하고, 그렇지 않다면 \"올바른 이메일 형식이 아닙니다.\"를 출력하세요.  \n",
    "단, '@'가 문자열의 시작이나 끝에 위치하거나, '.'이 문자열의 시작이나 끝에 위치한다면 역시 \"올바른 이메일 형식이 아닙니다.\"를 출력하세요."
   ]
  },
  {
   "cell_type": "code",
   "execution_count": null,
   "metadata": {},
   "outputs": [],
   "source": []
  },
  {
   "cell_type": "raw",
   "metadata": {
    "vscode": {
     "languageId": "raw"
    }
   },
   "source": [
    "테스트 입력값\n",
    "\n",
    "입력: test@example.com\n",
    "'@','.' 모두 있음, 처음과 끝 '.'이나 '@'아님 → \"올바른 이메일 형식입니다.\"\n",
    "\n",
    "입력: .test@example.com\n",
    "시작이 '.' → \"올바른 이메일 형식이 아닙니다.\"\n",
    "\n",
    "입력: test@examplecom\n",
    "'.' 없음 → \"올바른 이메일 형식이 아닙니다.\""
   ]
  },
  {
   "cell_type": "markdown",
   "metadata": {},
   "source": [
    "## 문제 10 (반복문 사용)\n",
    "사용자로부터 정수 n을 입력받아, n이 2초과의 소수(prime)인지 판별하는 프로그램을 작성하세요. 소수란 1과 자기 자신으로만 나누어 떨어지는 수를 말합니다.\n",
    "\n",
    "- n이 2 이하이거나 소수가 아니면 \"소수가 아닙니다.\"\n",
    "- 소수이면 \"소수입니다.\" 출력"
   ]
  },
  {
   "cell_type": "code",
   "execution_count": null,
   "metadata": {},
   "outputs": [],
   "source": []
  },
  {
   "cell_type": "raw",
   "metadata": {
    "vscode": {
     "languageId": "raw"
    }
   },
   "source": [
    "테스트 입력값\n",
    "\n",
    "입력: 17\n",
    "소수 → \"소수입니다.\"\n",
    "\n",
    "입력: 20\n",
    "약수 존재 (2,4,5,10등) → \"소수가 아닙니다.\"\n",
    "\n",
    "입력: 2\n",
    "2 이하 → \"소수가 아닙니다.\"\n",
    "\n",
    "입력: 19\n",
    "소수 → \"소수입니다.\""
   ]
  }
 ],
 "metadata": {
  "kernelspec": {
   "display_name": "llm",
   "language": "python",
   "name": "llm"
  },
  "language_info": {
   "codemirror_mode": {
    "name": "ipython",
    "version": 3
   },
   "file_extension": ".py",
   "mimetype": "text/x-python",
   "name": "python",
   "nbconvert_exporter": "python",
   "pygments_lexer": "ipython3",
   "version": "3.12.7"
  }
 },
 "nbformat": 4,
 "nbformat_minor": 2
}
