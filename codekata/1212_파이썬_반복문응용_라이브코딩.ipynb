{
 "cells": [
  {
   "cell_type": "code",
   "execution_count": null,
   "metadata": {},
   "outputs": [],
   "source": [
    "# 사용자로부터 튜플의 요소를 입력받습니다.\n",
    "test = tuple(input(\"튜플의 요소를 입력하세요 (쉼표로 구분): \").split(','))\n",
    "\n",
    "# 찾고자 하는 문자열을 입력받습니다.\n",
    "to_find = input(\"찾고자 하는 문자열을 입력하세요: \")\n",
    "\n",
    "# 찾고자 하는 문자열이 튜플에 있는지 확인합니다.\n",
    "found = False\n",
    "for i in range(len(test)):\n",
    "    if test[i] == to_find:\n",
    "        found = True\n",
    "        print(\"있습니다\")\n",
    "        print(i)\n",
    "        break\n",
    "\n",
    "if not found:\n",
    "    print(\"없습니다\")"
   ]
  },
  {
   "cell_type": "markdown",
   "metadata": {},
   "source": [
    "# 응용"
   ]
  },
  {
   "cell_type": "markdown",
   "metadata": {},
   "source": [
    "## 문제 1\n",
    "사용자로부터 정수 n을 입력받아, n! (팩토리얼)을 계산하여 출력하는 프로그램을 작성하세요. 팩토리얼 n!은 1부터 n까지의 곱입니다. (0! = 1로 정의)"
   ]
  },
  {
   "cell_type": "code",
   "execution_count": 8,
   "metadata": {},
   "outputs": [
    {
     "name": "stdout",
     "output_type": "stream",
     "text": [
      "1\n",
      "2\n",
      "6\n",
      "24\n",
      "120\n",
      "720\n",
      "5040\n",
      "40320\n",
      "362880\n",
      "3628800\n"
     ]
    }
   ],
   "source": [
    "n =int(input(\"정수 입력해주세요:\"))\n",
    "\n",
    "sum = 1\n",
    "\n",
    "for i in range(1, n+1):\n",
    "    sum *= i \n",
    "    print(sum)"
   ]
  },
  {
   "cell_type": "code",
   "execution_count": null,
   "metadata": {},
   "outputs": [],
   "source": [
    "n = int(input())\n",
    "\n",
    "sum = 1\n",
    "\n",
    "for i in range(1, n+1):\n",
    "    sum *= i    \n",
    "\n",
    "print(sum,, end = \"\")\n",
    "\n",
    "\n",
    "\n",
    "\n",
    "\n"
   ]
  },
  {
   "cell_type": "code",
   "execution_count": 9,
   "metadata": {},
   "outputs": [
    {
     "name": "stdout",
     "output_type": "stream",
     "text": [
      "3628800 "
     ]
    }
   ],
   "source": [
    "n = int(input())\n",
    "sum = 1\n",
    "\n",
    "for i in range(1, n+1):\n",
    "    sum *= i \n",
    "\n",
    "print(sum, end = \" \")"
   ]
  },
  {
   "cell_type": "raw",
   "metadata": {
    "vscode": {
     "languageId": "raw"
    }
   },
   "source": [
    "테스트 입력값\n",
    "\n",
    "입력 : 5\n",
    "출력 : 120\n",
    "\n",
    "입력 : 0\n",
    "출력 : 1\n",
    "\n",
    "입력 : 10\n",
    "출력 : 3628800"
   ]
  },
  {
   "cell_type": "markdown",
   "metadata": {},
   "source": [
    "## 문제 2\n",
    "정수 n을 입력받아, 1부터 n 사이의 숫자 중 팰린드롬 수(거꾸로 읽어도 같은 수)를 모두 출력하는 프로그램을 작성하세요.  \n",
    "예: 1부터 150 사이 팰린드롬 수 → 1,2,3,...,9,11,22,33,44,55,66,77,88,99,101,111,121,131,141"
   ]
  },
  {
   "cell_type": "code",
   "execution_count": 17,
   "metadata": {},
   "outputs": [
    {
     "name": "stdout",
     "output_type": "stream",
     "text": [
      "1\n",
      "2\n",
      "3\n",
      "4\n",
      "5\n",
      "6\n",
      "7\n",
      "8\n",
      "9\n",
      "11\n",
      "22\n"
     ]
    }
   ],
   "source": [
    "n = int(input(\"정수를 입력하세요:\"))\n",
    "\n",
    "for i in range(1, n+1):\n",
    "    i = str(i)\n",
    "    # 인덱스는 문자열 밖에 안되니까 \n",
    "    #  str 로 문자열로 바꿔주고 \n",
    "    if i == i[::-1]:\n",
    "        print(str(i))\n",
    "        "
   ]
  },
  {
   "cell_type": "code",
   "execution_count": 2,
   "metadata": {},
   "outputs": [
    {
     "name": "stdout",
     "output_type": "stream",
     "text": [
      "1\n",
      "2\n",
      "3\n",
      "4\n",
      "5\n",
      "6\n",
      "7\n",
      "8\n",
      "9\n",
      "11\n",
      "22\n",
      "33\n",
      "44\n",
      "55\n",
      "66\n",
      "77\n",
      "88\n",
      "99\n"
     ]
    }
   ],
   "source": [
    "n = int(input(\"입력:\"))\n",
    "\n",
    "for i in range(1, n+1):\n",
    "    i = str(i)\n",
    "    if i == i[::-1]:\n",
    "        print(str(i))\n"
   ]
  },
  {
   "cell_type": "raw",
   "metadata": {
    "vscode": {
     "languageId": "raw"
    }
   },
   "source": [
    "테스트 입력값\n",
    "\n",
    "입력 : 30\n",
    "출력 : 1 2 ... 9 ... 11 22"
   ]
  },
  {
   "cell_type": "markdown",
   "metadata": {},
   "source": [
    "## 문제 3\n",
    "사용자로부터 n을 입력받아, 다음과 같은 패턴을 출력하세요. (별과 공백의 패턴 응용)"
   ]
  },
  {
   "cell_type": "raw",
   "metadata": {
    "vscode": {
     "languageId": "raw"
    }
   },
   "source": [
    "n = 4 일 때,\n",
    "\n",
    "*---     (별 1개 뒤에 공백 3개)\n",
    "**--     (별 2개 뒤에 공백 2개)\n",
    "***-     (별 3개 뒤에 공백 1개)\n",
    "****     (별 4개 뒤에 공백 0개)\n",
    "\n",
    "(하이픈은 공백 표현용, 실제로는 공백문자 사용)"
   ]
  },
  {
   "cell_type": "code",
   "execution_count": 21,
   "metadata": {},
   "outputs": [
    {
     "name": "stdout",
     "output_type": "stream",
     "text": [
      "*         \n",
      "**        \n",
      "***       \n",
      "****      \n",
      "*****     \n",
      "******    \n",
      "*******   \n",
      "********  \n",
      "********* \n",
      "**********\n"
     ]
    }
   ],
   "source": [
    "'''\n",
    "n =int(input(\"입력:\"))\n",
    "for i in range(1, n+1):\n",
    "    print(\"*\"*i +\" \"*(n-1))\n",
    "'''\n",
    "\n",
    "n = int(input(\"입력: \"))\n",
    "for i in range(1, n + 1):\n",
    "    print(\"*\" * i + \" \" * (n - i))\n",
    "\n",
    "    "
   ]
  },
  {
   "cell_type": "code",
   "execution_count": 30,
   "metadata": {},
   "outputs": [
    {
     "name": "stdout",
     "output_type": "stream",
     "text": [
      "*    \n",
      "**    \n",
      "***    \n",
      "****    \n",
      "*****    \n"
     ]
    }
   ],
   "source": [
    "n = int(input(\"입력:\"))\n",
    "\n",
    "for i in range(1, n+1):\n",
    "    print(\"*\"*i +\" \"*(n-1))\n",
    "\n"
   ]
  },
  {
   "cell_type": "raw",
   "metadata": {
    "vscode": {
     "languageId": "raw"
    }
   },
   "source": [
    "테스트 입력값\n",
    "\n",
    "입력 : 3\n",
    "출력\n",
    "*  \n",
    "** \n",
    "***\n",
    "\n",
    "입력 : 5\n",
    "출력\n",
    "*    \n",
    "**   \n",
    "***  \n",
    "**** \n",
    "*****"
   ]
  },
  {
   "cell_type": "markdown",
   "metadata": {},
   "source": [
    "## 문제 4!! 문제 그대로 나옴!!!\n",
    "사용자로부터 문자열을 입력받아, 문자열에 포함된 모음(a,e,i,o,u)이 몇 개 있는지 세어 출력하는 프로그램을 작성하세요. (대소문자 구분 없이 모음을 센다고 가정)"
   ]
  },
  {
   "cell_type": "code",
   "execution_count": 30,
   "metadata": {},
   "outputs": [
    {
     "name": "stdout",
     "output_type": "stream",
     "text": [
      "5\n"
     ]
    }
   ],
   "source": [
    "text = input(\"문자열 입력:\")\n",
    "text = text.lower()\n",
    "\n",
    "v_count= 0\n",
    "\n",
    "for ch in text:\n",
    "    if ch in \"aeiou\":\n",
    "        v_count += 1    \n",
    "\n",
    "print(v_count)"
   ]
  },
  {
   "cell_type": "code",
   "execution_count": 16,
   "metadata": {},
   "outputs": [
    {
     "name": "stdout",
     "output_type": "stream",
     "text": [
      "2\n"
     ]
    }
   ],
   "source": [
    "text = input(\"문자열입력:\")\n",
    "\n",
    "text = text.lower()\n",
    "\n",
    "v_count = 0\n",
    "\n",
    "for ch in text:\n",
    "    if ch in \"aeiou\":\n",
    "        v_count += 1\n",
    "\n",
    "print(v_count)"
   ]
  },
  {
   "cell_type": "code",
   "execution_count": 15,
   "metadata": {},
   "outputs": [
    {
     "name": "stdout",
     "output_type": "stream",
     "text": [
      "4\n"
     ]
    }
   ],
   "source": [
    "text = input(\"문자열 입력 :\")\n",
    "# 입력 받음\n",
    "text = text.lower()\n",
    "# 다 소문자로 만듬\n",
    "vowel_count = 0\n",
    "# 모음 개수를 세기 위한 초기값 0으로 설정\n",
    "\n",
    "for ch in text:\n",
    "    # text의 각 문자를 순회함\n",
    "    if ch in \"aeiou\":\n",
    "        # ch에  현재 문자가 a,e,i,o,u 중 하나인지 확인\n",
    "\n",
    "        vowel_count += 1\n",
    "        # 현재 문자가 모음이면 하나씩 증가\n",
    "\n",
    "print(vowel_count)\n"
   ]
  },
  {
   "cell_type": "code",
   "execution_count": null,
   "metadata": {},
   "outputs": [],
   "source": [
    "text = input(\"문자열 입력:\")\n",
    "\n",
    "text = text.lower()\n",
    "vowel_count = 0\n",
    "\n",
    "for ch in text:\n",
    "    if ch in \"a\""
   ]
  },
  {
   "cell_type": "code",
   "execution_count": 35,
   "metadata": {},
   "outputs": [
    {
     "ename": "NameError",
     "evalue": "name 'aeiouAEIOU' is not defined",
     "output_type": "error",
     "traceback": [
      "\u001b[0;31m---------------------------------------------------------------------------\u001b[0m",
      "\u001b[0;31mNameError\u001b[0m                                 Traceback (most recent call last)",
      "Cell \u001b[0;32mIn[35], line 17\u001b[0m\n\u001b[1;32m     14\u001b[0m vowel_count \u001b[38;5;241m=\u001b[39m \u001b[38;5;241m0\u001b[39m \n\u001b[1;32m     16\u001b[0m \u001b[38;5;28;01mfor\u001b[39;00m ch \u001b[38;5;129;01min\u001b[39;00m text:\n\u001b[0;32m---> 17\u001b[0m     \u001b[38;5;28;01mif\u001b[39;00m ch \u001b[38;5;129;01min\u001b[39;00m aeiouAEIOU:\n\u001b[1;32m     18\u001b[0m         vowel_count \u001b[38;5;241m=\u001b[39m\u001b[38;5;241m+\u001b[39m \u001b[38;5;241m1\u001b[39m\n\u001b[1;32m     21\u001b[0m \u001b[38;5;28mprint\u001b[39m(vowel_count)\n",
      "\u001b[0;31mNameError\u001b[0m: name 'aeiouAEIOU' is not defined"
     ]
    }
   ],
   "source": [
    "text = input(\"문자열 입력:\")\n",
    "# 소문자 . lower 대문자 .upper()\n",
    "text= text.lower()\n",
    "vowel_count = 0\n",
    "\n",
    "for ch in text:\n",
    "    if ch in \"aeiou\":\n",
    "        vowel_count =+ 1\n",
    "\n",
    "    \n",
    "# print(vowel_count)\n",
    "\n",
    "\n",
    "vowel_count = 0 \n",
    "\n",
    "for ch in text:\n",
    "    if ch in aeiouAEIOU:\n",
    "        vowel_count =+ 1\n",
    "\n",
    "\n",
    "print(vowel_count)\n",
    "\n",
    "\n"
   ]
  },
  {
   "cell_type": "raw",
   "metadata": {
    "vscode": {
     "languageId": "raw"
    }
   },
   "source": [
    "테스트 입력값\n",
    "\n",
    "입력 : \"Hello\"\n",
    "출력 : 모음의 개수 : 2\n",
    "\n",
    "입력 : \"PYTHON\"\n",
    "출력 : 모음의 개수 : 1"
   ]
  },
  {
   "cell_type": "markdown",
   "metadata": {},
   "source": [
    "## 문제 5\n",
    "사용자로부터 정수 n을 입력받아, 1부터 n까지의 정수 중 처음으로 7의 배수가 나오면 그 수를 출력하고 반복문을 종료하세요. 만약 7의 배수가 없다면 \"7의 배수가 없습니다.\"를 출력하세요."
   ]
  },
  {
   "cell_type": "code",
   "execution_count": 25,
   "metadata": {},
   "outputs": [
    {
     "name": "stdout",
     "output_type": "stream",
     "text": [
      "처음발견된 7의 배수: 7\n"
     ]
    }
   ],
   "source": [
    "n = int(input(\"정수 입력하세요:\"))\n",
    "flag = False\n",
    "for i in range(1, n+1):\n",
    "    if i % 7 == 0:\n",
    "        print(\"처음발견된 7의 배수:\", i)\n",
    "        flag = True\n",
    "        break\n",
    "\n",
    "if flag == False:\n",
    "    print(\"7의 배수가 없습니다\")\n"
   ]
  },
  {
   "cell_type": "code",
   "execution_count": 46,
   "metadata": {},
   "outputs": [
    {
     "ename": "ValueError",
     "evalue": "invalid literal for int() with base 10: ''",
     "output_type": "error",
     "traceback": [
      "\u001b[0;31m---------------------------------------------------------------------------\u001b[0m",
      "\u001b[0;31mValueError\u001b[0m                                Traceback (most recent call last)",
      "Cell \u001b[0;32mIn[46], line 1\u001b[0m\n\u001b[0;32m----> 1\u001b[0m n \u001b[38;5;241m=\u001b[39m \u001b[38;5;28mint\u001b[39m(\u001b[38;5;28minput\u001b[39m(\u001b[38;5;124m\"\u001b[39m\u001b[38;5;124m입력:\u001b[39m\u001b[38;5;124m\"\u001b[39m))\n\u001b[1;32m      2\u001b[0m flag \u001b[38;5;241m=\u001b[39m \u001b[38;5;28;01mFalse\u001b[39;00m\n\u001b[1;32m      3\u001b[0m \u001b[38;5;28;01mfor\u001b[39;00m i \u001b[38;5;129;01min\u001b[39;00m \u001b[38;5;28mrange\u001b[39m(\u001b[38;5;241m1\u001b[39m, n\u001b[38;5;241m+\u001b[39m\u001b[38;5;241m1\u001b[39m):\n",
      "\u001b[0;31mValueError\u001b[0m: invalid literal for int() with base 10: ''"
     ]
    }
   ],
   "source": [
    "n = int(input(\"입력:\"))\n",
    "flag = False\n",
    "for i in range(1, n+1):\n",
    "    if i % 7 == 0:\n",
    "        print(\"처음발견 7의 배수:\", i)\n",
    "        flag = True\n",
    "        break\n",
    "    \n",
    "if flag == False:\n",
    "    print(\"7의 배수가 없습니다\")\n",
    "\n",
    "\n",
    "\n",
    "# or \n",
    "n = int(input(\"입력:\"))\n",
    "\n",
    "for i in range(1, n+1):\n",
    "    if i % 7 == 0:\n",
    "        print(\"처음발견 7의 배수:\", i)\n",
    " \n",
    "        break   \n",
    "else :\n",
    "        print(\"7의 배수가 없습니다\")"
   ]
  },
  {
   "cell_type": "raw",
   "metadata": {},
   "source": [
    "테스트 입력값\n",
    "\n",
    "입력 : 10\n",
    "출력 : 처음으로 발견한 7의 배수는 7\n",
    "\n",
    "입력 5\n",
    "출력 : 7의 배수가 없습니다."
   ]
  },
  {
   "cell_type": "markdown",
   "metadata": {},
   "source": [
    "# 심화"
   ]
  },
  {
   "cell_type": "markdown",
   "metadata": {},
   "source": [
    "## 문제 1\n",
    "사용자로부터 문자열을 입력받아, 각 문자가 문자열에서 몇 번 등장하는지 빈도수를 세어 출력하는 프로그램을 작성하세요. 대소문자를 구분하지 않는다고 가정합니다."
   ]
  },
  {
   "cell_type": "code",
   "execution_count": null,
   "metadata": {},
   "outputs": [],
   "source": [
    "text = input(\"문자열 입력:\").lower()\n",
    "freq_dict = "
   ]
  },
  {
   "cell_type": "code",
   "execution_count": 29,
   "metadata": {},
   "outputs": [
    {
     "name": "stdout",
     "output_type": "stream",
     "text": [
      "h:1\n",
      "e:2\n",
      "s:1\n",
      "i:1\n",
      "t:2\n",
      "a:1\n"
     ]
    }
   ],
   "source": [
    "text = input(\"문자열 입력: \").lower()\n",
    "\n",
    "freq_dict = {}\n",
    "# 각 문자의 빈도수를 저장할 빈딕셔러니를 만듬\n",
    "\n",
    "for ch in text:\n",
    "    if ch not in freq_dict:\n",
    "        freq_dict[ch] = 1\n",
    "    else:\n",
    "        freq_dict[ch] += 1\n",
    "\n",
    "  #  print(f\"{ch}: {freq_dict}\")\n",
    "\n",
    "for key, value in freq_dict.items():\n",
    "    print(f\"{key}:{value}\")"
   ]
  },
  {
   "cell_type": "code",
   "execution_count": 51,
   "metadata": {},
   "outputs": [
    {
     "name": "stdout",
     "output_type": "stream",
     "text": [
      "h : {'h': 1}\n",
      "e : {'h': 1, 'e': 1}\n",
      "l : {'h': 1, 'e': 1, 'l': 1}\n",
      "l : {'h': 1, 'e': 1, 'l': 2}\n",
      "o : {'h': 1, 'e': 1, 'l': 2, 'o': 1}\n",
      "h:1\n",
      "e:1\n",
      "l:2\n",
      "o:1\n"
     ]
    }
   ],
   "source": [
    "text = input(\"문자열 입력:\").lower()\n",
    "freq_dict = {}\n",
    "\n",
    "for ch in text:\n",
    "    if ch not in freq_dict:\n",
    "        freq_dict[ch] = 1\n",
    "    else:\n",
    "        freq_dict[ch] += 1 \n",
    "    print(f\"{ch} : {freq_dict}\")\n",
    "\n",
    "for key, value in freq_dict.items():\n",
    "    print(f\"{key}:{value}\")\n",
    "    "
   ]
  },
  {
   "cell_type": "code",
   "execution_count": null,
   "metadata": {},
   "outputs": [],
   "source": [
    "test_dict ={\"\"}"
   ]
  },
  {
   "cell_type": "raw",
   "metadata": {
    "vscode": {
     "languageId": "raw"
    }
   },
   "source": [
    "테스트 입력값\n",
    "\n",
    "입력 : \"Hello\"\n",
    "출력\n",
    "h:1\n",
    "e:1\n",
    "l:2\n",
    "o:1\n",
    "\n",
    "입력 : \"Mississippi\"\n",
    "출력\n",
    "m:1\n",
    "i:4\n",
    "s:4\n",
    "p:2"
   ]
  },
  {
   "cell_type": "markdown",
   "metadata": {},
   "source": [
    "## 문제 2\n",
    "공백으로 구분된 여러 개의 정수를 한 줄로 입력받아, 이들의 누적합(Cumulative Sum)을 구한 뒤, 각 단계의 누적합을 공백으로 구분하여 출력하는 프로그램을 작성하세요.  \n",
    "예: 입력: 1 3 5 2 → 출력: 1 4 9 11"
   ]
  },
  {
   "cell_type": "code",
   "execution_count": null,
   "metadata": {},
   "outputs": [],
   "source": []
  },
  {
   "cell_type": "raw",
   "metadata": {
    "vscode": {
     "languageId": "raw"
    }
   },
   "source": [
    "테스트 입력값\n",
    "\n",
    "입력 : \"1 3 5 2\"\n",
    "출력 : \"1 4 9 11\"\n",
    "\n",
    "입력 : \"10 20 30\"\n",
    "출력 : \"10 30 60\"\n",
    "\n",
    "입력 : \"10 10 10\"\n",
    "출력 : \"10 20 30\""
   ]
  },
  {
   "cell_type": "markdown",
   "metadata": {},
   "source": [
    "## 문제 3\n",
    "정수로 이루어진 리스트와 목표 합 target을 입력받아, 리스트 내에서 두 수의 합이 target이 되는 모든 쌍을 출력하세요.  \n",
    "단, (a,b)와 (b,a)는 같은 쌍으로 간주하므로 한 번만 출력해야 합니다.  \n",
    "예: 리스트 [2,4,3,5,7], target=9 → 가능한 쌍: (2,7), (4,5)"
   ]
  },
  {
   "cell_type": "code",
   "execution_count": null,
   "metadata": {},
   "outputs": [],
   "source": []
  },
  {
   "cell_type": "raw",
   "metadata": {},
   "source": [
    "테스트 입력 값\n",
    "\n",
    "입력\n",
    "리스트 정수 입력 : 2 4 3 5 7\n",
    "target :  9\n",
    "\n",
    "출력\n",
    "2 7\n",
    "4 5\n",
    "\n",
    "입력\n",
    "리스트 정수 입력 : 1 2 3\n",
    "target :  4\n",
    "\n",
    "출력\n",
    "1 3"
   ]
  }
 ],
 "metadata": {
  "kernelspec": {
   "display_name": "django",
   "language": "python",
   "name": "django"
  },
  "language_info": {
   "codemirror_mode": {
    "name": "ipython",
    "version": 3
   },
   "file_extension": ".py",
   "mimetype": "text/x-python",
   "name": "python",
   "nbconvert_exporter": "python",
   "pygments_lexer": "ipython3",
   "version": "3.10.15"
  }
 },
 "nbformat": 4,
 "nbformat_minor": 2
}
