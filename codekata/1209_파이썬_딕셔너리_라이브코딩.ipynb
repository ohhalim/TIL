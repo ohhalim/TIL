{
 "cells": [
  {
   "cell_type": "markdown",
   "metadata": {},
   "source": [
    "## 문제 1\n",
    "다음과 같은 정보를 담은 딕셔너리 person을 생성하고, 'name' 키를 이용해 값을 출력하세요.\n",
    "\n",
    "- 키: 'name', 값: '홍길동'\n",
    "- 키: 'age', 값: 30\n",
    "- 키: 'city', 값: '서울'"
   ]
  },
  {
   "cell_type": "code",
   "execution_count": 10,
   "metadata": {},
   "outputs": [
    {
     "name": "stdout",
     "output_type": "stream",
     "text": [
      "({'name': '홍길동'}, {'age': 30}, {'city': '서울'})\n",
      "{'name': '홍길동', 'age': 30, 'city': '서울'}\n",
      "{'name': '홍길동', 'age': 30, 'city': '서울'}\n"
     ]
    }
   ],
   "source": [
    "person = {'name': '홍길동'}, {'age': 30},  {'city': '서울'}\n",
    "print(person)\n",
    "\n",
    "\n",
    "dict1 = {'name': '홍길동', 'age': 30, 'city': '서울'}\n",
    "print(dict1)\n",
    "\n",
    "person = dict([['name', '홍길동'], ['age', 30], ['city', '서울']])\n",
    "# 데이터가 많을때 이걸로 함\n",
    "print(person)\n"
   ]
  },
  {
   "cell_type": "markdown",
   "metadata": {},
   "source": [
    "## 문제 2\n",
    "다음 딕셔너리 person = {'name': '홍길동', 'age': 30}가 있을 때, 'city' 키에 해당하는 값을 get() 메서드를 사용하여 가져오되, 키가 없을 경우 'Unknown'을 반환하도록 하세요."
   ]
  },
  {
   "cell_type": "code",
   "execution_count": 15,
   "metadata": {},
   "outputs": [
    {
     "name": "stdout",
     "output_type": "stream",
     "text": [
      "Unknown\n"
     ]
    }
   ],
   "source": [
    "person = {'name': '홍길동', 'age': 30}\n",
    "\n",
    "city_value =person.get('city', 'Unknown')\n",
    "print(city_value)\n",
    "\n",
    "# 값을 가져오는 방식에 get을 사용하면 없을때 에러가 안남\n"
   ]
  },
  {
   "cell_type": "markdown",
   "metadata": {},
   "source": [
    "## 문제 3\n",
    "car = {'brand': 'Ford', 'model': 'Mustang'}가 있을 때, 'year' 키를 1964로 추가하고, 'model' 값을 'Thunderbird'로 변경하세요."
   ]
  },
  {
   "cell_type": "code",
   "execution_count": 23,
   "metadata": {},
   "outputs": [
    {
     "name": "stdout",
     "output_type": "stream",
     "text": [
      "{'brand': 'Ford', 'model': 'Mustang', 'year': 1964}\n",
      "{'brand': 'Ford', 'model': 'Thunderbird', 'year': 1964}\n"
     ]
    }
   ],
   "source": [
    "car = {'brand': 'Ford', 'model': 'Mustang'}\n",
    "car.update({'year': 1964})\n",
    "print(car)\n",
    "car['model'] = 'Thunderbird'\n",
    "print(car)\n"
   ]
  },
  {
   "cell_type": "code",
   "execution_count": 26,
   "metadata": {},
   "outputs": [
    {
     "name": "stdout",
     "output_type": "stream",
     "text": [
      "{'brand': ['ford', 'samsung', 'lg', 'SK'], 'model': 'mustang'}\n"
     ]
    }
   ],
   "source": [
    "car = {'brand': ['ford', 'samsung', 'lg'], 'model': 'mustang'}\n",
    "# append를 사용헤서 추가\n",
    "car['brand'].append('SK')\n",
    "print(car)"
   ]
  },
  {
   "cell_type": "markdown",
   "metadata": {},
   "source": [
    "## 문제 4\n",
    "문제: fruit = {'apple': 2, 'banana': 3, 'cherry': 5}가 있을 때, 'banana' 키-값 쌍을 제거하고, 제거된 값을 출력한 뒤 딕셔너리를 확인하세요."
   ]
  },
  {
   "cell_type": "code",
   "execution_count": 22,
   "metadata": {},
   "outputs": [
    {
     "name": "stdout",
     "output_type": "stream",
     "text": [
      "{'apple': 2, 'cherry': 5}\n",
      "{'apple': 2}\n"
     ]
    }
   ],
   "source": [
    "fruit = {'apple': 2, 'banana': 3, 'cherry': 5}\n",
    "del fruit['banana']\n",
    "print(fruit)\n",
    "\n",
    "fruit.pop('cherry')\n",
    "\n",
    "print(fruit)\n",
    "# del , pop 으로 삭제 할수있음"
   ]
  },
  {
   "cell_type": "markdown",
   "metadata": {},
   "source": [
    "## 문제 5\n",
    "person = {'name': 'Alice', 'age': 25, 'city': 'New York'}에 대하여, key 값들과, value 값들, 그리고 key와 value 값 동시(items)에 출력하세요."
   ]
  },
  {
   "cell_type": "code",
   "execution_count": 32,
   "metadata": {},
   "outputs": [
    {
     "name": "stdout",
     "output_type": "stream",
     "text": [
      "dict_keys(['name', 'age', 'city'])\n",
      "dict_values(['Alice', 25, 'New York'])\n",
      "dict_items([('name', 'Alice'), ('age', 25), ('city', 'New York')])\n"
     ]
    }
   ],
   "source": [
    "person = {'name': 'Alice', 'age': 25, 'city': 'New York'}\n",
    "# person.items(key='name', 'age', 'city')\n",
    "print(person.keys())\n",
    "print(person.values())\n",
    "print(person.items())\n",
    "# items 많이 사용함"
   ]
  },
  {
   "cell_type": "markdown",
   "metadata": {},
   "source": [
    "## 문제 6\n",
    "문제: d = {'a': 1, 'b': 2}가 있을 때, 다른 딕셔너리 d2 = {'b': 3, 'c': 4} 로 업데이트하고, 결과를 출력하세요."
   ]
  },
  {
   "cell_type": "code",
   "execution_count": 34,
   "metadata": {},
   "outputs": [
    {
     "name": "stdout",
     "output_type": "stream",
     "text": [
      "{'a': 1, 'b': 3, 'c': 4}\n"
     ]
    }
   ],
   "source": [
    "d = {'a': 1, 'b': 2}\n",
    "d2 = {'b': 3, 'c': 4} \n",
    "d.update(d2)\n",
    "print(d)\n",
    "# 키는 고유한 값이 어야함 \n",
    "# 업데이트 될때는 최신값으로 업데이트됨\n"
   ]
  },
  {
   "cell_type": "markdown",
   "metadata": {},
   "source": [
    "## 문제 7\n",
    "person = {'name': 'Alice', 'age': 25, 'city': 'New York'}를 순회하여 key, value 값을 출력해보세요. (반복문, items 사용)"
   ]
  },
  {
   "cell_type": "raw",
   "metadata": {
    "vscode": {
     "languageId": "raw"
    }
   },
   "source": [
    "예상 출력 : \n",
    "\n",
    "name Alice\n",
    "age 25\n",
    "city New York"
   ]
  },
  {
   "cell_type": "code",
   "execution_count": 37,
   "metadata": {},
   "outputs": [
    {
     "name": "stdout",
     "output_type": "stream",
     "text": [
      "name Alice\n",
      "age 25\n",
      "city New York\n"
     ]
    }
   ],
   "source": [
    "person = {'name': 'Alice', 'age': 25, 'city': 'New York'} \n",
    "for key, value in person.items():\n",
    "    print(key, value)\n",
    "\n",
    "    \n",
    "'''중요!!!!!!!!'''\n",
    "\n"
   ]
  },
  {
   "cell_type": "markdown",
   "metadata": {},
   "source": [
    "## 문제 8\n",
    "1부터 5까지의 숫자를 키로 하고, 각 숫자의 세제곱을 값으로 하는 딕셔너리를 딕셔너리 컴프리헨션을 사용하여 만드세요. (반복문 사용) "
   ]
  },
  {
   "cell_type": "code",
   "execution_count": 41,
   "metadata": {},
   "outputs": [
    {
     "name": "stdout",
     "output_type": "stream",
     "text": [
      "{1: 1, 2: 8, 3: 27, 4: 64, 5: 125}\n",
      "{1: 1, 2: 8, 3: 27, 4: 64, 5: 125}\n"
     ]
    }
   ],
   "source": [
    "\n",
    "result = {}\n",
    "for num in range(1, 6):\n",
    "    result[num] = num ** 3\n",
    "print(result)\n",
    "\n",
    "# 딕셔너리 컴프리헨션\n",
    "result = {num: num ** 3 for num in range(1, 6)}\n",
    "\n",
    "print(result)"
   ]
  },
  {
   "cell_type": "markdown",
   "metadata": {},
   "source": [
    "## 문제 9\n",
    "prices = {'apple': 2.5, 'banana': 1.8, 'cherry': 3.0}에서 가격이 2.0 이상인 과일만을 담은 딕셔너리를 딕셔너리 컴프리헨션을 이용하여 만드세요. (반복문 사용)"
   ]
  },
  {
   "cell_type": "code",
   "execution_count": 46,
   "metadata": {},
   "outputs": [
    {
     "name": "stdout",
     "output_type": "stream",
     "text": [
      "{'apple': 2.5, 'cherry': 3.0}\n",
      "key가 없습니다\n",
      "{'apple': 2.5, 'cherry': 3.0}\n"
     ]
    }
   ],
   "source": [
    "prices = {'apple': 2.5, 'banana': 1.8, 'cherry': 3.0}\n",
    "result = {}\n",
    "for key, value in prices.items():\n",
    "    if value >= 2.0:\n",
    "        result[key] = value\n",
    "\n",
    "print(result)\n",
    "if 'key' in prices:\n",
    "    2.0 > prices['key']\n",
    "    result = prices['key']\n",
    "else: \n",
    "    result = 'key가 없습니다'\n",
    "\n",
    "print(result)\n",
    "\n",
    "result = {key:value for key, value in prices.items() if value >= 2.0}\n",
    "# 반복문 뒤에 조건문을 사용하면 돼\n",
    "print(result)"
   ]
  },
  {
   "cell_type": "markdown",
   "metadata": {},
   "source": [
    "## 문제 10\n",
    "person = {'name': 'Alice', 'age': 25, 'city': 'New York'}에서 'name' 키가 존재하는지, 'email' 키가 존재하는지 확인하세요! (특정 연산자 사용)"
   ]
  },
  {
   "cell_type": "code",
   "execution_count": 49,
   "metadata": {},
   "outputs": [
    {
     "name": "stdout",
     "output_type": "stream",
     "text": [
      "True\n",
      "False\n"
     ]
    },
    {
     "ename": "NameError",
     "evalue": "name 'resulf' is not defined",
     "output_type": "error",
     "traceback": [
      "\u001b[0;31m---------------------------------------------------------------------------\u001b[0m",
      "\u001b[0;31mNameError\u001b[0m                                 Traceback (most recent call last)",
      "Cell \u001b[0;32mIn[49], line 7\u001b[0m\n\u001b[1;32m      4\u001b[0m \u001b[38;5;28mprint\u001b[39m(\u001b[38;5;124m'\u001b[39m\u001b[38;5;124memail\u001b[39m\u001b[38;5;124m'\u001b[39m \u001b[38;5;129;01min\u001b[39;00m person)\n\u001b[1;32m      6\u001b[0m \u001b[38;5;28;01mfor\u001b[39;00m key, value \u001b[38;5;129;01min\u001b[39;00m person\u001b[38;5;241m.\u001b[39mitems():\n\u001b[0;32m----> 7\u001b[0m     \u001b[38;5;28;01mif\u001b[39;00m key \u001b[38;5;129;01min\u001b[39;00m resulf:\n\u001b[1;32m      8\u001b[0m          result[key] \u001b[38;5;241m=\u001b[39m value\n\u001b[1;32m      9\u001b[0m \u001b[38;5;28mprint\u001b[39m(result)\n",
      "\u001b[0;31mNameError\u001b[0m: name 'resulf' is not defined"
     ]
    }
   ],
   "source": [
    "person = {'name': 'Alice', 'age': 25, 'city': 'New York'} \n",
    "''' 중요!!!!!'''\n",
    "print('name' in person)\n",
    "print('email' in person)\n",
    "\n",
    "for key, value in person.items():\n",
    "    if key in resulf:\n",
    "         result[key] = value\n",
    "print(result)"
   ]
  },
  {
   "cell_type": "markdown",
   "metadata": {},
   "source": [
    "## 문제 11\n",
    "student2의 'age' 값 중 20의 값을 출력하세요."
   ]
  },
  {
   "cell_type": "raw",
   "metadata": {
    "vscode": {
     "languageId": "raw"
    }
   },
   "source": [
    "students = {\n",
    "    'student1': {'name': 'Alice', 'age': [25, 26, 27, 28, 29]},\n",
    "    'student2': {'name': 'Bob', 'age': [18, 19, 20, 21, 22]},\n",
    "    'student3': {'name': 'Charlie', 'age': 23}\n",
    "}\n",
    "\n"
   ]
  },
  {
   "cell_type": "code",
   "execution_count": 57,
   "metadata": {},
   "outputs": [
    {
     "name": "stdout",
     "output_type": "stream",
     "text": [
      "20\n",
      "23\n"
     ]
    }
   ],
   "source": [
    "students = {\n",
    "    'student1': {'name': 'Alice', 'age': [25, 26, 27, 28, 29]},\n",
    "    'student2': {'name': 'Bob', 'age': [18, 19, 20, 21, 22]},\n",
    "    'student3': {'name': 'Charlie', 'age': 23}\n",
    "}\n",
    "\n",
    "print(students['student2']['age'][2])\n",
    "print(students['student3']['age'])"
   ]
  },
  {
   "cell_type": "markdown",
   "metadata": {},
   "source": [
    "# 응용"
   ]
  },
  {
   "cell_type": "markdown",
   "metadata": {},
   "source": [
    "## 문제 1\n",
    "keys = ['name', 'age', 'city'], values = ['Alice', 25, 'New York'] 인 두 리스트를 하나의 딕셔너리로 변환하세요 (zip 사용)"
   ]
  },
  {
   "cell_type": "markdown",
   "metadata": {},
   "source": []
  },
  {
   "cell_type": "code",
   "execution_count": 69,
   "metadata": {},
   "outputs": [
    {
     "ename": "TypeError",
     "evalue": "unhashable type: 'list'",
     "output_type": "error",
     "traceback": [
      "\u001b[0;31m---------------------------------------------------------------------------\u001b[0m",
      "\u001b[0;31mTypeError\u001b[0m                                 Traceback (most recent call last)",
      "Cell \u001b[0;32mIn[69], line 16\u001b[0m\n\u001b[1;32m      2\u001b[0m values \u001b[38;5;241m=\u001b[39m [\u001b[38;5;124m'\u001b[39m\u001b[38;5;124mAlice\u001b[39m\u001b[38;5;124m'\u001b[39m, \u001b[38;5;241m25\u001b[39m, \u001b[38;5;124m'\u001b[39m\u001b[38;5;124mNew York\u001b[39m\u001b[38;5;124m'\u001b[39m]\n\u001b[1;32m      3\u001b[0m \u001b[38;5;124;03m'''\u001b[39;00m\n\u001b[1;32m      4\u001b[0m \u001b[38;5;124;03mdict1 = dict(zip(keys, values))\u001b[39;00m\n\u001b[1;32m      5\u001b[0m \u001b[38;5;124;03m# numbers = [1,2,3]\u001b[39;00m\n\u001b[0;32m   (...)\u001b[0m\n\u001b[1;32m     13\u001b[0m \u001b[38;5;124;03m                print(pair)\u001b[39;00m\n\u001b[1;32m     14\u001b[0m \u001b[38;5;124;03m'''\u001b[39;00m\n\u001b[0;32m---> 16\u001b[0m persin_1 \u001b[38;5;241m=\u001b[39m \u001b[38;5;28mdict\u001b[39m(\u001b[38;5;28mzip\u001b[39m(keys,values))\n",
      "\u001b[0;31mTypeError\u001b[0m: unhashable type: 'list'"
     ]
    }
   ],
   "source": [
    "keys = ['name', 'age', 'city'], \n",
    "values = ['Alice', 25, 'New York']\n",
    "'''\n",
    "dict1 = dict(zip(keys, values))\n",
    "# numbers = [1,2,3]\n",
    "letter = [\"A\", \"B\", \"C\"]\n",
    "for i in range(3):\n",
    "    pair = {numbers[i], letter[i]}\n",
    "    print(pair)\n",
    "\n",
    "\n",
    "for pair in zip('numbers':'letter')\n",
    "                print(pair)\n",
    "'''\n",
    "\n",
    "persin_1 = dict(zip(keys,values))\n",
    "\n",
    "# enumerate -> 인덱스와 값을 같이 가져옴\n"
   ]
  },
  {
   "cell_type": "markdown",
   "metadata": {},
   "source": [
    "## 문제 2\n",
    "키로 사용할 수 없는 자료형은 아래에서 모두 고르세요."
   ]
  },
  {
   "cell_type": "raw",
   "metadata": {
    "vscode": {
     "languageId": "raw"
    }
   },
   "source": [
    "my_dict = {\n",
    "    [1, 2, 3]: 'This is a list',   --------------------- 1\n",
    "    'name': 'Alice', --------------------- 2\n",
    "    (2, 4) : 'hello', --------------------- 3 \n",
    "    {'age' : 24} : 'pink', --------------------- 4\n",
    "    5 : 'temp int', --------------------- 5 \n",
    "    True : 'False' --------------------- 6\n",
    "}\n",
    "\n",
    "가변 자료형은 딕셔너리의 키로 사용할 수 없다.\n",
    "따라서 1, 4번은 딕셔너리의 키로 사용할 수 없다.\n",
    "리스트, 딕셔너리, 집합은 딕셔너리의 키로 사용할 수 없다."
   ]
  },
  {
   "cell_type": "raw",
   "metadata": {},
   "source": []
  },
  {
   "cell_type": "markdown",
   "metadata": {},
   "source": []
  },
  {
   "cell_type": "markdown",
   "metadata": {},
   "source": [
    "## 문제 3\n",
    "아래와 같은 딕셔너리가 있을 때, 'salary'가 높은 순으로 정렬한 딕셔너리를 출력하세요."
   ]
  },
  {
   "cell_type": "raw",
   "metadata": {
    "vscode": {
     "languageId": "raw"
    }
   },
   "source": [
    "company_info = {\n",
    "    \"VoyagerX\" : 4800,\n",
    "    \"DAOU IDC\" : 4500,\n",
    "    \"LINE Plus\" : 5400,\n",
    "    \"KT DS\" : 5200,\n",
    "    \"ScatterLabs\" : 4100\n",
    "}"
   ]
  },
  {
   "cell_type": "code",
   "execution_count": 81,
   "metadata": {},
   "outputs": [
    {
     "name": "stdout",
     "output_type": "stream",
     "text": [
      "[('LINE Plus', 5400), ('KT DS', 5200), ('VoyagerX', 4800), ('DAOU IDC', 4500), ('ScatterLabs', 4100)]\n"
     ]
    }
   ],
   "source": [
    "company_info = {\n",
    "    \"VoyagerX\" : 4800,\n",
    "    \"DAOU IDC\" : 4500,\n",
    "    \"LINE Plus\" : 5400,\n",
    "    \"KT DS\" : 5200,\n",
    "    \"ScatterLabs\" : 4100\n",
    "}\n",
    "company_info = sorted(company_info.items(), key=lambda x: x[1], reverse=True)\n",
    "print(company_info)\n",
    "\n",
    "# 람다 함수 : 이름이 없는 함수\n"
   ]
  },
  {
   "cell_type": "markdown",
   "metadata": {},
   "source": [
    "## 문제 4\n",
    "다음 텍스트에서 단어의 빈도수를 계산하세요."
   ]
  },
  {
   "cell_type": "raw",
   "metadata": {
    "vscode": {
     "languageId": "raw"
    }
   },
   "source": [
    "text = \"apple banana apple cherry banana apple\"\n",
    "\n",
    "예상 출력 : {'apple': 3, 'banana': 2, 'cherry': 1}"
   ]
  },
  {
   "cell_type": "code",
   "execution_count": 83,
   "metadata": {},
   "outputs": [
    {
     "ename": "NameError",
     "evalue": "name 'count' is not defined",
     "output_type": "error",
     "traceback": [
      "\u001b[0;31m---------------------------------------------------------------------------\u001b[0m",
      "\u001b[0;31mNameError\u001b[0m                                 Traceback (most recent call last)",
      "Cell \u001b[0;32mIn[83], line 2\u001b[0m\n\u001b[1;32m      1\u001b[0m text \u001b[38;5;241m=\u001b[39m \u001b[38;5;124m\"\u001b[39m\u001b[38;5;124mapple banana apple cherry banana apple\u001b[39m\u001b[38;5;124m\"\u001b[39m\n\u001b[0;32m----> 2\u001b[0m \u001b[38;5;28mprint\u001b[39m(count\u001b[38;5;241m.\u001b[39mtext(apple))\n",
      "\u001b[0;31mNameError\u001b[0m: name 'count' is not defined"
     ]
    }
   ],
   "source": [
    "text = \"apple banana apple cherry banana apple\"\n",
    "print(count.text(apple))\n"
   ]
  },
  {
   "cell_type": "code",
   "execution_count": null,
   "metadata": {},
   "outputs": [],
   "source": []
  }
 ],
 "metadata": {
  "kernelspec": {
   "display_name": "llm",
   "language": "python",
   "name": "llm"
  },
  "language_info": {
   "codemirror_mode": {
    "name": "ipython",
    "version": 3
   },
   "file_extension": ".py",
   "mimetype": "text/x-python",
   "name": "python",
   "nbconvert_exporter": "python",
   "pygments_lexer": "ipython3",
   "version": "3.12.7"
  }
 },
 "nbformat": 4,
 "nbformat_minor": 2
}
