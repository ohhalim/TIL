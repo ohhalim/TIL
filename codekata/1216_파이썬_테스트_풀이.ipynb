{
  "cells": [
    {
      "cell_type": "markdown",
      "metadata": {
        "id": "x0Vl7nJC_-NZ"
      },
      "source": [
        "기초 : 1~3번  \n",
        "응용 : 4~7번  \n",
        "도전 : 1-2번  "
      ]
    },
    {
      "cell_type": "markdown",
      "metadata": {
        "id": "QA6Ljr_v_-Na"
      },
      "source": [
        "# 문제 1번\n",
        "## 문제 내용:\n",
        "사용자로부터 문자열을 하나 입력받아, 해당 문자열에 포함된 모음('a', 'e', 'i', 'o', 'u')의 개수를 세어 출력하세요.  \n",
        "단, 대소문자 구분 없이 처리하고, 문자열에 알파벳이 아닌 문자가 섞여 있어도 모음만 정확히 세면 됩니다."
      ]
    },
    {
      "cell_type": "raw",
      "metadata": {
        "vscode": {
          "languageId": "raw"
        },
        "id": "bP3VUx28_-Na"
      },
      "source": [
        "테스트 케이스 (입력 → 기대출력)\n",
        "\n",
        "1. \"Hello, World!\" → 3\n",
        "2. \"Python\" → 1 (y는 모음이 아님. p, y, t, h, o, n 중 'o' 1개만 모음)\n",
        "3. \"AEIOU\" → 5 (대문자도 모음 모두 포함)\n",
        "4. \"zzz\" → 0 (모음 없음)\n",
        "5. \"I love Python 3.8!\" → 4 (i, o, e, o 총 4개)"
      ]
    },
    {
      "cell_type": "code",
      "execution_count": null,
      "metadata": {
        "id": "mcTV1K_8_-Nb",
        "outputId": "c8738ae8-24ed-4118-bc09-b4084e6b64f0"
      },
      "outputs": [
        {
          "name": "stdout",
          "output_type": "stream",
          "text": [
            "4\n"
          ]
        }
      ],
      "source": [
        "user_input = input(\"문자열을 입력하세요 : \").strip().lower()\n",
        "vowels = \"aeiou\"\n",
        "count = 0\n",
        "\n",
        "for ch in user_input:\n",
        "    if ch in vowels:\n",
        "        count += 1\n",
        "\n",
        "print(count)"
      ]
    },
    {
      "cell_type": "markdown",
      "metadata": {
        "id": "xlhnVqlf_-Nc"
      },
      "source": [
        "해설 :\n",
        "\n",
        "- input()을 통해 문자열을 받는다.\n",
        "- .lower()를 사용해 모두 소문자로 변환한다.\n",
        "- 모음 리스트(또는 문자열) vowels = \"aeiou\"를 준비한다.\n",
        "- 반복문을 통해 문자열의 각 문자를 확인한 뒤, 해당 문자가 모음이라면 count를 1 증가시킨다.\n",
        "- 반복문 종료 후 print(count)로 결과를 출력한다."
      ]
    },
    {
      "cell_type": "markdown",
      "metadata": {
        "id": "EI2akJuv_-Nc"
      },
      "source": [
        "## 문제 2번\n",
        "### 문제 내용:\n",
        "다음과 같은 튜플이 주어져 있다고 가정하세요:\n",
        "```python\n",
        "fruits = (\"apple\", \"banana\", \"cherry\", \"orange\", \"grape\")\n",
        "```\n",
        "사용자로부터 과일 이름 하나를 입력받아, 해당 과일이 튜플 fruits 안에 존재하면 \"존재합니다\"를, 존재하지 않으면 \"존재하지 않습니다\"를 출력하세요.  \n",
        "단, 존재하는 경우 해당 과일의 인덱스도 함께 출력하세요."
      ]
    },
    {
      "cell_type": "raw",
      "metadata": {
        "vscode": {
          "languageId": "raw"
        },
        "id": "h1vWQ5IF_-Nc"
      },
      "source": [
        "테스트 케이스 (입력 → 기대출력)\n",
        "\n",
        "1. \"apple\" → \"존재합니다\" / \"인덱스: 0\"\n",
        "2. \"banana\" → \"존재합니다\" / \"인덱스: 1\"\n",
        "3. \"grape\" → \"존재합니다\" / \"인덱스: 4\"\n",
        "4. \"melon\" → \"존재하지 않습니다\" (melon은 튜플에 없음)\n",
        "5. \"Cherry\" → \"존재하지 않습니다\" (대소문자 구분, cherry는 소문자로만 존재)"
      ]
    },
    {
      "cell_type": "code",
      "execution_count": null,
      "metadata": {
        "id": "AB0jnHwI_-Nc",
        "outputId": "7b04cc54-09f6-48fb-b0cc-442147e7b931"
      },
      "outputs": [
        {
          "name": "stdout",
          "output_type": "stream",
          "text": [
            "존재하지 않습니다.\n"
          ]
        }
      ],
      "source": [
        "fruits = (\"apple\", \"banana\", \"cherry\", \"orange\", \"grape\")\n",
        "user_input = input(\"과일 이름 하나를 입력하세요 : \").strip()\n",
        "\n",
        "if user_input in fruits:\n",
        "    fruit_index = fruits.index(user_input)\n",
        "    print(\"존재합니다.\")\n",
        "    print(\"인덱스 : \", fruit_index)\n",
        "else:\n",
        "    print(\"존재하지 않습니다.\")"
      ]
    },
    {
      "cell_type": "markdown",
      "metadata": {
        "id": "eikd7yY4_-Nd"
      },
      "source": [
        "해설 :\n",
        "\n",
        "- 고정된 튜플 fruits에서 사용자 입력 과일이 in 연산자를 통해 존재하는지 확인한다.\n",
        "- 존재하면 \"존재합니다\" 출력 후, fruits.index(user_input)로 인덱스를 찾아 출력.\n",
        "- 존재하지 않으면 \"존재하지 않습니다\"를 출력한다."
      ]
    },
    {
      "cell_type": "markdown",
      "metadata": {
        "id": "nSIhg09r_-Nd"
      },
      "source": [
        "# 문제 3번\n",
        "## 문제 내용:\n",
        "사용자로부터 정수들을 공백으로 구분하여 입력받아 리스트로 저장한 뒤, 해당 리스트를 오름차순 정렬하고, 리스트 내 원소 중 짝수만 골라 그 합을 출력하세요.  \n",
        "단, 짝수가 하나도 없으면 합은 0을 출력하세요."
      ]
    },
    {
      "cell_type": "raw",
      "metadata": {
        "vscode": {
          "languageId": "raw"
        },
        "id": "u4dOxRP1_-Nd"
      },
      "source": [
        "테스트 케이스 (입력 → 기대출력)\n",
        "\n",
        "1. \"4 7 2 9 10\" → 정렬: [2,4,7,9,10], 짝수합: 16\n",
        "2. \"1 3 5\" → 정렬: [1,3,5], 짝수 없음, 출력: 0\n",
        "3. \"2 2 2\" → 정렬: [2,2,2], 짝수합: 6\n",
        "4. \"10 5 2\" → 정렬: [2,5,10], 짝수합: 12\n",
        "5. \"9 1 8 3\" → 정렬: [1,3,8,9], 짝수합: 8"
      ]
    },
    {
      "cell_type": "code",
      "execution_count": null,
      "metadata": {
        "id": "QYNwktAc_-Nd",
        "outputId": "62f96a7a-00b2-4d9b-a038-30b630725bd7"
      },
      "outputs": [
        {
          "name": "stdout",
          "output_type": "stream",
          "text": [
            "8\n"
          ]
        }
      ],
      "source": [
        "num_list = list(map(int, input(\"정수들을 입력하세요 : \").split()))\n",
        "num_list.sort()\n",
        "\n",
        "even_sum = 0\n",
        "for num in num_list:\n",
        "    if num % 2 == 0:\n",
        "        even_sum += num\n",
        "\n",
        "print(even_sum)"
      ]
    },
    {
      "cell_type": "markdown",
      "metadata": {
        "id": "Aa66clok_-Nd"
      },
      "source": [
        "해설 :\n",
        "\n",
        "- 문자열을 입력받고 split()으로 분리한 뒤, 리스트 컴프리헨션으로 정수 리스트를 만든다.\n",
        "- .sort()를 이용해 오름차순 정렬한다.\n",
        "- 반복문을 돌며 짝수 판단(n % 2 == 0) 후 합산한다.\n",
        "- 모든 반복 후 print(even_sum) 출력한다. 짝수가 하나도 없으면 초기값 0 출력."
      ]
    },
    {
      "cell_type": "markdown",
      "metadata": {
        "id": "ZlOAyJuv_-Nd"
      },
      "source": [
        "# 문제 4번\n",
        "## 문제 내용:\n",
        "사용자로부터 콤마(,)로 구분된 단어들을 입력받아 리스트로 만든 뒤, 각 단어의 길이를 딕셔너리에 {단어: 길이} 형태로 저장하고 출력하세요. 그 후, 길이가 5글자 이상인 단어들만 \"5글자 이상 단어:\" 라는 문구와 함께 모두 출력하세요."
      ]
    },
    {
      "cell_type": "raw",
      "metadata": {
        "vscode": {
          "languageId": "raw"
        },
        "id": "4D9Iq61u_-Ne"
      },
      "source": [
        "테스트 케이스 (입력 → 기대출력)\n",
        "\n",
        "1. \"apple,cat,banana,hi,python\" → {'apple': 5, 'cat': 3, 'banana': 6, 'hi': 2, 'python': 6}, \"5글자 이상 단어: apple banana python\"\n",
        "2. \"dog,cat,mouse\" → {'dog': 3, 'cat': 3, 'mouse': 5}, \"5글자 이상 단어: mouse\" (mouse만 5글자 이상)\n",
        "3. \"hi,bye\" → {'hi': 2, 'bye': 3}, \"5글자 이상 단어:\" (없으므로 뒤에 아무것도 출력 안 함)\n",
        "4. \"Hello, world, test, condition\" → {'Hello': 5, ' world': 6, ' test': 5, ' condition': 10}, \"5글자 이상 단어: Hello world condition\" (Hello(5), world(5), condition(9))\n",
        "5. \"a,b,c,d,e\" → {'a': 1, 'b': 1, 'c': 1, 'd': 1, 'e': 1}, \"5글자 이상 단어:\" (전부 한 글자)"
      ]
    },
    {
      "cell_type": "code",
      "execution_count": null,
      "metadata": {
        "id": "A34KoT1f_-Ne",
        "outputId": "39542e5e-9715-419f-83f5-f492f86c240c"
      },
      "outputs": [
        {
          "name": "stdout",
          "output_type": "stream",
          "text": [
            "{'a': 1, 'b': 1, 'c': 1, 'd': 1, 'e': 1}\n",
            "5글자 이상 단어: \n"
          ]
        }
      ],
      "source": [
        "user_input = list(map(str, input(\"단어들을 입력하세요 : \").strip().split(',')))\n",
        "length_dict = {}\n",
        "\n",
        "for word in user_input:\n",
        "    length_dict[word] = len(word)\n",
        "\n",
        "print(length_dict)\n",
        "\n",
        "long_words = [w for w in user_input if len(w) >= 5]\n",
        "print(\"5글자 이상 단어:\", ' '.join(long_words))"
      ]
    },
    {
      "cell_type": "markdown",
      "metadata": {
        "id": "otQ7k-AH_-Ne"
      },
      "source": [
        "해설 :\n",
        "\n",
        "- 문자열을 입력받아 split(\",\")으로 단어 리스트를 만든다. 그리고 동시에 공백도 제거한다.\n",
        "- 반복문으로 각 단어의 길이를 딕셔너리에 {단어: 길이} 형태로 저장하고 출력한다.\n",
        "- 그리고, 길이가 5 이상인 단어만 필터링한 후, \"5글자 이상 단어: \" 뒤에 공백으로 구분해 출력한다."
      ]
    },
    {
      "cell_type": "markdown",
      "metadata": {
        "id": "koT2_M0s_-Ne"
      },
      "source": [
        "# 문제 5번\n",
        "## 문제 내용:\n",
        "사용자로부터 \"이름 나이\" 형태의 정보를 5번 입력받아 딕셔너리에 {이름: 나이} 형태로 저장하세요. 그 후, 나이가 20세 이상인 사람의 이름을 모두 리스트에 담아 알파벳 순서로 정렬한 뒤 출력하세요. (나이는 정수로 변환)"
      ]
    },
    {
      "cell_type": "raw",
      "metadata": {
        "vscode": {
          "languageId": "raw"
        },
        "id": "5WD-98rI_-Ne"
      },
      "source": [
        "테스트 케이스\n",
        "\n",
        "1.\n",
        "입력\n",
        "Tom 21\n",
        "Alice 19\n",
        "Bob 20\n",
        "Charlie 30\n",
        "Dave 15\n",
        "\n",
        "출력 : \"Bob Charlie Tom\"\n",
        "\n",
        "2.\n",
        "입력\n",
        "Ann 20\n",
        "Paul 20\n",
        "Zed 19\n",
        "Hank 25\n",
        "Kim 30\n",
        "\n",
        "출력 : \"Ann Hank Kim Paul\"\n",
        "\n",
        "3.\n",
        "입력\n",
        "John 25\n",
        "Jane 23\n",
        "Jake 17\n",
        "Jill 19\n",
        "James 22\n",
        "\n",
        "출력 : \"James Jane John\"\n",
        "\n",
        "4.\n",
        "입력\n",
        "Mark 20\n",
        "Lia 20\n",
        "Sam 20\n",
        "Roy 20\n",
        "Jay 20\n",
        "\n",
        "출력 : \"Jay Lia Mark Roy Sam\"\n",
        "\n",
        "5.\n",
        "입력\n",
        "aaa 18\n",
        "bbb 19\n",
        "ccc 20\n",
        "ddd 20\n",
        "eee 20\n",
        "\n",
        "출력 : \"ccc ddd eee\""
      ]
    },
    {
      "cell_type": "code",
      "execution_count": null,
      "metadata": {
        "id": "Z5GWO3o4_-Ne",
        "outputId": "0a3af2e0-d127-438e-d557-c0d8415ab01b"
      },
      "outputs": [
        {
          "name": "stdout",
          "output_type": "stream",
          "text": [
            "Jay Lia Mark Roy Sam\n"
          ]
        }
      ],
      "source": [
        "people = {}\n",
        "\n",
        "for _ in range(5):\n",
        "    info = input(\"이름과 나이를 입력하세요 : \").strip().split()\n",
        "    name = info[0]\n",
        "    age = int(info[1])\n",
        "    people[name] = age\n",
        "\n",
        "over_20 = []\n",
        "for key, value in people.items():\n",
        "    if value >= 20:\n",
        "        over_20.append(key)\n",
        "\n",
        "over_20.sort()\n",
        "print(' '.join(over_20))"
      ]
    },
    {
      "cell_type": "markdown",
      "metadata": {
        "id": "Q75GR34Y_-Ne"
      },
      "source": [
        "해설 :\n",
        "\n",
        "- 빈 딕셔너리 people를 만든다.\n",
        "- 5번 반복하며 input을 받아 split()으로 나누어 이름과 나이를 분리한다.\n",
        "- 나이를 int()로 변환 후 people[name] = age로 딕셔너리에 저장.\n",
        "- people.items()를 순회하며 age >= 20이면 over_20 리스트에 이름을 추가한다.\n",
        "- over_20.sort()로 알파벳 순 정렬 후 출력한다."
      ]
    },
    {
      "cell_type": "markdown",
      "metadata": {
        "id": "tk5-vKMu_-Ne"
      },
      "source": [
        "# 문제 6번\n",
        "## 문제 내용:\n",
        "사용자로부터 정수를 공백으로 구분해 입력받아 리스트로 저장한 뒤, 원래 리스트의 최솟값과 최댓값을 출력합니다.  \n",
        "그리고 리스트에서 짝수만 추출하고 중복을 제거한 뒤 정렬하여 출력합니다. 추출된 짝수의 개수도 출력합니다.  \n",
        "만약 짝수가 없다면 \"No even numbers\"라고 출력하세요."
      ]
    },
    {
      "cell_type": "raw",
      "metadata": {
        "vscode": {
          "languageId": "raw"
        },
        "id": "vFHffUSC_-Ne"
      },
      "source": [
        "테스트 케이스\n",
        "\n",
        "1.\n",
        "입력 : \"4 7 2 9 10 2\"\n",
        "출력\n",
        "Min: 2\n",
        "Max: 10\n",
        "2 4 10\n",
        "Count: 3\n",
        "\n",
        "2.\n",
        "입력 : \"1 3 5\"\n",
        "출력\n",
        "Min: 1\n",
        "Max: 5\n",
        "\"No even numbers\"\n",
        "\n",
        "3.\n",
        "입력 : \"2 2 2\"\n",
        "출력\n",
        "Min: 2\n",
        "Max: 2\n",
        "2\n",
        "Count: 1\n",
        "\n",
        "4.\n",
        "입력 : \"10 5 2\"\n",
        "출력\n",
        "Min: 2\n",
        "Max: 10\n",
        "2 10\n",
        "Count: 2\n",
        "\n",
        "5.\n",
        "입력 : \"9 1 8 3\"\n",
        "출력\n",
        "Min: 1\n",
        "Max: 9\n",
        "8\n",
        "Count: 1"
      ]
    },
    {
      "cell_type": "code",
      "execution_count": null,
      "metadata": {
        "id": "2GcXJZeK_-Ne",
        "outputId": "ef1aa985-998c-4184-b68c-c75af7496434"
      },
      "outputs": [
        {
          "name": "stdout",
          "output_type": "stream",
          "text": [
            "Min :  1\n",
            "Max :  9\n",
            "8\n",
            "Count :  1\n"
          ]
        }
      ],
      "source": [
        "user_input = list(map(int, input(\"정수들을 입력하세요 : \").split()))\n",
        "\n",
        "print(\"Min : \", min(user_input))\n",
        "print(\"Max : \", max(user_input))\n",
        "\n",
        "even_set = set([num for num in user_input if num%2 == 0])\n",
        "if len(even_set) == 0:\n",
        "    print(\"No even numbers\")\n",
        "else:\n",
        "    even_sorted = sorted(even_set)\n",
        "    print(' '.join(map(str, even_sorted)))\n",
        "    print('Count : ', len(even_sorted))"
      ]
    },
    {
      "cell_type": "markdown",
      "metadata": {
        "id": "YoHtj_Io_-Nf"
      },
      "source": [
        "해설 :\n",
        "\n",
        "- 정수 리스트 입력받음.\n",
        "- min, max 함수로 최소, 최대 출력.\n",
        "- 짝수만 골라 set으로 중복 제거 후 정렬.\n",
        "- 짝수가 없으면 \"No even numbers\" 출력, 있으면 리스트와 개수 출력."
      ]
    },
    {
      "cell_type": "markdown",
      "metadata": {
        "id": "S7jhFTyO_-Nf"
      },
      "source": [
        "# 문제 7번\n",
        "## 문제 내용:\n",
        "사용자로부터 여러 줄을 입력받되, 빈 줄(Enter만 입력)이 나올 때까지 계속 입력받습니다. 입력받은 각 줄에 대해 공백으로 단어를 나눈 뒤, 단어 순서를 뒤집어 하이픈('-')으로 연결한 문자열을 출력합니다. 모든 줄에 대한 처리가 끝난 후, 입력받은 줄의 총 개수를 출력하세요.  \n",
        "만약 한 줄도 입력받지 않고 바로 빈 줄이 들어오면 \"No lines processed\"를 출력하세요."
      ]
    },
    {
      "cell_type": "raw",
      "metadata": {
        "vscode": {
          "languageId": "raw"
        },
        "id": "y2fduUc2_-Nf"
      },
      "source": [
        "테스트 케이스\n",
        "\n",
        "1.\n",
        "입력\n",
        "Hello world\n",
        "Python test\n",
        "\n",
        "출력\n",
        "world-Hello\n",
        "test-Python\n",
        "2 lines processed\n",
        "\n",
        "2.\n",
        "입력\n",
        "(첫 입력부터 빈 줄)\n",
        "\n",
        "출력\n",
        "No lines processed\n",
        "\n",
        "3.\n",
        "입력\n",
        "a b c\n",
        "d e f\n",
        "g\n",
        "\n",
        "출력\n",
        "c-b-a\n",
        "f-e-d\n",
        "g\n",
        "3 lines processed\n",
        "\n",
        "4.\n",
        "입력\n",
        "One line only\n",
        "\n",
        "출력\n",
        "only-line-One\n",
        "1 lines processed\n",
        "\n",
        "5.\n",
        "입력\n",
        "Reverse these words\n",
        "Check this line\n",
        "Another one\n",
        "Stop now\n",
        "\n",
        "출력\n",
        "words-these-Reverse\n",
        "line-this-Check\n",
        "one-Another\n",
        "now-Stop\n",
        "4 lines processed"
      ]
    },
    {
      "cell_type": "code",
      "execution_count": null,
      "metadata": {
        "id": "GjkbT6Lx_-Nf",
        "outputId": "cb686a2f-fbd8-4757-d8dc-f3eb412e61b5"
      },
      "outputs": [
        {
          "name": "stdout",
          "output_type": "stream",
          "text": [
            "words-these-Reverse\n",
            "line-this-Check\n",
            "one-Another\n",
            "now-Stop\n",
            "4 lines processed\n"
          ]
        }
      ],
      "source": [
        "count = 0\n",
        "\n",
        "while True:\n",
        "    user_input = input(\"입력하세요 : \")\n",
        "    if user_input.strip() == \"\":\n",
        "        break\n",
        "    words = user_input.strip().split()\n",
        "    reversed_words = words[::-1]\n",
        "    print('-'.join(reversed_words))\n",
        "    count += 1\n",
        "\n",
        "if count == 0:\n",
        "    print(\"No lines processed\")\n",
        "else:\n",
        "    print(f\"{count} lines processed\")"
      ]
    },
    {
      "cell_type": "markdown",
      "metadata": {
        "id": "Ttka9BUy_-Nf"
      },
      "source": [
        "해설 :\n",
        "\n",
        "- 무한히 입력받다가 빈 줄이면 종료.\n",
        "- 각 줄을 단어로 나눈 뒤 순서를 뒤집고 하이픈으로 연결해 출력.\n",
        "- 줄을 하나 처리할 때마다 카운트 증가.\n",
        "- 모두 끝난 뒤 카운트가 0이면 \"No lines processed\", 아니면 처리한 줄 수 출력."
      ]
    },
    {
      "cell_type": "markdown",
      "metadata": {
        "id": "rxRsm8tG_-Nf"
      },
      "source": [
        "# 도전 문제 - 시간이 남는다면 풀어보세요 :)\n",
        "## 문제 1\n",
        "### 문제 설명:\n",
        "사용자로부터 한 줄의 문장을 입력받습니다. 이 문장을 공백을 기준으로 단어 단위로 나눈 뒤, 각 단어에 포함된 모음(a, e, i, o, u)의 개수를 센 후 {단어: 모음수} 형태의 딕셔너리에 저장하세요(대소문자 구분 없이 전부 소문자로 처리).  \n",
        "그 후, 모음이 하나 이상 포함된 단어들만 골라 단어를 알파벳 순으로 정렬한 뒤, 단어와 그 모음 개수를 모두 출력하세요.  \n",
        "만약 모음이 포함된 단어가 없다면 \"No vowels found\"를 출력하세요."
      ]
    },
    {
      "cell_type": "raw",
      "metadata": {
        "vscode": {
          "languageId": "raw"
        },
        "id": "9Ah8r5Qj_-Nf"
      },
      "source": [
        "테스트 케이스\n",
        "\n",
        "1.\n",
        "입력 : Hello world test python\n",
        "\n",
        "출력\n",
        "hello 2\n",
        "python 1\n",
        "test 1\n",
        "world 1\n",
        "\n",
        "2.\n",
        "입력 : Sky fly crypt\n",
        "\n",
        "출력\n",
        "No vowels found\n",
        "\n",
        "3.\n",
        "입력 : Test case to check vowels\n",
        "\n",
        "출력\n",
        "case 2\n",
        "check 1\n",
        "test 1\n",
        "to 1\n",
        "vowels 2"
      ]
    },
    {
      "cell_type": "code",
      "execution_count": null,
      "metadata": {
        "id": "43ZUPVBc_-Nf",
        "outputId": "2e4f8294-4b39-4e2b-d642-de4dd2c3d563"
      },
      "outputs": [
        {
          "name": "stdout",
          "output_type": "stream",
          "text": [
            "No vowels found\n"
          ]
        }
      ],
      "source": [
        "words = list(map(str, input(\"단어들을 입력하세요 : \").strip().split()))\n",
        "vowels = \"aeiou\"\n",
        "vowel_count_dict = {}\n",
        "\n",
        "for w in words:\n",
        "    count = 0\n",
        "    for ch in w:\n",
        "        if ch in vowels:\n",
        "            count += 1\n",
        "    vowel_count_dict[w] = count\n",
        "\n",
        "# 모음이 하나 이상인 단어 추출\n",
        "filtered_words = [w for w in vowel_count_dict if vowel_count_dict[w] > 0]\n",
        "\n",
        "if len(filtered_words) == 0:\n",
        "    print(\"No vowels found\")\n",
        "else:\n",
        "    filtered_words.sort()  # 알파벳 순 정렬\n",
        "    for w in filtered_words:\n",
        "        print(w, vowel_count_dict[w])"
      ]
    },
    {
      "cell_type": "markdown",
      "metadata": {
        "id": "mbae5-Px_-Nf"
      },
      "source": [
        "해설 :\n",
        "\n",
        "- 입력받은 문장을 소문자로 변환한 뒤 단어를 리스트로 분리.\n",
        "- 각 단어에 대해 모음 수를 세어 딕셔너리에 저장.\n",
        "- 모음 수가 0보다 큰 단어만 필터링.\n",
        "- 필터링된 단어가 없으면 \"No vowels found\" 출력. 있으면 알파벳 순 정렬 후 단어와 모음 수 출력."
      ]
    },
    {
      "cell_type": "markdown",
      "metadata": {
        "id": "KN7QVJEe_-Nf"
      },
      "source": [
        "## 문제 2\n",
        "### 문제 설명:\n",
        "다음과 같은 튜플과 딕셔너리가 있다고 가정합니다.\n",
        "```python\n",
        "fruits = (\"apple\", \"banana\", \"cherry\", \"orange\", \"grape\")\n",
        "prices = {\"apple\": 1000, \"banana\": 500, \"cherry\": 1500, \"orange\": 800, \"grape\": 1200}\n",
        "```\n",
        "사용자로부터 과일 이름과 개수를 입력받아 총 금액을 계산하는 프로그램을 작성하세요.  \n",
        "과일 이름은 튜플 fruits에 존재해야 하며, 개수는 1 이상이어야 합니다.  \n",
        "여러 번의 주문을 받아 처리하며, \"STOP\"을 입력하면 종료합니다. 유효한 주문마다 총 금액을 출력하고, 유효하지 않은 주문이면 \"Invalid order\"를 출력합니다.  \n",
        "테스트 케이스를 모두 만족하는지 꼭 확인할 것!"
      ]
    },
    {
      "cell_type": "raw",
      "metadata": {
        "vscode": {
          "languageId": "raw"
        },
        "id": "b-1SVJHK_-Ng"
      },
      "source": [
        "테스트 케이스\n",
        "\n",
        "1.\n",
        "입력\n",
        "banana 3\n",
        "orange 2\n",
        "melon 5\n",
        "grape 0\n",
        "STOP\n",
        "\n",
        "출력\n",
        "1500\n",
        "1600\n",
        "Invalid order\n",
        "Invalid order\n",
        "\n",
        "2.\n",
        "입력\n",
        "apple 1\n",
        "STOP\n",
        "\n",
        "출력\n",
        "1000\n",
        "\n",
        "3.\n",
        "입력\n",
        "cherry 10\n",
        "banana abc\n",
        "apple -2\n",
        "STOP\n",
        "\n",
        "출력\n",
        "15000\n",
        "Invalid order\n",
        "Invalid order\n",
        "\n",
        "4.\n",
        "입력\n",
        "grape 5\n",
        "grapefruit 2\n",
        "STOP\n",
        "\n",
        "출력\n",
        "6000 (유효)\n",
        "Invalid order (fruits에 없음)\n",
        "\n",
        "5.\n",
        "입력\n",
        "STOP\n",
        "\n",
        "출력 없음"
      ]
    },
    {
      "cell_type": "code",
      "execution_count": null,
      "metadata": {
        "id": "LlfPcBRb_-Ng",
        "outputId": "f42ea42a-3385-480d-fd29-83ca63786fcb"
      },
      "outputs": [
        {
          "name": "stdout",
          "output_type": "stream",
          "text": [
            "15000\n",
            "Invalid order\n",
            "Invalid order\n"
          ]
        }
      ],
      "source": [
        "fruits = (\"apple\", \"banana\", \"cherry\", \"orange\", \"grape\")\n",
        "prices = {\"apple\": 1000, \"banana\": 500, \"cherry\": 1500, \"orange\": 800, \"grape\": 1200}\n",
        "\n",
        "while True:\n",
        "    line = input().strip()\n",
        "    if line.upper() == \"STOP\":\n",
        "        break\n",
        "\n",
        "    parts = line.split()\n",
        "    # 과일과 개수 -> 2개의 항목을 입력받지 않는다면 Invalid order\n",
        "    if len(parts) != 2:\n",
        "        print(\"Invalid order\")\n",
        "        continue\n",
        "\n",
        "    f, qty_str = parts\n",
        "    # 개수가 숫자 형태가 아니라면 Invalid order\n",
        "    if not qty_str.isdigit():\n",
        "        print(\"Invalid order\")\n",
        "        continue\n",
        "\n",
        "    qty = int(qty_str)\n",
        "    # 과일이 해당 튜플에 없거나 숫자가 1미만인 경우는 Invalid order\n",
        "    if f not in fruits or qty < 1:\n",
        "        print(\"Invalid order\")\n",
        "        continue\n",
        "\n",
        "    # 유효한 주문 처리\n",
        "    total_price = prices[f] * qty\n",
        "    print(total_price)"
      ]
    },
    {
      "cell_type": "markdown",
      "metadata": {
        "id": "W6kVS6Rj_-Ng"
      },
      "source": [
        "해설 :\n",
        "\n",
        "- 무한 루프 내에서 주문 입력받음.\n",
        "- \"STOP\"이면 종료.\n",
        "- 과일 이름이 튜플 내 존재하는지, 개수가 양수인지 검사.\n",
        "- 둘 다 유효할 경우 가격 딕셔너리에서 가격을 가져와 총합 계산.\n",
        "- 유효하지 않으면 \"Invalid order\" 출력."
      ]
    },
    {
      "cell_type": "code",
      "source": [],
      "metadata": {
        "id": "v-rjdVoBM5ww"
      },
      "execution_count": null,
      "outputs": []
    }
  ],
  "metadata": {
    "kernelspec": {
      "display_name": "llmrag",
      "language": "python",
      "name": "python3"
    },
    "language_info": {
      "codemirror_mode": {
        "name": "ipython",
        "version": 3
      },
      "file_extension": ".py",
      "mimetype": "text/x-python",
      "name": "python",
      "nbconvert_exporter": "python",
      "pygments_lexer": "ipython3",
      "version": "3.10.12"
    },
    "colab": {
      "provenance": []
    }
  },
  "nbformat": 4,
  "nbformat_minor": 0
}