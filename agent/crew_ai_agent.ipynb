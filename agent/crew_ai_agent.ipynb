{
 "cells": [
  {
   "cell_type": "code",
   "execution_count": 6,
   "metadata": {},
   "outputs": [
    {
     "ename": "ValueError",
     "evalue": "SERPER_API_KEY가 설정되지 않았습니다.",
     "output_type": "error",
     "traceback": [
      "\u001b[0;31m---------------------------------------------------------------------------\u001b[0m",
      "\u001b[0;31mValueError\u001b[0m                                Traceback (most recent call last)",
      "Cell \u001b[0;32mIn[6], line 12\u001b[0m\n\u001b[1;32m     10\u001b[0m \u001b[38;5;66;03m# API 키 확인\u001b[39;00m\n\u001b[1;32m     11\u001b[0m \u001b[38;5;28;01mif\u001b[39;00m \u001b[38;5;129;01mnot\u001b[39;00m os\u001b[38;5;241m.\u001b[39mgetenv(\u001b[38;5;124m'\u001b[39m\u001b[38;5;124mSERPER_API_KEY\u001b[39m\u001b[38;5;124m'\u001b[39m):\n\u001b[0;32m---> 12\u001b[0m     \u001b[38;5;28;01mraise\u001b[39;00m \u001b[38;5;167;01mValueError\u001b[39;00m(\u001b[38;5;124m\"\u001b[39m\u001b[38;5;124mSERPER_API_KEY가 설정되지 않았습니다.\u001b[39m\u001b[38;5;124m\"\u001b[39m)\n\u001b[1;32m     14\u001b[0m \u001b[38;5;66;03m# 도구 초기화\u001b[39;00m\n\u001b[1;32m     15\u001b[0m search_tool \u001b[38;5;241m=\u001b[39m SerperDevTool()\n",
      "\u001b[0;31mValueError\u001b[0m: SERPER_API_KEY가 설정되지 않았습니다."
     ]
    }
   ],
   "source": [
    "import os\n",
    "from dotenv import load_dotenv\n",
    "from langchain.tools import Tool\n",
    "from crewai import Agent, Task, Crew, Process\n",
    "from crewai_tools import SerperDevTool, ScrapeWebsiteTool, WebsiteSearchTool\n",
    "\n",
    "# 환경 변수 로드\n",
    "load_dotenv()\n",
    "\n",
    "# API 키 확인\n",
    "if not os.getenv('SERPER_API_KEY'):\n",
    "    raise ValueError(\"SERPER_API_KEY가 설정되지 않았습니다.\")\n",
    "\n",
    "# 도구 초기화\n",
    "search_tool = SerperDevTool()\n",
    "scrape_tool = ScrapeWebsiteTool()\n",
    "web_rag_tool = WebsiteSearchTool()\n",
    "\n",
    "# 에이전트 정의\n",
    "researcher = Agent(\n",
    "    role='시니어 컨설턴트 겸 리서처',\n",
    "    goal='웹에서 검색해서 분석 후 리서치 정리',\n",
    "    backstory=\"\"\"다수의 정보를 활용하여 항상 최고의 리서치 결과를 만드는 시니어 리서처. \n",
    "    출처가 사실인지 체크하고 구체적인 예와 통찰을 포함.\"\"\",\n",
    "    allow_delegation=False,\n",
    "    verbose=True,\n",
    "    tools=[search_tool, scrape_tool, web_rag_tool]\n",
    ")\n",
    "\n",
    "editor = Agent(\n",
    "    role='전문적인 블로거/에디터',\n",
    "    goal='블로그 글 작성',\n",
    "    backstory=\"\"\"읽기 쉽고 유익한 콘텐츠를 작성하는 IT/개발 분야의 파워 블로거. \n",
    "    쉬운 설명, 샘플 코드를 바탕으로 구체적인 예시와 통찰을 포함한 블로그 글 작성.\"\"\",\n",
    "    verbose=True\n",
    ")\n",
    "\n",
    "def create_blog_post(topic):\n",
    "    # 태스크 정의\n",
    "    research_task = Task(\n",
    "        description=f\"'{topic}'에 대한 상세한 리서치를 진행해주세요.\",\n",
    "        agent=researcher\n",
    "    )\n",
    "    \n",
    "    writing_task = Task(\n",
    "        description=f\"리서치 결과를 바탕으로 '{topic}'에 대한 블로그 포스트를 작성해주세요.\",\n",
    "        agent=editor,\n",
    "        context=\"도입부, 주요 3개의 문단, 구체적인 예시와 통찰을 포함한 블로그 글을 작성해주세요. 참고한 정보의 출처 링크도 포함해주시고, 눈길을 끄는 제목을 제안해주세요.\"\n",
    "    )\n",
    "\n",
    "    # Crew 설정 및 실행\n",
    "    crew = Crew(\n",
    "        agents=[researcher, editor],\n",
    "        tasks=[research_task, writing_task],\n",
    "        process=Process.sequential,\n",
    "        verbose=2\n",
    "    )\n",
    "\n",
    "    result = crew.kickoff()\n",
    "    return result\n",
    "\n",
    "# 사용 예시\n",
    "if __name__ == \"__main__\":\n",
    "    topic = \"Python FastAPI 입문 가이드\"\n",
    "    result = create_blog_post(topic)\n",
    "    \n",
    "    # 결과를 파일로 저장\n",
    "    with open(\"Blog_Agent.md\", \"w\", encoding=\"utf-8\") as f:\n",
    "        f.write(result)"
   ]
  },
  {
   "cell_type": "code",
   "execution_count": null,
   "metadata": {},
   "outputs": [],
   "source": [
    "import os\n",
    "from dotenv import load_dotenv\n",
    "\n",
    "load_dotenv() #OPENAI_API_KEY='YOUR OPENAI API KEY'\n",
    "os.environ[\"OPENAI_MODEL_NAME\"] = \"gpt-4o\"\n"
   ]
  },
  {
   "cell_type": "code",
   "execution_count": 2,
   "metadata": {},
   "outputs": [],
   "source": [
    "from crewai_tools import SerperDevTool, ScrapeWebsiteTool, WebsiteSearchTool\n",
    "from crewai import Agent, Task, Crew\n",
    "\n",
    "search_tool = SerperDevTool()\n",
    "scrape_tool = ScrapeWebsiteTool()\n",
    "web_rag_tool = WebsiteSearchTool()\n",
    "\n"
   ]
  },
  {
   "cell_type": "code",
   "execution_count": 3,
   "metadata": {},
   "outputs": [],
   "source": [
    "researcher = Agent(\n",
    "    role=\"시니어 컨설턴트 겸 리서처\",\n",
    "    goal=\"웹에서 검색해서 분석 후 리서치 정리\",\n",
    "    backstory=\"\"\"\n",
    "    다수의 정보를 활용하여 항상 최고의 리서치 결과를 만드는 시니어 리서처. 출처가 사실인지 체크하고 구체적인 예와 통찰을 포함.\n",
    "    \"\"\",\n",
    "    allow_delegation=False,\n",
    "    verbose=True,\n",
    "    tools = [\n",
    "        search_tool,\n",
    "        scrape_tool, \n",
    "        web_rag_tool,\n",
    "    ],\n",
    ")\n",
    "\n",
    "editor = Agent(\n",
    "    role=\"전문적인 블로거/에디터\",\n",
    "    goal=\"블로그 글 작성\",\n",
    "    backstory=\"\"\"\n",
    "    읽기 쉽고 유익한 콘텐츠를 작성하는 IT/개발 분야의 파워 블로거. 쉬운 설명, 샘플 코드를 바탕으로 구체적인 예시와 통찰을 포함한 블로그 글 작성.\n",
    "    \"\"\",\n",
    "    verbose=True,\n",
    ") "
   ]
  },
  {
   "cell_type": "code",
   "execution_count": 4,
   "metadata": {},
   "outputs": [],
   "source": [
    "task = Task(\n",
    "    description=\"'{topic}'에 대한 블로그 포스트를 작성해 줘\",\n",
    "    agent= editor,\n",
    "    expected_output=\"도입부, 주요 3개의 문단, 구체적인 예시와 통찰을 포함한 블로그 글을 작성해 줘. 참고한 정보의 출처 링크도 포함해 주고, 눈길을 끄는 제목을 제안해 줘.\",\n",
    "    output_file=\"Blog_Agent.md\",\n",
    ")"
   ]
  },
  {
   "cell_type": "code",
   "execution_count": 5,
   "metadata": {},
   "outputs": [
    {
     "ename": "NameError",
     "evalue": "name 'Process' is not defined",
     "output_type": "error",
     "traceback": [
      "\u001b[0;31m---------------------------------------------------------------------------\u001b[0m",
      "\u001b[0;31mNameError\u001b[0m                                 Traceback (most recent call last)",
      "Cell \u001b[0;32mIn[5], line 4\u001b[0m\n\u001b[1;32m      1\u001b[0m crew \u001b[38;5;241m=\u001b[39m Crew(\n\u001b[1;32m      2\u001b[0m     agents\u001b[38;5;241m=\u001b[39m[researcher, editor,],\n\u001b[1;32m      3\u001b[0m     tasks\u001b[38;5;241m=\u001b[39m[task],\n\u001b[0;32m----> 4\u001b[0m     process\u001b[38;5;241m=\u001b[39mProcess\u001b[38;5;241m.\u001b[39msequential,\n\u001b[1;32m      5\u001b[0m     verbose\u001b[38;5;241m=\u001b[39m\u001b[38;5;241m5\u001b[39m,\n\u001b[1;32m      6\u001b[0m )\n",
      "\u001b[0;31mNameError\u001b[0m: name 'Process' is not defined"
     ]
    }
   ],
   "source": [
    "crew = Crew(\n",
    "    agents=[researcher, editor,],\n",
    "    tasks=[task],\n",
    "    process=Process.sequential,\n",
    "    verbose=5,\n",
    ")"
   ]
  },
  {
   "cell_type": "code",
   "execution_count": null,
   "metadata": {},
   "outputs": [],
   "source": [
    "result = crew.kickoff(\n",
    "    inputs=dict(\n",
    "        topic=\"The AI Agent Platform CrewAI\"\n",
    "    )\n",
    ")"
   ]
  }
 ],
 "metadata": {
  "kernelspec": {
   "display_name": "llm",
   "language": "python",
   "name": "llm"
  },
  "language_info": {
   "codemirror_mode": {
    "name": "ipython",
    "version": 3
   },
   "file_extension": ".py",
   "mimetype": "text/x-python",
   "name": "python",
   "nbconvert_exporter": "python",
   "pygments_lexer": "ipython3",
   "version": "3.12.7"
  }
 },
 "nbformat": 4,
 "nbformat_minor": 2
}
