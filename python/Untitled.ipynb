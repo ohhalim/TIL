{
 "cells": [
  {
   "cell_type": "code",
   "execution_count": 1,
   "id": "a2d689c1-6f67-45bb-a3c1-ae95e2826b4a",
   "metadata": {},
   "outputs": [],
   "source": [
    "coordinates = (10, 20)\n"
   ]
  },
  {
   "cell_type": "code",
   "execution_count": 5,
   "id": "5ba3c397-4392-4115-b112-818700db7288",
   "metadata": {},
   "outputs": [
    {
     "name": "stdout",
     "output_type": "stream",
     "text": [
      "20\n"
     ]
    }
   ],
   "source": [
    "print(coordinates[1])  "
   ]
  },
  {
   "cell_type": "code",
   "execution_count": null,
   "id": "58290b80-743d-4906-8ef5-78fa5834fc7b",
   "metadata": {},
   "outputs": [],
   "source": []
  }
 ],
 "metadata": {
  "kernelspec": {
   "display_name": "Python 3 (ipykernel)",
   "language": "python",
   "name": "python3"
  },
  "language_info": {
   "codemirror_mode": {
    "name": "ipython",
    "version": 3
   },
   "file_extension": ".py",
   "mimetype": "text/x-python",
   "name": "python",
   "nbconvert_exporter": "python",
   "pygments_lexer": "ipython3",
   "version": "3.12.7"
  }
 },
 "nbformat": 4,
 "nbformat_minor": 5
}
