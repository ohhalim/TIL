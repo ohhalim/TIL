{
 "cells": [
  {
   "cell_type": "markdown",
   "metadata": {},
   "source": [
    "241215 오늘한거\n",
    "\n",
    "수준별학습반: 시험볼거 준비  > 처음부터 강의 들으면서 같이 푼다 > : 정리위치 : > 코드카타"
   ]
  }
 ],
 "metadata": {
  "language_info": {
   "name": "python"
  }
 },
 "nbformat": 4,
 "nbformat_minor": 2
}
