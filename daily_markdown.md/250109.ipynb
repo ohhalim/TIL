{
 "cells": [
  {
   "cell_type": "markdown",
   "metadata": {},
   "source": [
    "250109 오늘 한일 \n",
    "\n",
    "프론트 → 설무아튜터님\n",
    "\n",
    "웹 개발자 네트워크 창에서 에러가 떠도 돌아가기만 하면 되나?\n",
    "\n",
    "get  \n",
    "→\n",
    "\n",
    "의도된거면 상관이없다\n",
    "\n",
    "에러가 나면 이걸 그낭 나둘지 그떄 말하고 정하기\n",
    "\n",
    "이것도 서면 작성\n",
    "\n",
    "되도록 에러 안뜨는게 맞다"
   ]
  },
  {
   "cell_type": "markdown",
   "metadata": {},
   "source": []
  }
 ],
 "metadata": {
  "language_info": {
   "name": "python"
  }
 },
 "nbformat": 4,
 "nbformat_minor": 2
}
