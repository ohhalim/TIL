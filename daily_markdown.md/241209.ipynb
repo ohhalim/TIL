{
 "cells": [
  {
   "cell_type": "code",
   "execution_count": 1,
   "metadata": {},
   "outputs": [],
   "source": [
    "# 오늘 할거 \n",
    "# 딕셔너리 수업 예습\n",
    "# 도커 3주차까지 완료\n",
    "\n"
   ]
  },
  {
   "cell_type": "markdown",
   "metadata": {},
   "source": [
    "- Github Actions 동작 방법\n",
    "    - repository의 `.github/workflows` 디렉토리에 필요한 Actions 파일들을 yaml 형식으로 작성\n",
    "        - 반드시 `.github/workflows` 폴더 아래에 YAML 파일이 위치\n",
    "    - 작성된 actions 파일들을 github에서 자동으로 실행\n",
    "\n",
    "\n",
    "\n",
    "    ci cd \n"
   ]
  }
 ],
 "metadata": {
  "kernelspec": {
   "display_name": "llm",
   "language": "python",
   "name": "llm"
  },
  "language_info": {
   "codemirror_mode": {
    "name": "ipython",
    "version": 3
   },
   "file_extension": ".py",
   "mimetype": "text/x-python",
   "name": "python",
   "nbconvert_exporter": "python",
   "pygments_lexer": "ipython3",
   "version": "3.12.7"
  }
 },
 "nbformat": 4,
 "nbformat_minor": 2
}
