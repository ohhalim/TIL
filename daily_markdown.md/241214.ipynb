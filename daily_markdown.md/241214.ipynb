{
 "cells": [
  {
   "cell_type": "markdown",
   "metadata": {},
   "source": [
    "241214 오늘한거\n",
    "\n",
    "장고강의: 하고있음 > sqlite 안되서 dbeaver 로 함 > ??? > : 정리위치 : >  장고폴더에 기초 11~20.ipynb\n",
    "\n",
    "수준별학습반: 시험볼거 준비  > ??? >: 정리위치 : > ???\n",
    "\n",
    "\n",
    "저녁에 안했다 .. 공부그만 하고 쉴거면 확실히 정하고 여기에 오늘 끝이라고 적고 끝내기"
   ]
  }
 ],
 "metadata": {
  "language_info": {
   "name": "python"
  }
 },
 "nbformat": 4,
 "nbformat_minor": 2
}
