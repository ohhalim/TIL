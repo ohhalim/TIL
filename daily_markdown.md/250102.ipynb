{
 "cells": [
  {
   "cell_type": "markdown",
   "metadata": {},
   "source": [
    "250102 오늘한거\n",
    "\n",
    "으아 ~~ 감기 걸림 ... 힘드메"
   ]
  }
 ],
 "metadata": {
  "language_info": {
   "name": "python"
  }
 },
 "nbformat": 4,
 "nbformat_minor": 2
}
