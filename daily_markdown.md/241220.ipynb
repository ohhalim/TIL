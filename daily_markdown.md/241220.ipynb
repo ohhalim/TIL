{
 "cells": [
  {
   "cell_type": "markdown",
   "metadata": {},
   "source": [
    "241220 오늘한거 >  나쁘지 않아 \n",
    "\n",
    "장고 강의:  1-16강부터 하고있음 매우어려움  > 정리위치: django폴더  < 가장중요한거\n",
    "\n",
    "배이직 반 강의: 클래스 공부함 > 정리위치: 코드카타 폴더 "
   ]
  }
 ],
 "metadata": {
  "language_info": {
   "name": "python"
  }
 },
 "nbformat": 4,
 "nbformat_minor": 2
}
