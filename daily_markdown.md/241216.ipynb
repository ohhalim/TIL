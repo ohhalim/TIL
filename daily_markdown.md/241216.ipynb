{
 "cells": [
  {
   "cell_type": "markdown",
   "metadata": {},
   "source": [
    "241216 오늘한거 row expectation high resilience\n",
    "\n",
    "수준별학습반: 시험볼거 준비  > 처음부터 강의 들으면서 같이 푼다 > 정리위치 : 코드카타\n",
    "\n",
    "** 매일 코딩문제를 풀어야지 안까먹는다 : 내일부터 일어나서 9시부터 10시까지는 코딩문제 풀기 **\n",
    "\n",
    "장고 강의: 수준별 학습반 시험끝나고 공부 > 정리위치: django폴더\n",
    "\n",
    "개인과제: 오늘 못함 "
   ]
  },
  {
   "cell_type": "markdown",
   "metadata": {},
   "source": []
  }
 ],
 "metadata": {
  "language_info": {
   "name": "python"
  }
 },
 "nbformat": 4,
 "nbformat_minor": 2
}
