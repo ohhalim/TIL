{
 "cells": [
  {
   "cell_type": "markdown",
   "metadata": {},
   "source": [
    "241225 오늘 한 거\n",
    "\n",
    "장고과제: 베이직반 만들어준거 바꾸는중  > 정리위치: /Users/ohhalim/git_box/sparta_market/spartamarket\n",
    "\n",
    "리드미:  전 팀과제때 만든거 기반으로 바꾸기 > 바꿈 \n",
    "\n",
    "erd: 만들음 > \n",
    "\n",
    "프로젝트파일: 수정함 지금 뜸 근데 팔로우 기능이 없음 > \n",
    "\n",
    "해야할거: \n",
    "\n",
    "1. 프로필 페이지에서 등록 물품을 확인 0\n",
    "2. 프로필 페이지에서 찜한 물건의 목록을 확인 0\n",
    "3. 유저의 프로필 페이지에 팔로우 기능 0\n",
    "4. 개별 물건에 대한 디테일 페이지 0\n",
    "\n",
    "장고 drf 과제: 특강 보고 바꾸기 > 정리위치: /Users/ohhalim/git_box/django_drf/spartamarket_DRF\n",
    "\n",
    "리드미:  \n",
    "\n",
    "erd:\n",
    "\n",
    "프로젝트파일: 아직 아무것도 안함 >\n",
    "\n",
    "해야할거:\n",
    "\n",
    "1. ??\n",
    "2. ??\n",
    "3. ??"
   ]
  }
 ],
 "metadata": {
  "language_info": {
   "name": "python"
  }
 },
 "nbformat": 4,
 "nbformat_minor": 2
}
