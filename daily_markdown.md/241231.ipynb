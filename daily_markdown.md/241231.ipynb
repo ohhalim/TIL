{
 "cells": [
  {
   "cell_type": "markdown",
   "metadata": {},
   "source": [
    "# 241231 오늘 한거\n",
    "\n",
    "계속 이야기가 곁 길로 센다\n",
    "\n",
    "\n",
    "기본을 먼저 만들고 \n",
    "\n",
    "아바타 나중에 만들기\n",
    "\n",
    "계속 메인 길 자각시키는거? "
   ]
  }
 ],
 "metadata": {
  "language_info": {
   "name": "python"
  }
 },
 "nbformat": 4,
 "nbformat_minor": 2
}
