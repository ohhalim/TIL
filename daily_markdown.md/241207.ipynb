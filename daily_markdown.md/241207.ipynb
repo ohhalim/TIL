{
 "cells": [
  {
   "cell_type": "markdown",
   "metadata": {},
   "source": [
    "오늘 할일\n",
    "1. 베이직반 파이썬 강의 다 듣기\n",
    "2. 어제 배운 튜플 복습\n",
    "3. 도커 2주차까지 듣기"
   ]
  },
  {
   "cell_type": "markdown",
   "metadata": {},
   "source": [
    "# 1. 베이직반 파이썬 강의 다 듣기\n",
    "\n",
    "\n",
    "1. 파이썬 [입출력]  강의\n",
    "\n",
    "print() 화면에 묹,열, 변수, 연산결과 등을 출력하는 함수\n",
    "\n",
    "문자열 포매팅 : 출력형식을 지정하기 위해 문자열을 사용한다\n",
    "--------------------\n",
    "format() 함수를 사용한 포매팅\n",
    "\n",
    "```python\n",
    "name = \"홍길동\"\n",
    "age = 30\n",
    "print(\"이름: {}, 나이 {}\".format(name.age))\n",
    "\n",
    "```\n",
    "결과 : 이름: 홍길동, 나이 30\n",
    "-----------------\n",
    "f문자열 포매팅\n",
    "\n",
    "```python\n",
    "name = \"홍길동\"\n",
    "age = 30\n",
    "print(f\"이름: {name}, 나이 {age}\")\n",
    "    \n",
    "```\n",
    "\n",
    "결과 : 이름: 홍길동, 나이 30\n",
    "\n",
    "----------\n",
    "서식 지정자 \n",
    "    \n",
    "    ```python   \n",
    "    pi = 3.141592\n",
    "    print(\"원주율은 %.2f입니다.\" % pi)\n",
    "    ```\n",
    "\n",
    "결과 : 원주율은 3.14입니다.\n",
    "\n",
    "\n",
    "출력 끝에 줄바꿈 변경하기\n",
    "\n",
    "for i range((5):\n",
    "    print(1))\n",
    "\n",
    "for i in range(5):\n",
    "    print(1, end= \" \")\n",
    "\n",
    "결과 : 1 1 1 1 1\n"
   ]
  },
  {
   "cell_type": "code",
   "execution_count": null,
   "metadata": {},
   "outputs": [],
   "source": [
    "for i in range(5):\n",
    "    print(i)\n",
    "\n",
    "for i in range(5):\n",
    "    print(i, end= \" \")"
   ]
  },
  {
   "cell_type": "code",
   "execution_count": null,
   "metadata": {},
   "outputs": [],
   "source": [
    "# 출력 구분자 변경하기 : 여러요스를 출력할떄 기본 구분자는 공백이다.\n",
    "# sep 매개변수를 사용, 구분자를 변경할수있다\n",
    "\n",
    "print(\"2023\",\"20\", sep =\"-\")\n",
    "      \n",
    "# 하이픈 말고 다른것도 가능 하다"
   ]
  },
  {
   "cell_type": "code",
   "execution_count": 13,
   "metadata": {},
   "outputs": [],
   "source": [
    "# 파일로 출력하기: 출격결과를 화면이 아닌 파일로 보낼수 있습니ㅏㄷ\n",
    "\n",
    "with open(\"output.txt\", \"w\") as file:\n",
    "          print(\"이것은 파일에 쓰이는 내용입니다\", file=file)"
   ]
  },
  {
   "cell_type": "code",
   "execution_count": null,
   "metadata": {},
   "outputs": [],
   "source": [
    "# sys.stdout.write()\n",
    "#sys.stdout.write() 는 print() 보다 낮은 수준의 출력함수로 , 줄바꿈이 자동으로 이루어 지지 않습니다\n",
    "\n",
    "import sys\n",
    "sys.stdout.write(\"안녕하세요\")\n",
    "sys.stdout.write(\" 파이썬입니다.\\n\")\n",
    "\n",
    "\n",
    "\n"
   ]
  },
  {
   "cell_type": "code",
   "execution_count": null,
   "metadata": {},
   "outputs": [],
   "source": [
    "# input() 함수 : 파이썬에서 가장 기본적인 입력함수는 input() 함수이다\n",
    "# 사용자가 입력한 내용을 문자열로 반환\n",
    "\n",
    "name = input(\"이름을 입력하세요: \")\n",
    "print(f\"안녕하세요,{name}님\")"
   ]
  },
  {
   "cell_type": "code",
   "execution_count": null,
   "metadata": {},
   "outputs": [],
   "source": [
    "# input은 입력된값을 항상 문자열로 반환\n",
    "# 숫지로 사용하려면 int()함수로 변환해야한다\n",
    "\n",
    "age = int(input(\"나이를 입력하시요:\"))\n",
    "print(f\"내년에는 {age+1}세가 되십니다\")\n"
   ]
  },
  {
   "cell_type": "code",
   "execution_count": null,
   "metadata": {},
   "outputs": [],
   "source": [
    "# 실수 입력받기\n",
    "\n",
    "height = float(input(\"키를 입력하세요(cm): \"))\n",
    "print(f\"당신의 키는 {height}cm 입니다.\")\n"
   ]
  },
  {
   "cell_type": "code",
   "execution_count": null,
   "metadata": {},
   "outputs": [],
   "source": [
    "# 여러값 한꺼번에 입력 받기\n",
    "# strip()은 괄호()안에 있는 것으로 나누겠다\n",
    "i =\"helle world\".strip() \n",
    "print(i)"
   ]
  },
  {
   "cell_type": "code",
   "execution_count": null,
   "metadata": {},
   "outputs": [],
   "source": [
    "# 문자열 분리\n",
    "data = input(\"과일의 리므들을 입력하세요 (쉼표로 구분): \")\n",
    "fruits =data.split(\", \")\n",
    "print(f'당신이 선택한 과일 : {fruits}')\n"
   ]
  },
  {
   "cell_type": "code",
   "execution_count": null,
   "metadata": {},
   "outputs": [],
   "source": [
    "# 맵핑을 통한 형 변환\n",
    "number = list(map(int, input(\"숫자들을 입력하세요: \").split()))\n",
    "print(f'입력한 숫자들: {sum(number)}')"
   ]
  },
  {
   "cell_type": "code",
   "execution_count": null,
   "metadata": {},
   "outputs": [],
   "source": [
    "#입력 예외 처리\n",
    "\n",
    "try: \n",
    "    num = int(input('정수를 입력하세여: '))\n",
    "except ValueError:\n",
    "    print('유효한 정수를 입력해주세요!')\n",
    "else:\n",
    "    print(f\"입력한 정수: {num}\")\n"
   ]
  },
  {
   "cell_type": "code",
   "execution_count": null,
   "metadata": {},
   "outputs": [],
   "source": [
    "# 파일 에서 입력받기\n",
    "# 파일로 부터 데이터를 읽어 올수 있습니다\n",
    "\n",
    "# 파일 전체 읽기\n",
    "\n",
    "with open(\"input.txt\", \"r\") as file:\n",
    "    dadta = file.resd()\n",
    "    print(data)\n",
    "    "
   ]
  },
  {
   "cell_type": "code",
   "execution_count": null,
   "metadata": {},
   "outputs": [],
   "source": [
    "# 파일 줄단위로 읽기\n",
    "with open(\"input.txt\", \"r\") as file:\n",
    "    for line in file:\n",
    "        print(line.strop())\n"
   ]
  },
  {
   "cell_type": "code",
   "execution_count": null,
   "metadata": {},
   "outputs": [],
   "source": [
    "# 명령줄 인수받기 \n",
    "\n",
    "import sys\n",
    "\n",
    "args = sys.argv[1: ] # 첫번쨰 인수는 스크립트를 이르이므로 제외\n",
    "print(f'전달된 인수: {args}')\n",
    "\n"
   ]
  },
  {
   "cell_type": "code",
   "execution_count": null,
   "metadata": {},
   "outputs": [],
   "source": [
    "num1 =float(input(\"첫번쨰 숫자를 입력하세여: \"))\n",
    "operator = input(\"연산자를 입력하세요(+,-,*, /): \")\n",
    "num2 = float(input(\"두번쨰 숫자를 입력하세요: \"))\n",
    "\n",
    "if operator == '+':\n",
    "    result = num1 + num2\n",
    "\n",
    "elif operator == '-':\n",
    "    result =num1 - num2\n",
    "\n",
    "elif operator == '*':\n",
    "    result = num1 * num2\n",
    "    \n",
    "elif operator == '/':\n",
    "    if num2 != 0:\n",
    "        result = num1 / num2 \n",
    "    else:\n",
    "        result = \"0으로 나눌수 없습니다\"\n",
    "else:\n",
    "    result = \"올바른 연산자를 입력해주세요\"\n",
    "\n",
    "print(f'결과: {result}')"
   ]
  },
  {
   "cell_type": "code",
   "execution_count": null,
   "metadata": {},
   "outputs": [],
   "source": [
    "# 변수란 무엇??\n",
    "# 변수는 값을 저장하기위한 이름이 붙은 공간\n",
    "# 예 x = 10 x 는 변수 10 이라는 값을 저장하고 있음\n",
    "# 변수의 선언과 할당 : 파이썬에서 변수를 선언할떄 데이터 유형을 명시적으로 지정하지 않음\n",
    "\n",
    "# 정수형 변수\n",
    "age= 20\n",
    "\n",
    "# 실수형 변수\n",
    "height = 180.5\n",
    "\n",
    "# 문자열 변수\n",
    "name = \"홍길동\"\n",
    "\n",
    "# 불린형 변수\n",
    "is_student = True\n",
    "\n",
    "# 데이터 유형 : 변수에 저장되는 값에 따라 데이터 유형 결정\n",
    "\n",
    "# 정수형(int) : 정수를 저장하는 변수\n",
    "count = 10\n",
    "\n",
    "# 실수형(float) : 실수를 저장하는 변수\n",
    "weight = 72.99\n",
    "\n",
    "# 문자열(str) : 문자열을 저장하는 변수\n",
    "name = \"홍길동\"\n",
    "\n",
    "# 불린형(bool) : 참 또는 거짓을 저장하는 변수\n",
    "\n",
    "is_student = True\n",
    "\n",
    "# 정수 int , 실수 float, 문자 str, 불린 bool\n",
    "\n",
    "# 데이터 유형 확인할떄는 type()함수 사용\n",
    "\n",
    "# print(type(변수명))\n",
    "\n",
    "# 변수 이름 규칙 : 영문자 , 수자 , 밑줄만 사용\n",
    "# 숫자로 시작 x \n",
    "# 대소문자 구분\n",
    "# 이미 있는 예약어 사용 x : 예 for + 10 는  XXXXXXXX\n",
    "\n",
    "\n",
    "# 예약어 확인 \n",
    "import keyword\n",
    "\n",
    "print(keyword.kwlist)\n"
   ]
  },
  {
   "cell_type": "code",
   "execution_count": null,
   "metadata": {},
   "outputs": [],
   "source": [
    "# 변수의 사용 예제 \n",
    "# 수자형 변수 연산 \n",
    "a = 15\n",
    "b = 8\n",
    "\n",
    "# 덧셈\n",
    "add = a + b\n",
    "\n",
    "# 뺄셈\n",
    "sub = a - b\n",
    "\n",
    "# 곱셈\n",
    "mul = a * b\n",
    "# 나눗셈\n",
    "div = a / b\n",
    "\n",
    "print(f\"나눗셈결과:{div}\")"
   ]
  },
  {
   "cell_type": "code",
   "execution_count": null,
   "metadata": {},
   "outputs": [],
   "source": [
    "# 문자열 변수 조작\n",
    "first_name = \"홍\"\n",
    "last_name = \"길동\"\n",
    "\n",
    "full_name = first_name + last_name\n",
    "print(full_name)"
   ]
  },
  {
   "cell_type": "code",
   "execution_count": null,
   "metadata": {},
   "outputs": [],
   "source": [
    "# 불린 형 변수와 조건문\n",
    "is_raining = False\n",
    "if is_raining:\n",
    "    print(\"우산을 챙기세요\")    \n",
    "else:\n",
    "    print(\"우산을 챙기지 마세요\")\n",
    "    "
   ]
  },
  {
   "cell_type": "code",
   "execution_count": null,
   "metadata": {},
   "outputs": [],
   "source": [
    "#  변수의 입력과 출력\n",
    "\n",
    "# 입력 받기\n",
    "name = input(\"이름을 입력하세요: \")\n",
    "print(f'반갑습낟,{name}')"
   ]
  },
  {
   "cell_type": "code",
   "execution_count": 55,
   "metadata": {},
   "outputs": [],
   "source": [
    "# 형변환 : input() 함수는 입력을 문자욜로 받습니다 숫자로 사용하기 위혀서는 형변환이 필요\n",
    "\n",
    "age = input(\"나이를 입력하세요: \")\n",
    "# print(type(age))\n",
    "# \"<class 'str'>\"\n",
    "\n",
    "# 정수로 변환\n",
    "age = int(age)\n",
    "# print(type(age))\n",
    "# \"<class 'int'>\"\n",
    "\n"
   ]
  },
  {
   "cell_type": "code",
   "execution_count": 1,
   "metadata": {},
   "outputs": [
    {
     "name": "stdout",
     "output_type": "stream",
     "text": [
      "10 <class 'int'>\n"
     ]
    }
   ],
   "source": [
    "# 변수의 동적 타이핑: 변수데이터의 유형이 자동으로 결정 , 필요에 따라 변경될수있다\n",
    "var = 10 \n",
    "print(var, type(var))\n",
    "\n",
    "\n",
    "var = 10\n",
    "print(var, type(var))  # 출력: 10 <class 'int'>\n",
    "\n",
    "var = \"안녕하세요\"\n",
    "print(var, type(var))  # 출력: 안녕하세요 <class 'str'>\n",
    "\n",
    "var = 3.14\n",
    "print(var, type(var))  # 출력: 3.14 <class 'float'>\n",
    "\n",
    "\n"
   ]
  },
  {
   "cell_type": "code",
   "execution_count": 2,
   "metadata": {},
   "outputs": [
    {
     "name": "stdout",
     "output_type": "stream",
     "text": [
      "100\n"
     ]
    },
    {
     "ename": "NameError",
     "evalue": "name 'num' is not defined",
     "output_type": "error",
     "traceback": [
      "\u001b[0;31m---------------------------------------------------------------------------\u001b[0m",
      "\u001b[0;31mNameError\u001b[0m                                 Traceback (most recent call last)",
      "Cell \u001b[0;32mIn[2], line 8\u001b[0m\n\u001b[1;32m      5\u001b[0m \u001b[38;5;28mprint\u001b[39m(num)  \u001b[38;5;66;03m# 출력: 100\u001b[39;00m\n\u001b[1;32m      7\u001b[0m \u001b[38;5;28;01mdel\u001b[39;00m num\n\u001b[0;32m----> 8\u001b[0m \u001b[38;5;28mprint\u001b[39m(num)\n",
      "\u001b[0;31mNameError\u001b[0m: name 'num' is not defined"
     ]
    }
   ],
   "source": [
    "# 변수 삭제 : del 키워드를 사용하여 변수를 삭제할수있다\n",
    "# 변수를 사용하지 않으면 해당 변수를 지우는 방법을 택하지,  del 키워드를 사용해서 잘 사용되지 않습니다\n",
    "\n",
    "num = 100\n",
    "print(num)  # 출력: 100\n",
    "\n",
    "del num\n",
    "print(num)  # 오류 발생: NameError: name 'num' is not defined"
   ]
  },
  {
   "cell_type": "code",
   "execution_count": 3,
   "metadata": {},
   "outputs": [
    {
     "name": "stdout",
     "output_type": "stream",
     "text": [
      "1 2 3\n",
      "0 0 0\n"
     ]
    }
   ],
   "source": [
    "# 여러 변수에 값할당하기 \n",
    "# 한줄에 여러변수 할당\n",
    "\n",
    "a, b, c = 1, 2, 3\n",
    "print(a, b, c)  # 출력: 1 2 3\n",
    "\n",
    "# 같은 값 할당 \n",
    "x =y =z = 0\n",
    "print(x, y, z)"
   ]
  },
  {
   "cell_type": "code",
   "execution_count": 4,
   "metadata": {},
   "outputs": [],
   "source": [
    "# 변수의 유효 범위 : 번수는 선언된 위치에 따라 접근할수있는 범위가 결정\n",
    "# 전역변수: 함수 밖엣 ㅓ선업된 변수 로 프로그램 전체에 접근 가능\n",
    "\n",
    "\n",
    "gloval_vat = \"전여변수\"\n",
    "\n",
    "def func():\n",
    "    print(gloval_vat)\n",
    "\n",
    "func() # 출력 : 전역변수\n",
    "\n",
    "# 지역변수 : 함수 내부에서 선언된 변수로 함수 내부에서만 접근 가능\n",
    "\n",
    "def func():\n",
    "    local_var = \"지역변수\"\n",
    "    print(local_var)\n",
    "\n",
    "func()         # 출력: 지역 변수\n",
    "print(local_var)  # 오류 발생: NameError: name 'local_var' is not defined\n",
    "​\n"
   ]
  },
  {
   "cell_type": "code",
   "execution_count": 5,
   "metadata": {},
   "outputs": [
    {
     "name": "stdout",
     "output_type": "stream",
     "text": [
      "안녕하세요\n"
     ]
    }
   ],
   "source": [
    "# 문자열이란 무엇? : 문자의 연속으로 이루어진 데이터 타입\n",
    "#  파이썬에서 문자열은 '',\"\"로 감싸서 표현\n",
    "\n",
    "massage1 = \"안녕하세요\"\n",
    "print(massage1)\n",
    "\n"
   ]
  },
  {
   "cell_type": "code",
   "execution_count": 6,
   "metadata": {},
   "outputs": [
    {
     "name": "stdout",
     "output_type": "stream",
     "text": [
      "안녕하세요 \n",
      "여러줄 str 입니다\n",
      "허헝\n"
     ]
    }
   ],
   "source": [
    "#  문자열 생성방법: \n",
    "# 1. 작은따옴표로 생성\n",
    "# 2. 큰따옴표로 생성\n",
    "\n",
    "# 삼중 따옴표 ''' ''' , \"\"\" \"\"\" : 여러줄의 문자열을 표현할때 사용\n",
    "\n",
    "\n",
    "multiline = '''안녕하세요 \n",
    "여러줄 str 입니다\n",
    "허헝'''\n",
    "\n",
    "print(multiline)"
   ]
  },
  {
   "cell_type": "code",
   "execution_count": 7,
   "metadata": {},
   "outputs": [
    {
     "name": "stdout",
     "output_type": "stream",
     "text": [
      "안녕하세요\n",
      "반갑습니다\n",
      "Tab\tSpace\n",
      " he said, \"Python is fun!\"\n"
     ]
    }
   ],
   "source": [
    "# 문자열의 특수문자 사용할때는 \\를 사용\n",
    "'''\n",
    "\\n : 줄바꿈\n",
    "\\t : 탭\n",
    "\\\\ : 역슬래시\n",
    "\\' : 작은따옴표\n",
    "\\\" : 큰따옴\n",
    "'''\n",
    "\n",
    "# 예제 \n",
    "print(\"안녕하세요\\n반갑습니다\")\n",
    "print('Tab\\tSpace')\n",
    "print(' he said, \"Python is fun!\"')"
   ]
  },
  {
   "cell_type": "code",
   "execution_count": 8,
   "metadata": {},
   "outputs": [
    {
     "name": "stdout",
     "output_type": "stream",
     "text": [
      "C:\\Users\\Username\\Documents\n"
     ]
    }
   ],
   "source": [
    "# raw string : r or R 를 이용하여 생성\n",
    "path = r'C:\\Users\\Username\\Documents'\n",
    "print(path) # 출력 : C:\\Users\\Username\\Documents\n"
   ]
  },
  {
   "cell_type": "code",
   "execution_count": 9,
   "metadata": {},
   "outputs": [
    {
     "name": "stdout",
     "output_type": "stream",
     "text": [
      "P\n",
      "y\n",
      "o\n",
      "n\n"
     ]
    }
   ],
   "source": [
    "# 문자열 인덱싱과 슬라이싱 \n",
    "# 인덱싱 : 문자열의 특정 위치에 있는 문자를 참조하는 방법\n",
    "\n",
    "str = 'Python'\n",
    "\n",
    "print(str[0]) # 출력: P\n",
    "print(str[1]) # 출력: y\n",
    "print(str[-2]) # 출력: o\n",
    "print(str[-1]) # 출력: n\n"
   ]
  },
  {
   "cell_type": "code",
   "execution_count": 10,
   "metadata": {},
   "outputs": [
    {
     "name": "stdout",
     "output_type": "stream",
     "text": [
      "Py\n",
      "ython\n",
      "Pyt\n",
      "Python\n",
      "ytho\n"
     ]
    }
   ],
   "source": [
    "# 슬라이싱 : 문자열의 일부분을 추출하는 방법\n",
    "\n",
    "str = 'Python'\n",
    "\n",
    "print(str[0:2]) # 출력: Py\n",
    "print(str[1:])  # 출력: ython\n",
    "print(str[:3])  # 출력: Pyt\n",
    "print(str[:])   # 출력: Python\n",
    "print(str[-5:-1])  # 출력: ytho 뒤에서 5번부터 뒤에서 1번까지\n",
    "\n"
   ]
  },
  {
   "cell_type": "code",
   "execution_count": 11,
   "metadata": {},
   "outputs": [
    {
     "name": "stdout",
     "output_type": "stream",
     "text": [
      "Python,  is fun!!\n"
     ]
    }
   ],
   "source": [
    "# 문자열 연산 : +로 문자열을 연결하거나 반복할수있다 \n",
    "\n",
    "str1 = 'Python'\n",
    "str2 = 'is fun!'\n",
    "\n",
    "result = str1 +', '+ str2+ '!'\n",
    "print(result)  # 출력: Python is fun!\n"
   ]
  },
  {
   "cell_type": "code",
   "execution_count": 12,
   "metadata": {},
   "outputs": [
    {
     "name": "stdout",
     "output_type": "stream",
     "text": [
      "hahaha\n"
     ]
    }
   ],
   "source": [
    "# 문자열 반복\n",
    "str = 'ha' \n",
    "print(str*3)  # 출력: hahaha\n"
   ]
  },
  {
   "cell_type": "code",
   "execution_count": 15,
   "metadata": {},
   "outputs": [
    {
     "name": "stdout",
     "output_type": "stream",
     "text": [
      "HELLO PYTHON PROGRAMMING\n",
      "hello python programming\n",
      "Hello python programming\n",
      "Hello Python Programming\n"
     ]
    }
   ],
   "source": [
    "'''\n",
    "# 문자열 매서드 \n",
    "upper() : 대문자로 변환\n",
    "lower() : 소문자로 변환\n",
    "capitalize() : 첫글자를 대문자로 변환\n",
    "title() : 각 단어의 첫글자를 대문자로 변환\n",
    "'''\n",
    "\n",
    "str = 'hello python programming'\n",
    "\n",
    "print(str.upper())       # 'HELLO PYTHON PROGRAMMING'\n",
    "print(str.lower())       # 'hello python programming'\n",
    "print(str.capitalize())  # 'Hello python programming'\n",
    "print(str.title())       # 'Hello Python Programming'\n"
   ]
  },
  {
   "cell_type": "code",
   "execution_count": 18,
   "metadata": {},
   "outputs": [
    {
     "name": "stdout",
     "output_type": "stream",
     "text": [
      "7\n",
      "7\n"
     ]
    },
    {
     "ename": "ValueError",
     "evalue": "substring not found",
     "output_type": "error",
     "traceback": [
      "\u001b[0;31m---------------------------------------------------------------------------\u001b[0m",
      "\u001b[0;31mValueError\u001b[0m                                Traceback (most recent call last)",
      "Cell \u001b[0;32mIn[18], line 6\u001b[0m\n\u001b[1;32m      4\u001b[0m \u001b[38;5;28mprint\u001b[39m(\u001b[38;5;28mstr\u001b[39m\u001b[38;5;241m.\u001b[39mfind(\u001b[38;5;124m'\u001b[39m\u001b[38;5;124mPython\u001b[39m\u001b[38;5;124m'\u001b[39m))   \u001b[38;5;66;03m# 첫 번째 'Python'의 인덱스 반환 = 7\u001b[39;00m\n\u001b[1;32m      5\u001b[0m \u001b[38;5;28mprint\u001b[39m(\u001b[38;5;28mstr\u001b[39m\u001b[38;5;241m.\u001b[39mindex(\u001b[38;5;124m'\u001b[39m\u001b[38;5;124mPython\u001b[39m\u001b[38;5;124m'\u001b[39m)) \u001b[38;5;66;03m# 첫 번째 'Python'의 인덱스 반환 = 7\u001b[39;00m\n\u001b[0;32m----> 6\u001b[0m \u001b[38;5;28mprint\u001b[39m(\u001b[38;5;28mstr\u001b[39m\u001b[38;5;241m.\u001b[39mindex(\u001b[38;5;124m'\u001b[39m\u001b[38;5;124mHello\u001b[39m\u001b[38;5;124m'\u001b[39m)) \u001b[38;5;66;03m# str에 없는 문자일 경우 에러 발생 : ValueError: substring not found\u001b[39;00m\n\u001b[1;32m      7\u001b[0m \u001b[38;5;28mprint\u001b[39m(\u001b[38;5;28mstr\u001b[39m\u001b[38;5;241m.\u001b[39mreplace(\u001b[38;5;124m'\u001b[39m\u001b[38;5;124mPython\u001b[39m\u001b[38;5;124m'\u001b[39m, \u001b[38;5;124m'\u001b[39m\u001b[38;5;124mJava\u001b[39m\u001b[38;5;124m'\u001b[39m))\n",
      "\u001b[0;31mValueError\u001b[0m: substring not found"
     ]
    }
   ],
   "source": [
    "# 문자열 검색 및 교체\n",
    "str = 'I love Python programming. Python is fun!'\n",
    "\n",
    "print(str.find('Python'))   # 첫 번째 'Python'의 인덱스 반환 = 7\n",
    "print(str.index('Python')) # 첫 번째 'Python'의 인덱스 반환 = 7\n",
    "print(str.index('Hello')) # str에 없는 문자일 경우 에러 발생 : ValueError: substring not found\n",
    "print(str.replace('Python', 'Java'))  # 'Python'을 'Java'로 교체 = I love Java programming. Java is fun!"
   ]
  },
  {
   "cell_type": "code",
   "execution_count": 19,
   "metadata": {},
   "outputs": [
    {
     "name": "stdout",
     "output_type": "stream",
     "text": [
      "['apple', 'banana', 'cherry']\n",
      "apple & banana & cherry\n"
     ]
    }
   ],
   "source": [
    "# 문자열 분하롸 결합\n",
    "str = 'apple,banana,cherry'\n",
    "\n",
    "# 문자열 분할\n",
    "fruits = str.split(',')\n",
    "print(fruits)  # ['apple', 'banana', 'cherry']\n",
    "\n",
    "# 문자열 결합\n",
    "result = ' & '.join(fruits)\n",
    "print(result)  # 'apple & banana & cherry'"
   ]
  },
  {
   "cell_type": "code",
   "execution_count": 20,
   "metadata": {},
   "outputs": [
    {
     "name": "stdout",
     "output_type": "stream",
     "text": [
      "이름: 홍길동, 나이: 30\n"
     ]
    }
   ],
   "source": [
    "# 문자열 서식화\n",
    "# % 연산자를 사용하여 문자열 서식화를 할수있다\n",
    "name = '홍길동'\n",
    "age = 30\n",
    "\n",
    "print('이름: %s, 나이: %d' % (name, age))"
   ]
  },
  {
   "cell_type": "code",
   "execution_count": 21,
   "metadata": {},
   "outputs": [
    {
     "name": "stdout",
     "output_type": "stream",
     "text": [
      "이름: 홍길동, 나이: 30\n",
      "이름: 홍길동, 나이: 30\n",
      "나이: 30, 이름: 홍길동\n"
     ]
    }
   ],
   "source": [
    "# format() 메서드를 사용하여 문자열 서식화\n",
    "print('이름: {}, 나이: {}'.format(name, age))\n",
    "print('이름: {0}, 나이: {1}'.format(name, age))\n",
    "print('나이: {age}, 이름: {name}'.format(name=name, age=age))"
   ]
  },
  {
   "cell_type": "code",
   "execution_count": 22,
   "metadata": {},
   "outputs": [
    {
     "name": "stdout",
     "output_type": "stream",
     "text": [
      "이름: 홍길동, 나이: 30\n"
     ]
    }
   ],
   "source": [
    "print(f'이름: {name}, 나이: {age}')"
   ]
  },
  {
   "cell_type": "code",
   "execution_count": null,
   "metadata": {},
   "outputs": [],
   "source": [
    "# . 문자열의 불변성(Immutability)\n",
    "# 문자열은 불변(immutable) 객체입니다. 즉, \n",
    "# 문자열을 생성한 후에는 그 값을 변경할 수 없습니다. 변경이 필요한 경우 새로운 문자열을 생성해야 합니다.\n",
    "str = 'Hello'\n",
    "# str[0] = 'h'  # 오류 발생: TypeError: 'str' object does not support item assignment\n",
    "\n",
    "# 대신 새로운 문자열 생성\n",
    "str = 'h' + str[1:]\n",
    "print(str)  # 'hello'\n",
    "\n",
    "# 또는 새로운 변수 생성\n",
    "new_str = 'hello'\n",
    "print(new_str) # 'hello'"
   ]
  }
 ],
 "metadata": {
  "kernelspec": {
   "display_name": "llm",
   "language": "python",
   "name": "llm"
  },
  "language_info": {
   "codemirror_mode": {
    "name": "ipython",
    "version": 3
   },
   "file_extension": ".py",
   "mimetype": "text/x-python",
   "name": "python",
   "nbconvert_exporter": "python",
   "pygments_lexer": "ipython3",
   "version": "3.12.7"
  }
 },
 "nbformat": 4,
 "nbformat_minor": 2
}
