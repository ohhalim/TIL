{
 "cells": [
  {
   "cell_type": "code",
   "execution_count": null,
   "metadata": {},
   "outputs": [],
   "source": [
    "\n",
    "    - [ ?? 이것도 해야하는데]  각 대화 세션을 구분하여 저장하고, 불러올 수 있습니다.\n",
    "    나중에 해\n",
    "\n",
    "\n",
    "- **RAG 관련 내용**\n",
    "    - [ ]  FAISS를 Retriever로 변환할 수 있습니다.\n",
    "    - []  모델과 프롬프트를 연결하는 RAG 체인을 구성할 수 있습니다.\n",
    "\n",
    "\n",
    "1. 랭체인\n",
    "\n",
    "# 그럼 이제 랭체인 파이스 리트리버 만 하면돼\t\n",
    "\n",
    "\n",
    "2. 대화저장 이거 했어 0\n",
    "\n",
    "\n",
    "\n"
   ]
  }
 ],
 "metadata": {
  "language_info": {
   "name": "python"
  }
 },
 "nbformat": 4,
 "nbformat_minor": 2
}
