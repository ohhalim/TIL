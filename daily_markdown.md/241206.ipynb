{
 "cells": [
  {
   "cell_type": "markdown",
   "metadata": {},
   "source": [
    "오늘 도달해야할 목표\n",
    "\n",
    "1. 수준별 학습: 다음 날짜 내용 예습,  0\n",
    "2. 어제 배운 리스트 강의 복습 x\n",
    "3. 도커 강의 1주차 끝내기 0\n"
   ]
  },
  {
   "cell_type": "markdown",
   "metadata": {},
   "source": [
    "수준별 학습 예습\n",
    "\n",
    "튜플\n",
    "\n",
    "튜플은 순서가 있는 불변의 객체 집합입니다 \n",
    "리스트와 매우 유사하지만 한번 생성되면 내부의 요소를 변경할 수 없습니다 \n",
    "순서가 있다 \n",
    "불변성 \n",
    "중복을 허용\n",
    "다양한 테이터 타입을 포함 : 정수 문자열 리스트 등 다양한 타입의 객체를 포함할 수 있다\n",
    "\n",
    "```python\n",
    "\n",
    "my_tuple = (1,2,3)\n",
    "\n",
    "print(my_tuple)\n",
    "```\n"
   ]
  },
  {
   "cell_type": "markdown",
   "metadata": {},
   "source": [
    "튜플 생성 방법\n",
    "\n",
    "가장 일반적인 방법은 소괄호()를 사용하는 것 입니다.\n",
    "\n"
   ]
  },
  {
   "cell_type": "code",
   "execution_count": 2,
   "metadata": {},
   "outputs": [
    {
     "name": "stdout",
     "output_type": "stream",
     "text": [
      "(1, 2, 3)\n",
      "('apple', 'banana', 'cherrt')\n",
      "(1, 'apple', 3, 14, True)\n"
     ]
    }
   ],
   "source": [
    "# 숫자형 튜플 \n",
    "numbers = (1,2,3)\n",
    "\n",
    "# 문자형 튜플\n",
    "fruits = (\"apple\", \"banana\", \"cherrt\")\n",
    "\n",
    "# 다양한 데이터 타입을 포함한 튜플\n",
    "mixed =(1,'apple', 3,14, True)\n",
    "\n",
    "print(numbers) # 출력: (1,2,3)\n",
    "print(fruits) # cnffur:('apple', 'banan', 'cherrt')\n",
    "print(mixed) "
   ]
  },
  {
   "cell_type": "code",
   "execution_count": 6,
   "metadata": {},
   "outputs": [
    {
     "name": "stdout",
     "output_type": "stream",
     "text": [
      "(1, 2, 3)\n",
      "<class 'tuple'>\n",
      "(5,)\n",
      "<class 'tuple'>\n",
      "<class 'int'>\n"
     ]
    }
   ],
   "source": [
    "# 괄호 없이 생성(튜플 패킹)\n",
    "\n",
    "#괄호를 생략하고 여러값을 쉼푤 구분하면 튜플로 인식 됩니다\n",
    "\n",
    "my_tuple = 1,2,3\n",
    "print(my_tuple)\n",
    "print(type(my_tuple)) \n",
    "\n",
    "#단일 요소 튜플 생성시 주의점 \n",
    "# 요소가 하나뿐인 튜플을 생성할떄는 쉼표, 를 반드시 포함해야 합니다\n",
    "\n",
    "single_element = (5,)\n",
    "print(single_element)\n",
    "print(type(single_element))\n",
    "\n",
    "# 쉼표가 없으면 일반 값을 인식\n",
    "not_a_tuple =(5)\n",
    "print(type(not_a_tuple))\n"
   ]
  },
  {
   "cell_type": "code",
   "execution_count": 7,
   "metadata": {},
   "outputs": [
    {
     "name": "stdout",
     "output_type": "stream",
     "text": [
      "(1, 2, 3)\n"
     ]
    }
   ],
   "source": [
    "# tuple() 함수를 사용한 생성\n",
    "#이터러블(반복가능한) 객체를 튜플로 변환할 떄 사용합니다\n",
    "\n",
    "# 리스트를 튜플로 변환\n",
    "my_list = [1,2,3]\n",
    "my_tuple = tuple(my_list)\n",
    "print(my_tuple)"
   ]
  },
  {
   "cell_type": "code",
   "execution_count": 9,
   "metadata": {},
   "outputs": [
    {
     "name": "stdout",
     "output_type": "stream",
     "text": [
      "('h', 'e', 'l', 'l', 'o')\n"
     ]
    }
   ],
   "source": [
    "# 문자열을 튜플로 변환\n",
    "\n",
    "string = 'hello'\n",
    "char_tuple = tuple(string)\n",
    "print(char_tuple)\n"
   ]
  },
  {
   "cell_type": "code",
   "execution_count": 11,
   "metadata": {},
   "outputs": [
    {
     "name": "stdout",
     "output_type": "stream",
     "text": [
      "apple\n",
      "banana\n",
      "cherrt\n"
     ]
    }
   ],
   "source": [
    "# 튜플의 인덱싱(검사를 어디서 부터 할지??)과 슬라이싱\n",
    "# 튜플은 시퀀스 자료형이므로 인덱싱과 슬라이싱이 가능합니다\n",
    "\n",
    "# 인덱싱: 인덱스를 사용하여 튜플의 특정위치에 있는 요소에 접근할수있습니다\n",
    "# 인덱스는 0부터 시작하며 음수를 사용하면 뒤엇부터 접근합니다\n",
    "\n",
    "fruits=('apple', 'banana', 'cherrt', 'date')\n",
    "print(fruits[0])\n",
    "print(fruits[1])\n",
    "print(fruits[-2])\n"
   ]
  },
  {
   "cell_type": "code",
   "execution_count": 12,
   "metadata": {},
   "outputs": [
    {
     "name": "stdout",
     "output_type": "stream",
     "text": [
      "(2, 3, 4)\n",
      "(0, 1, 2)\n",
      "(4, 5, 6)\n",
      "(0, 2, 4, 6)\n",
      "(6, 5, 4, 3, 2, 1, 0)\n"
     ]
    }
   ],
   "source": [
    "# 슬라이싱: 슬라이싱은 튜플의 일부를 잘라내어 새로운 튜플을 만드는 방법입니다.\n",
    "# 문법은 리스트의 슬라이시과 동일\n",
    "\n",
    "# 슬라이싱 구문은 start:stop:step 형식으로 사용합니다\n",
    "\n",
    "numbers = (0, 1, 2, 3,4,5,6)\n",
    "\n",
    "print(numbers[2:5])\n",
    "print(numbers[:3])\n",
    "print(numbers[4:])\n",
    "print(numbers[::2])\n",
    "print(numbers[::-1])\n"
   ]
  },
  {
   "cell_type": "code",
   "execution_count": 13,
   "metadata": {},
   "outputs": [
    {
     "ename": "TypeError",
     "evalue": "'tuple' object does not support item assignment",
     "output_type": "error",
     "traceback": [
      "\u001b[0;31m---------------------------------------------------------------------------\u001b[0m",
      "\u001b[0;31mTypeError\u001b[0m                                 Traceback (most recent call last)",
      "Cell \u001b[0;32mIn[13], line 4\u001b[0m\n\u001b[1;32m      1\u001b[0m \u001b[38;5;66;03m# 튜플의 불변성 : 튜플은 변경할수 없는 자료형입니다\u001b[39;00m\n\u001b[1;32m      3\u001b[0m my_tuple \u001b[38;5;241m=\u001b[39m (\u001b[38;5;241m1\u001b[39m, \u001b[38;5;241m2\u001b[39m, \u001b[38;5;241m3\u001b[39m)\n\u001b[0;32m----> 4\u001b[0m my_tuple[\u001b[38;5;241m0\u001b[39m] \u001b[38;5;241m=\u001b[39m\u001b[38;5;241m10\u001b[39m\n",
      "\u001b[0;31mTypeError\u001b[0m: 'tuple' object does not support item assignment"
     ]
    }
   ],
   "source": [
    "# 튜플의 불변성 : 튜플은 변경할수 없는 자료형입니다\n",
    "\n",
    "my_tuple = (1, 2, 3)\n",
    "my_tuple[0] =10 "
   ]
  },
  {
   "cell_type": "code",
   "execution_count": 15,
   "metadata": {},
   "outputs": [
    {
     "name": "stdout",
     "output_type": "stream",
     "text": [
      "(1, 2, 3, 4)\n",
      "(1, 2, 3)\n",
      "(1, 2, 3, 4)\n"
     ]
    }
   ],
   "source": [
    "# 요소 추가 및 삭제 불가\n",
    "# 요소 추가 시도\n",
    "my_tuple = (1, 2, 3)\n",
    "my_tuple +=(4,)\n",
    "print(my_tuple) # 그러나 원본 튜플은 변경되지 않습니다\n",
    "\n",
    "\n",
    "original_tuple =(1,2,3)\n",
    "new_tuple = original_tuple +(4,)\n",
    "print(original_tuple)\n",
    "print(new_tuple)\n"
   ]
  },
  {
   "cell_type": "code",
   "execution_count": 16,
   "metadata": {},
   "outputs": [
    {
     "name": "stdout",
     "output_type": "stream",
     "text": [
      "2\n",
      "3\n"
     ]
    }
   ],
   "source": [
    "# 튜플 매서드: 튜플은 불변성이 있기 떄문에 사용가능한 매서드가 제한적입니다\n",
    "# count(item) : 튜플에서 특정 요소의 개수를 반환합니다.\n",
    "\n",
    "numbers = (1, 2, 2, 3, 3,3)\n",
    "print(numbers.count(2)) # 2의 개수가 2개니까 출력 2개\n",
    "print(numbers.count(3))\n",
    "\n"
   ]
  },
  {
   "cell_type": "code",
   "execution_count": 19,
   "metadata": {},
   "outputs": [
    {
     "name": "stdout",
     "output_type": "stream",
     "text": [
      "1\n",
      "Point A\n"
     ]
    }
   ],
   "source": [
    "# index 튜플에서 첫벗째로 일치하는 요소의 인덱스를 반환합니다\n",
    "fruits = ('apple', 'banana', 'cherry')\n",
    "print(fruits.index('banana'))\n",
    "\n",
    "\n",
    "# 튜플과 리스트의 차이점\n",
    "\n",
    "# 특징 \n",
    "# 기호: 튜플은 ()또는 생략 | 리스트는 [] \n",
    "# 변경 가능성: 튜플은 불변 | 리스트는 가변\n",
    "# 요소 추가 삭제: 튜플 불가능 | 리스트 가능\n",
    "#사용 사례 : 튜플 변경이 불필요한 데이터, 키로 사용 | 리스트 데이터 조작이 필요한 경우\n",
    "\n",
    "# 튜플의 활용\n",
    "\n",
    "# 튜플은 그 불변성으로 인해 다음과  같은 상황에서 유용하게 사용\n",
    "\n",
    "# 1. 딕셔너리의 키로 사용\n",
    "# 튜플은 불변성이 있기 태문에 딕셔너리의 키로 사용 할 수 있습니다\n",
    "\n",
    "my_dict ={ (1, 2): \"Point A\", (3, 4): \"Point B\"}\n",
    "print(my_dict[(1,2)])"
   ]
  },
  {
   "cell_type": "code",
   "execution_count": 1,
   "metadata": {},
   "outputs": [
    {
     "name": "stdout",
     "output_type": "stream",
     "text": [
      "(10, 20)\n",
      "<class 'tuple'>\n",
      "(1, 2, 3)\n",
      "1\n",
      "2\n",
      "3\n"
     ]
    }
   ],
   "source": [
    "# 함수의 복수 반환값\n",
    "# 함수에서 여러 값을 반환할때 튜플을 사용합니다\n",
    "def get_position():\n",
    "    x = 10 \n",
    "    y =20\n",
    "    return x, y #  튜플로 반환\n",
    "\n",
    "pos = get_position()\n",
    "print(pos)\n",
    "print(type(pos))\n",
    "\n",
    "# 변수의 패킹과 언패킹\n",
    "# 패킹 : 여러개의 값을 하나의 튜플로 묶는 것을 말합니다\n",
    "\n",
    "packed_tuple = 1, 2, 3\n",
    "print(packed_tuple)\n",
    "\n",
    "# 언패킹\n",
    "# 튜플의 요소를 여러개의 변수에 할당하는 것을 말합니다\n",
    "a, b, c = packed_tuple\n",
    "print(a)\n",
    "print(b)\n",
    "print(c)\n"
   ]
  },
  {
   "cell_type": "code",
   "execution_count": 3,
   "metadata": {},
   "outputs": [
    {
     "name": "stdout",
     "output_type": "stream",
     "text": [
      "(2, 3)\n",
      "(5, 6)\n",
      "5\n"
     ]
    }
   ],
   "source": [
    "# 순서가 중요한 데이터 저장\n",
    "# 좌표나 날짜등 순서가 중요한 데이터를 저장할떄 튜플을 사용\n",
    "\n",
    "point = (10, 20)\n",
    "date =(2023, 9, 15)\n",
    "\n",
    "\n",
    "# 중첩 튜플 : 튜플 안에 튜플을 요소로 가질 수 있다\n",
    "nested_tuple =(1, (2,3), (4,(5, 6)))\n",
    "print(nested_tuple[1])\n",
    "print(nested_tuple[2][1])\n",
    "print(nested_tuple[2][1][0])\n",
    "\n",
    "\n"
   ]
  },
  {
   "cell_type": "code",
   "execution_count": 4,
   "metadata": {},
   "outputs": [
    {
     "name": "stdout",
     "output_type": "stream",
     "text": [
      "104\n",
      "80\n"
     ]
    }
   ],
   "source": [
    "# 튜플과 메모리 관리: 튜플은 리스트 보자 메모리 사용량이 적고 . 불편성이 있기 때문에 안전합니다\n",
    "\n",
    "import sys\n",
    "\n",
    "list_data = [1, 2, 3, 4, 5]\n",
    "tuple_data = (1, 2, 3, 4, 5)\n",
    "\n",
    "print(sys.getsizeof(list_data))\n",
    "print(sys.getsizeof(tuple_data))\n"
   ]
  },
  {
   "cell_type": "code",
   "execution_count": 5,
   "metadata": {},
   "outputs": [
    {
     "name": "stdout",
     "output_type": "stream",
     "text": [
      "apple\n",
      "banana\n",
      "cherry\n",
      "인덱스 0: apple\n",
      "인덱스 1: banana\n",
      "인덱스 2: cherry\n"
     ]
    }
   ],
   "source": [
    "# 튜플의 반복문 활용 : 튜플의 각요소에 접근하고 처리하기위헤 반복문을 사용\n",
    "\n",
    "# for 루프\n",
    "fruits = (\"apple\", \"banana\", \"cherry\")\n",
    " \n",
    "\n",
    "for fruit in fruits:\n",
    "    print(fruit)\n",
    "\n",
    "\n",
    "# 인덱스와 함꼐 반복하기\n",
    "\n",
    "for index, value in enumerate(fruits):\n",
    "    print(f'인덱스 {index}: {value}')\n",
    "    "
   ]
  },
  {
   "cell_type": "code",
   "execution_count": 7,
   "metadata": {},
   "outputs": [
    {
     "name": "stdout",
     "output_type": "stream",
     "text": [
      "True\n"
     ]
    }
   ],
   "source": [
    "# 튜플의 비교와 정렬: 튜플은 요소별로 비교할 수 있으며 졍렬된 시퀀스를 필요로 하는 경우에 유용\n",
    "\n",
    "# 튜플의 비교\n",
    "\n",
    "tuple1 = (1, 2, 3)\n",
    "tuple2 = (1, 2, 4)\n",
    "\n",
    "print(tuple1 < tuple2) "
   ]
  },
  {
   "cell_type": "code",
   "execution_count": 9,
   "metadata": {},
   "outputs": [
    {
     "name": "stdout",
     "output_type": "stream",
     "text": [
      "[('Dave', 'A', 10), ('Janne', 'B', 12), ('john', 'A', 15)]\n"
     ]
    }
   ],
   "source": [
    "# 튜플의 정렬 : 튜플의 리스트를 정렬할 수 있습니다\n",
    "students = [('john', 'A', 15), ('Janne', 'B', 12), ('Dave', 'A', 10)]\n",
    "\n",
    "# 나이를 기준으로 정렬\n",
    "students_sorted = sorted(students, key=lambda student: student[2])\n",
    "print(students_sorted)\n"
   ]
  },
  {
   "cell_type": "code",
   "execution_count": 1,
   "metadata": {},
   "outputs": [
    {
     "name": "stdout",
     "output_type": "stream",
     "text": [
      "20\n",
      "10\n"
     ]
    }
   ],
   "source": [
    "# 실용적인 예제\n",
    "\n",
    "# 두변수의 값 교환 : 튜플의 언패킹을 이용하여 두 변수의 값으 교환 할 수 있습니다\n",
    "\n",
    "a = 10\n",
    "b = 20\n",
    "\n",
    "a, b = b, a\n",
    "print(a)\n",
    "print(b)\n",
    "\n"
   ]
  },
  {
   "cell_type": "code",
   "execution_count": 3,
   "metadata": {},
   "outputs": [
    {
     "name": "stdout",
     "output_type": "stream",
     "text": [
      "(15, 5, 50)\n"
     ]
    }
   ],
   "source": [
    "# 함수에서 여러값 반환 \n",
    "def calculate(a, b):\n",
    "    sum_ = a + b\n",
    "    diff = a - b\n",
    "    prod = a * b\n",
    "    return sum_, diff, prod\n",
    "\n",
    "\n",
    "result = calculate(10, 5)\n",
    "print(result)\n"
   ]
  },
  {
   "cell_type": "code",
   "execution_count": 8,
   "metadata": {},
   "outputs": [
    {
     "name": "stdout",
     "output_type": "stream",
     "text": [
      "<class 'list'>\n",
      "<class 'tuple'>\n"
     ]
    }
   ],
   "source": [
    "# 리스트와의 상호변환 : 튜플과 리스트는 상호 변환 가능\n",
    "my_tuple = (1, 2, 3)    \n",
    "my_list = list(my_tuple)\n",
    "print(type(my_list))\n",
    "\n",
    "my_new_tuple = tuple(my_list)\n",
    "print(type(my_new_tuple))  "
   ]
  },
  {
   "cell_type": "code",
   "execution_count": 9,
   "metadata": {},
   "outputs": [
    {
     "name": "stdout",
     "output_type": "stream",
     "text": [
      "0 0 0\n"
     ]
    }
   ],
   "source": [
    "# 여러 변수 에 동리한 값할당\n",
    "\n",
    "x = y= z = 0\n",
    "\n",
    "print(x, y, z,)"
   ]
  },
  {
   "cell_type": "code",
   "execution_count": 10,
   "metadata": {},
   "outputs": [],
   "source": [
    "# 튜플의 불변성 을 활용한 안전한 코드 작성\n",
    "\n",
    "def process_data(data):\n",
    "    # 데이터 처리 로직\n",
    "    pass\n",
    "\n",
    "\n",
    "immutable_data = (1, 2, 3)\n",
    "process_data(immutable_data)\n"
   ]
  },
  {
   "cell_type": "code",
   "execution_count": 11,
   "metadata": {},
   "outputs": [
    {
     "name": "stdout",
     "output_type": "stream",
     "text": [
      "John Doe\n",
      "28\n",
      "Engineer\n"
     ]
    },
    {
     "data": {
      "text/plain": [
       "''"
      ]
     },
     "execution_count": 11,
     "metadata": {},
     "output_type": "execute_result"
    }
   ],
   "source": [
    "# 튜플과 데이터 베이스 : 튜플은 데이터 베이스 에서 레코들르 표현할떄 유용\n",
    "\n",
    "# 예를 들어, 데이터 베이스에서 가져온 레코드\n",
    "record = ('John Doe', 28, 'Engineer')\n",
    "\n",
    "name, age, profession = record\n",
    "print(name)\n",
    "print(age)\n",
    "print(profession)\n",
    "\"\"\n"
   ]
  },
  {
   "cell_type": "code",
   "execution_count": 14,
   "metadata": {},
   "outputs": [
    {
     "name": "stdout",
     "output_type": "stream",
     "text": [
      "Alice\n",
      "30\n",
      "Female\n"
     ]
    }
   ],
   "source": [
    "# 튜플과 네임드 튜플 : 네임드 튜플은 튜플에 이름을 부여하여 코드의 가독성을 높입니다\n",
    "from collections import namedtuple\n",
    "\n",
    "# Person이라는 네임드 튜플 정의\n",
    "Person = namedtuple('Person', ['name', 'age', 'gender'])\n",
    "p = Person(name='Alice', age=30, gender='Female')\n",
    "\n",
    "print(p.name)\n",
    "print(p.age)\n",
    "print(p.gender)"
   ]
  },
  {
   "cell_type": "code",
   "execution_count": null,
   "metadata": {},
   "outputs": [],
   "source": []
  }
 ],
 "metadata": {
  "kernelspec": {
   "display_name": "llm",
   "language": "python",
   "name": "llm"
  },
  "language_info": {
   "codemirror_mode": {
    "name": "ipython",
    "version": 3
   },
   "file_extension": ".py",
   "mimetype": "text/x-python",
   "name": "python",
   "nbconvert_exporter": "python",
   "pygments_lexer": "ipython3",
   "version": "3.12.7"
  }
 },
 "nbformat": 4,
 "nbformat_minor": 2
}
