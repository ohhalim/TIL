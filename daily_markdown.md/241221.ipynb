{
 "cells": [
  {
   "cell_type": "markdown",
   "metadata": {},
   "source": [
    "241221 오늘 한거 > 간단해 지금 집중할건 단 한가지야  \n",
    "장고강의 : 기초 다 듣기 > 진행상황: 1-19까지 들음 > 정리위치: 장고폴더"
   ]
  }
 ],
 "metadata": {
  "language_info": {
   "name": "python"
  }
 },
 "nbformat": 4,
 "nbformat_minor": 2
}
