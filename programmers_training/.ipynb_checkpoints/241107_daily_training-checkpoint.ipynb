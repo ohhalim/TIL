{
 "cells": [
  {
   "cell_type": "markdown",
   "id": "7fa29cce-7938-4e40-8c18-efe04dbdc323",
   "metadata": {},
   "source": [
    "문자열 str이 주어질 때, str을 출력하는 코드를 작성해 보세요.\n",
    "\n",
    "제한사항\n",
    "1 ≤ str의 길이 ≤ 1,000,000\n",
    "str에는 공백이 없으며, 첫째 줄에 한 줄로만 주어집니다."
   ]
  },
  {
   "cell_type": "code",
   "execution_count": null,
   "id": "d538a90d-51be-458f-bad1-1111053344b6",
   "metadata": {},
   "outputs": [],
   "source": []
  }
 ],
 "metadata": {
  "kernelspec": {
   "display_name": "Python 3 (ipykernel)",
   "language": "python",
   "name": "python3"
  },
  "language_info": {
   "codemirror_mode": {
    "name": "ipython",
    "version": 3
   },
   "file_extension": ".py",
   "mimetype": "text/x-python",
   "name": "python",
   "nbconvert_exporter": "python",
   "pygments_lexer": "ipython3",
   "version": "3.12.7"
  }
 },
 "nbformat": 4,
 "nbformat_minor": 5
}
