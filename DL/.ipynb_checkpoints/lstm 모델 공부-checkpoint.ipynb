{
 "cells": [
  {
   "cell_type": "code",
   "execution_count": 1,
   "id": "6b783807-1d38-4f3f-9fb1-976baf98a82f",
   "metadata": {},
   "outputs": [],
   "source": [
    "import torch\n",
    "import torch.nn as nn\n",
    "import torch.optim as optim\n",
    "import torchvision\n",
    "import torchvision.transforms as transforms"
   ]
  },
  {
   "cell_type": "code",
   "execution_count": 3,
   "id": "7ef2db47-bf75-4aef-b902-b36249a50ecd",
   "metadata": {},
   "outputs": [
    {
     "name": "stdout",
     "output_type": "stream",
     "text": [
      "Downloading http://yann.lecun.com/exdb/mnist/train-images-idx3-ubyte.gz\n",
      "Failed to download (trying next):\n",
      "<urlopen error [SSL: CERTIFICATE_VERIFY_FAILED] certificate verify failed: certificate has expired (_ssl.c:1000)>\n",
      "\n",
      "Downloading https://ossci-datasets.s3.amazonaws.com/mnist/train-images-idx3-ubyte.gz\n",
      "Downloading https://ossci-datasets.s3.amazonaws.com/mnist/train-images-idx3-ubyte.gz to ./data/MNIST/raw/train-images-idx3-ubyte.gz\n"
     ]
    },
    {
     "name": "stderr",
     "output_type": "stream",
     "text": [
      "100.0%\n"
     ]
    },
    {
     "name": "stdout",
     "output_type": "stream",
     "text": [
      "Extracting ./data/MNIST/raw/train-images-idx3-ubyte.gz to ./data/MNIST/raw\n",
      "\n",
      "Downloading http://yann.lecun.com/exdb/mnist/train-labels-idx1-ubyte.gz\n",
      "Failed to download (trying next):\n",
      "<urlopen error [SSL: CERTIFICATE_VERIFY_FAILED] certificate verify failed: certificate has expired (_ssl.c:1000)>\n",
      "\n",
      "Downloading https://ossci-datasets.s3.amazonaws.com/mnist/train-labels-idx1-ubyte.gz\n",
      "Downloading https://ossci-datasets.s3.amazonaws.com/mnist/train-labels-idx1-ubyte.gz to ./data/MNIST/raw/train-labels-idx1-ubyte.gz\n"
     ]
    },
    {
     "name": "stderr",
     "output_type": "stream",
     "text": [
      "100.0%\n"
     ]
    },
    {
     "name": "stdout",
     "output_type": "stream",
     "text": [
      "Extracting ./data/MNIST/raw/train-labels-idx1-ubyte.gz to ./data/MNIST/raw\n",
      "\n",
      "Downloading http://yann.lecun.com/exdb/mnist/t10k-images-idx3-ubyte.gz\n",
      "Failed to download (trying next):\n",
      "<urlopen error [SSL: CERTIFICATE_VERIFY_FAILED] certificate verify failed: certificate has expired (_ssl.c:1000)>\n",
      "\n",
      "Downloading https://ossci-datasets.s3.amazonaws.com/mnist/t10k-images-idx3-ubyte.gz\n",
      "Downloading https://ossci-datasets.s3.amazonaws.com/mnist/t10k-images-idx3-ubyte.gz to ./data/MNIST/raw/t10k-images-idx3-ubyte.gz\n"
     ]
    },
    {
     "name": "stderr",
     "output_type": "stream",
     "text": [
      "100.0%\n"
     ]
    },
    {
     "name": "stdout",
     "output_type": "stream",
     "text": [
      "Extracting ./data/MNIST/raw/t10k-images-idx3-ubyte.gz to ./data/MNIST/raw\n",
      "\n",
      "Downloading http://yann.lecun.com/exdb/mnist/t10k-labels-idx1-ubyte.gz\n",
      "Failed to download (trying next):\n",
      "<urlopen error [SSL: CERTIFICATE_VERIFY_FAILED] certificate verify failed: certificate has expired (_ssl.c:1000)>\n",
      "\n",
      "Downloading https://ossci-datasets.s3.amazonaws.com/mnist/t10k-labels-idx1-ubyte.gz\n",
      "Downloading https://ossci-datasets.s3.amazonaws.com/mnist/t10k-labels-idx1-ubyte.gz to ./data/MNIST/raw/t10k-labels-idx1-ubyte.gz\n"
     ]
    },
    {
     "name": "stderr",
     "output_type": "stream",
     "text": [
      "100.0%"
     ]
    },
    {
     "name": "stdout",
     "output_type": "stream",
     "text": [
      "Extracting ./data/MNIST/raw/t10k-labels-idx1-ubyte.gz to ./data/MNIST/raw\n",
      "\n"
     ]
    },
    {
     "name": "stderr",
     "output_type": "stream",
     "text": [
      "\n"
     ]
    }
   ],
   "source": [
    "# 데이터셋 전처리\n",
    "transform = transforms.Compose([\n",
    "    transforms.ToTensor(),\n",
    "    transforms.Normalize((0.5,), (0.5,))\n",
    "])\n",
    "\n",
    "# MNIST 데이터셋 로드\n",
    "trainset = torchvision.datasets.MNIST(root='./data', train=True, download=True, transform=transform)\n",
    "trainloader = torch.utils.data.DataLoader(trainset, batch_size=64, shuffle=True)\n",
    "\n",
    "testset = torchvision.datasets.MNIST(root='./data', train=False, download=True, transform=transform)\n",
    "testloader = torch.utils.data.DataLoader(testset, batch_size=64, shuffle=False)"
   ]
  },
  {
   "cell_type": "code",
   "execution_count": 5,
   "id": "e72c8ff9-f41e-4c45-bc17-a66728d78bd7",
   "metadata": {},
   "outputs": [],
   "source": [
    "class SimpleANN(nn.Module):\n",
    "    def __init__(self):\n",
    "        super(SimpleANN, self).__init__()\n",
    "        self.fc1 = nn.Linear(28 * 28, 128)  # 입력층에서 은닉층으로\n",
    "        self.fc2 = nn.Linear(128, 64)       # 은닉층에서 은닉층으로\n",
    "        self.fc3 = nn.Linear(64, 10)        # 은닉층에서 출력층으로\n",
    "\n",
    "    def forward(self, x):\n",
    "        x = x.view(-1, 28 * 28)  # 입력 이미지를 1차원 벡터로 변환\n",
    "        x = torch.relu(self.fc1(x))\n",
    "        x = torch.relu(self.fc2(x))\n",
    "        x = self.fc3(x)\n",
    "        return x"
   ]
  },
  {
   "cell_type": "code",
   "execution_count": 7,
   "id": "9a53df33-f6df-458c-9172-493582ae052e",
   "metadata": {},
   "outputs": [
    {
     "name": "stdout",
     "output_type": "stream",
     "text": [
      "[Epoch 1, Batch 100] loss: 1.337\n",
      "[Epoch 1, Batch 200] loss: 0.461\n",
      "[Epoch 1, Batch 300] loss: 0.382\n",
      "[Epoch 1, Batch 400] loss: 0.336\n",
      "[Epoch 1, Batch 500] loss: 0.307\n",
      "[Epoch 1, Batch 600] loss: 0.321\n",
      "[Epoch 1, Batch 700] loss: 0.268\n",
      "[Epoch 1, Batch 800] loss: 0.260\n",
      "[Epoch 1, Batch 900] loss: 0.237\n",
      "[Epoch 2, Batch 100] loss: 0.198\n",
      "[Epoch 2, Batch 200] loss: 0.200\n",
      "[Epoch 2, Batch 300] loss: 0.194\n",
      "[Epoch 2, Batch 400] loss: 0.168\n",
      "[Epoch 2, Batch 500] loss: 0.171\n",
      "[Epoch 2, Batch 600] loss: 0.160\n",
      "[Epoch 2, Batch 700] loss: 0.167\n",
      "[Epoch 2, Batch 800] loss: 0.171\n",
      "[Epoch 2, Batch 900] loss: 0.150\n",
      "[Epoch 3, Batch 100] loss: 0.138\n",
      "[Epoch 3, Batch 200] loss: 0.127\n",
      "[Epoch 3, Batch 300] loss: 0.140\n",
      "[Epoch 3, Batch 400] loss: 0.127\n",
      "[Epoch 3, Batch 500] loss: 0.125\n",
      "[Epoch 3, Batch 600] loss: 0.119\n",
      "[Epoch 3, Batch 700] loss: 0.125\n",
      "[Epoch 3, Batch 800] loss: 0.118\n",
      "[Epoch 3, Batch 900] loss: 0.123\n",
      "[Epoch 4, Batch 100] loss: 0.104\n",
      "[Epoch 4, Batch 200] loss: 0.116\n",
      "[Epoch 4, Batch 300] loss: 0.096\n",
      "[Epoch 4, Batch 400] loss: 0.101\n",
      "[Epoch 4, Batch 500] loss: 0.100\n",
      "[Epoch 4, Batch 600] loss: 0.104\n",
      "[Epoch 4, Batch 700] loss: 0.101\n",
      "[Epoch 4, Batch 800] loss: 0.106\n",
      "[Epoch 4, Batch 900] loss: 0.098\n",
      "[Epoch 5, Batch 100] loss: 0.084\n",
      "[Epoch 5, Batch 200] loss: 0.072\n",
      "[Epoch 5, Batch 300] loss: 0.093\n",
      "[Epoch 5, Batch 400] loss: 0.092\n",
      "[Epoch 5, Batch 500] loss: 0.103\n",
      "[Epoch 5, Batch 600] loss: 0.079\n",
      "[Epoch 5, Batch 700] loss: 0.072\n",
      "[Epoch 5, Batch 800] loss: 0.094\n",
      "[Epoch 5, Batch 900] loss: 0.088\n",
      "[Epoch 6, Batch 100] loss: 0.074\n",
      "[Epoch 6, Batch 200] loss: 0.078\n",
      "[Epoch 6, Batch 300] loss: 0.076\n",
      "[Epoch 6, Batch 400] loss: 0.073\n",
      "[Epoch 6, Batch 500] loss: 0.078\n",
      "[Epoch 6, Batch 600] loss: 0.079\n",
      "[Epoch 6, Batch 700] loss: 0.078\n",
      "[Epoch 6, Batch 800] loss: 0.079\n",
      "[Epoch 6, Batch 900] loss: 0.068\n",
      "[Epoch 7, Batch 100] loss: 0.058\n",
      "[Epoch 7, Batch 200] loss: 0.057\n",
      "[Epoch 7, Batch 300] loss: 0.066\n",
      "[Epoch 7, Batch 400] loss: 0.062\n",
      "[Epoch 7, Batch 500] loss: 0.060\n",
      "[Epoch 7, Batch 600] loss: 0.052\n",
      "[Epoch 7, Batch 700] loss: 0.080\n",
      "[Epoch 7, Batch 800] loss: 0.068\n",
      "[Epoch 7, Batch 900] loss: 0.070\n",
      "[Epoch 8, Batch 100] loss: 0.053\n",
      "[Epoch 8, Batch 200] loss: 0.054\n",
      "[Epoch 8, Batch 300] loss: 0.075\n",
      "[Epoch 8, Batch 400] loss: 0.074\n",
      "[Epoch 8, Batch 500] loss: 0.054\n",
      "[Epoch 8, Batch 600] loss: 0.067\n",
      "[Epoch 8, Batch 700] loss: 0.048\n",
      "[Epoch 8, Batch 800] loss: 0.056\n",
      "[Epoch 8, Batch 900] loss: 0.062\n",
      "[Epoch 9, Batch 100] loss: 0.049\n",
      "[Epoch 9, Batch 200] loss: 0.049\n",
      "[Epoch 9, Batch 300] loss: 0.056\n",
      "[Epoch 9, Batch 400] loss: 0.050\n",
      "[Epoch 9, Batch 500] loss: 0.052\n",
      "[Epoch 9, Batch 600] loss: 0.056\n",
      "[Epoch 9, Batch 700] loss: 0.053\n",
      "[Epoch 9, Batch 800] loss: 0.053\n",
      "[Epoch 9, Batch 900] loss: 0.056\n",
      "[Epoch 10, Batch 100] loss: 0.037\n",
      "[Epoch 10, Batch 200] loss: 0.042\n",
      "[Epoch 10, Batch 300] loss: 0.047\n",
      "[Epoch 10, Batch 400] loss: 0.043\n",
      "[Epoch 10, Batch 500] loss: 0.046\n",
      "[Epoch 10, Batch 600] loss: 0.055\n",
      "[Epoch 10, Batch 700] loss: 0.050\n",
      "[Epoch 10, Batch 800] loss: 0.052\n",
      "[Epoch 10, Batch 900] loss: 0.052\n",
      "Finished Training\n"
     ]
    }
   ],
   "source": [
    "# 모델 초기화\n",
    "model = SimpleANN()\n",
    "\n",
    "# 손실 함수와 최적화 알고리즘 정의\n",
    "criterion = nn.CrossEntropyLoss()\n",
    "optimizer = optim.SGD(model.parameters(), lr=0.01, momentum=0.9)\n",
    "\n",
    "# 모델 학습\n",
    "for epoch in range(10):  # 10 에포크 동안 학습\n",
    "    running_loss = 0.0\n",
    "    for i, data in enumerate(trainloader, 0):\n",
    "        inputs, labels = data\n",
    "\n",
    "        # 기울기 초기화\n",
    "        optimizer.zero_grad()\n",
    "\n",
    "        # 순전파 + 역전파 + 최적화\n",
    "        outputs = model(inputs)\n",
    "        loss = criterion(outputs, labels)\n",
    "        loss.backward()\n",
    "        optimizer.step()\n",
    "\n",
    "        # 손실 출력\n",
    "        running_loss += loss.item()\n",
    "        if i % 100 == 99:  # 매 100 미니배치마다 출력\n",
    "            print(f'[Epoch {epoch + 1}, Batch {i + 1}] loss: {running_loss / 100:.3f}')\n",
    "            running_loss = 0.0\n",
    "\n",
    "print('Finished Training')"
   ]
  },
  {
   "cell_type": "code",
   "execution_count": 9,
   "id": "10b842f0-c830-4df9-9ff6-b444edf5aa68",
   "metadata": {},
   "outputs": [
    {
     "name": "stdout",
     "output_type": "stream",
     "text": [
      "Accuracy of the network on the 10000 test images: 97.70%\n"
     ]
    }
   ],
   "source": [
    "correct = 0\n",
    "total = 0\n",
    "with torch.no_grad():\n",
    "    for data in testloader:\n",
    "        images, labels = data\n",
    "        outputs = model(images)\n",
    "        _, predicted = torch.max(outputs.data, 1)\n",
    "        total += labels.size(0)\n",
    "        correct += (predicted == labels).sum().item()\n",
    "\n",
    "print(f'Accuracy of the network on the 10000 test images: {100 * correct / total:.2f}%')\n"
   ]
  },
  {
   "cell_type": "code",
   "execution_count": null,
   "id": "339f0d0f-41f3-4cb1-96b8-621eedc27fe6",
   "metadata": {},
   "outputs": [],
   "source": []
  }
 ],
 "metadata": {
  "kernelspec": {
   "display_name": "dlenv",
   "language": "python",
   "name": "welcometodl"
  },
  "language_info": {
   "codemirror_mode": {
    "name": "ipython",
    "version": 3
   },
   "file_extension": ".py",
   "mimetype": "text/x-python",
   "name": "python",
   "nbconvert_exporter": "python",
   "pygments_lexer": "ipython3",
   "version": "3.12.7"
  }
 },
 "nbformat": 4,
 "nbformat_minor": 5
}
