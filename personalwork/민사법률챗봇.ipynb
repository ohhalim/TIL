{
  "cells": [
    {
      "cell_type": "code",
      "execution_count": null,
      "metadata": {
        "id": "W3thszX5tvYK"
      },
      "outputs": [],
      "source": [
        "!pip install langchain_openai\n",
        "!pip install langchain-community\n",
        "!pip install pypdf\n",
        "!pip install faiss-cpu"
      ]
    },
    {
      "cell_type": "markdown",
      "metadata": {
        "id": "rF0CdKTrt6MO"
      },
      "source": [
        "# 1. 사용 환경 준비"
      ]
    },
    {
      "cell_type": "code",
      "execution_count": 10,
      "metadata": {
        "colab": {
          "base_uri": "https://localhost:8080/"
        },
        "id": "NkgRQ5G9t2pW",
        "outputId": "008eb1f4-493d-4759-e27d-1ebae1e23ead"
      },
      "outputs": [],
      "source": [
        "import os\n",
        "from getpass import getpass\n",
        "\n",
        "os.environ[\"OPENAI_API_KEY\"] = getpass(\"OpenAI API key 입력: \")"
      ]
    },
    {
      "cell_type": "markdown",
      "metadata": {
        "id": "caXlgW63t7La"
      },
      "source": [
        "# 2. 모델 초기화"
      ]
    },
    {
      "cell_type": "code",
      "execution_count": 11,
      "metadata": {
        "id": "j8FlCk92t3oe"
      },
      "outputs": [],
      "source": [
        "from langchain_openai import ChatOpenAI\n",
        "from langchain_core.messages import HumanMessage\n",
        "\n",
        "model = ChatOpenAI(model=\"gpt-4o-mini\")"
      ]
    },
    {
      "cell_type": "markdown",
      "metadata": {
        "id": "XdiI1d21t97T"
      },
      "source": [
        "# 3. 문서 로드"
      ]
    },
    {
      "cell_type": "code",
      "execution_count": null,
      "metadata": {
        "colab": {
          "base_uri": "https://localhost:8080/"
        },
        "id": "uhsaAnact-6Y",
        "outputId": "3f02c4b7-ac7c-47f6-8dad-02b794520c64"
      },
      "outputs": [],
      "source": [
        "import json\n",
        "import os\n",
        "from langchain.document_loaders.base import BaseLoader\n",
        "from langchain.schema import Document\n",
        "\n",
        "class MultiJSONCaseLoader(BaseLoader):\n",
        "    def __init__(self, folder_path: str):\n",
        "        self.folder_path = folder_path\n",
        "    \n",
        "    def load(self):\n",
        "        documents = []\n",
        "        # 폴더 내의 모든 JSON 파일을 순회\n",
        "        for filename in os.listdir(self.folder_path):\n",
        "            if filename.endswith('.json'):\n",
        "                file_path = os.path.join(self.folder_path, filename)\n",
        "                try:\n",
        "                    with open(file_path, \"r\", encoding=\"utf-8\") as file:\n",
        "                        case_data = json.load(file)\n",
        "                        # 단일 객체인 경우 리스트로 변환\n",
        "                        if not isinstance(case_data, list):\n",
        "                            case_data = [case_data]\n",
        "                        \n",
        "                        for case in case_data:\n",
        "                            content = f\"\"\"\n",
        "                            판례일련번호: {case.get(\"판례일련번호\", \"\")}\n",
        "                            사건명: {case.get(\"사건명\", \"\")}\n",
        "                            사건번호: {case.get(\"사건번호\", \"\")}\n",
        "                            선고일자: {case.get(\"선고일자\", \"\")}\n",
        "                            법원명: {case.get(\"법원명\", \"\")}\n",
        "                            사건종류명: {case.get(\"사건종류명\", \"\")}\n",
        "                            판결요지: {case.get(\"판결요지\", \"\")}\n",
        "                            판례내용: {case.get(\"판례내용\", \"\")}\n",
        "                            \"\"\"\n",
        "                            documents.append(Document(page_content=content, metadata=case))\n",
        "                        print(f\"Loaded {len(case_data)} cases from {filename}\")\n",
        "                except Exception as e:\n",
        "                    print(f\"Error loading {filename}: {str(e)}\")\n",
        "                    continue\n",
        "        \n",
        "        return documents\n",
        "\n",
        "# 폴더 경로를 사용하여 로더 초기화\n",
        "loader = MultiJSONCaseLoader(\"/Users/ohhalim/Desktop/civilprecedent\")\n",
        "\n",
        "# 문서 데이터 로드\n",
        "docs = loader.load()\n",
        "\n",
        "# 로드 결과 확인\n",
        "print(f\"\\nTotal documents loaded: {len(docs)}\")\n",
        "print(\"\\nSample document:\")\n",
        "if docs:\n",
        "    print(docs[0].page_content[:500] + \"...\")"
      ]
    },
    {
      "cell_type": "markdown",
      "metadata": {
        "id": "I0q_l2ThuGK8"
      },
      "source": [
        "# 4. chunking"
      ]
    },
    {
      "cell_type": "code",
      "execution_count": null,
      "metadata": {
        "colab": {
          "base_uri": "https://localhost:8080/"
        },
        "id": "qjwbInu8uEzR",
        "outputId": "2a1f04cd-bccf-4033-aec5-5eaece8af3ba"
      },
      "outputs": [],
      "source": [
        "from langchain.text_splitter import RecursiveCharacterTextSplitter\n",
        "from tqdm import tqdm  # 진행상황 확인용\n",
        "\n",
        "# 배치 사이즈 설정\n",
        "BATCH_SIZE = 100\n",
        "\n",
        "# 텍스트 스플리터 설정\n",
        "recursive_text_splitter = RecursiveCharacterTextSplitter(\n",
        "    chunk_size=500,\n",
        "    chunk_overlap=50,\n",
        "    length_function=len,\n",
        "    is_separator_regex=False,\n",
        ")\n",
        "\n",
        "# 배치 처리 함수\n",
        "def process_in_batches(docs):\n",
        "    all_splits = []\n",
        "    total_batches = len(docs) // BATCH_SIZE + (1 if len(docs) % BATCH_SIZE else 0)\n",
        "    \n",
        "    for i in tqdm(range(0, len(docs), BATCH_SIZE)):\n",
        "        batch = docs[i:i + BATCH_SIZE]\n",
        "        batch_splits = recursive_text_splitter.split_documents(batch)\n",
        "        \n",
        "        # 결과 확인 (첫 번째 배치만)\n",
        "        if i == 0:\n",
        "            print(f\"\\n첫 번째 배치 예시:\")\n",
        "            print(f\"첫 번째 split: {batch_splits[0]}\")\n",
        "            print(f\"이 배치의 split 수: {len(batch_splits)}\")\n",
        "        \n",
        "        all_splits.extend(batch_splits)\n",
        "        \n",
        "        # 메모리 사용량 출력 (선택사항)\n",
        "        # import psutil\n",
        "        # print(f\"Memory usage: {psutil.Process().memory_info().rss / 1024 / 1024:.2f} MB\")\n",
        "    \n",
        "    return all_splits\n",
        "\n",
        "# 실행\n",
        "splits = process_in_batches(docs)\n",
        "print(f\"\\n총 split 수: {len(splits)}\")"
      ]
    },
    {
      "cell_type": "markdown",
      "metadata": {
        "id": "d4QFtG-2uCHr"
      },
      "source": [
        "# 5. embedding"
      ]
    },
    {
      "cell_type": "code",
      "execution_count": 14,
      "metadata": {
        "id": "fknndYfAuj_9"
      },
      "outputs": [],
      "source": [
        "from langchain_openai import OpenAIEmbeddings\n",
        "\n",
        "embeddings = OpenAIEmbeddings(model=\"text-embedding-ada-002\") # 토큰화된 문서를 모델에 입력하여 임베딩 벡터를 생성하고, 이를 평균하여 전체 문서의 벡터를 생성"
      ]
    },
    {
      "cell_type": "markdown",
      "metadata": {
        "id": "YeqyFS6ZuAHs"
      },
      "source": [
        "# 6. vector store 생성"
      ]
    },
    {
      "cell_type": "code",
      "execution_count": 15,
      "metadata": {
        "id": "Bq6eSqaZumZK"
      },
      "outputs": [],
      "source": [
        "from langchain_community.vectorstores import FAISS\n",
        "\n",
        "vectorstore = FAISS.from_documents(documents=splits, embedding=embeddings)"
      ]
    },
    {
      "cell_type": "markdown",
      "metadata": {
        "id": "vBGCgrWXvqLg"
      },
      "source": [
        "# 7. retriever 생성"
      ]
    },
    {
      "cell_type": "code",
      "execution_count": 16,
      "metadata": {
        "id": "F83nbfG9vpp7"
      },
      "outputs": [],
      "source": [
        "from langchain.vectorstores.base import VectorStore\n",
        "\n",
        "retriever = vectorstore.as_retriever(search_type=\"similarity\", search_kwargs={\"k\": 3})"
      ]
    },
    {
      "cell_type": "markdown",
      "metadata": {
        "id": "KWuMMjiYuofc"
      },
      "source": [
        "# 8. 프롬프트 템플릿 정의"
      ]
    },
    {
      "cell_type": "code",
      "execution_count": 17,
      "metadata": {
        "id": "5lqOip7Nuwmd"
      },
      "outputs": [],
      "source": [
        "from langchain_core.prompts import ChatPromptTemplate\n",
        "from langchain_core.runnables import RunnablePassthrough\n",
        "\n",
        "# 프롬프트 템플릿 정의\n",
        "contextual_prompt = ChatPromptTemplate.from_messages([\n",
        "    (\"system\", \"Answer the question using only the following context. Please provide the case number of a similar case. \"),\n",
        "    (\"user\", \"Context: {context}\\\\n\\\\nQuestion: {question}\")\n",
        "])"
      ]
    },
    {
      "cell_type": "markdown",
      "metadata": {
        "id": "_QVvPb-vvCG8"
      },
      "source": [
        "# 9. RAG 체인 구성"
      ]
    },
    {
      "cell_type": "code",
      "execution_count": 18,
      "metadata": {
        "id": "OmNTzVVMvCkh"
      },
      "outputs": [],
      "source": [
        "from langchain_core.prompts import ChatPromptTemplate\n",
        "from langchain_core.runnables import RunnablePassthrough\n",
        "\n",
        "'''\n",
        "RunnablePassthrough를 상속받은 DebugPassThrough 클래스\n",
        "LangChain에서 RunnablePassthrough가 기본적으로 \"데이터를 그대로 전달\"하는 역할\n",
        "잘 전달하는지 출력하기 위해 만들어진 커스텀 츨래스입니다.\n",
        "'''\n",
        "class DebugPassThrough(RunnablePassthrough):\n",
        "    def invoke(self, *args, **kwargs):\n",
        "        output = super().invoke(*args, **kwargs) # 부모 클래스의 invoke 호출. 부모클래스의 invoke는 그냥 전달받은걸 그대로 전달한다.\n",
        "        print(\"Debug Output:\", output)\n",
        "        return output\n",
        "\n",
        "\n",
        "'''\n",
        "RunnablePassthrough를 상속받은 ContextToText 클래스\n",
        "context와 question를 정리하여 리턴합니다.\n",
        "'''\n",
        "class ContextToText(RunnablePassthrough):\n",
        "      def invoke(self, inputs, config=None, **kwargs):\n",
        "        if isinstance(inputs[\"context\"], list) :\n",
        "            context_text = \"\\n\".join([doc.page_content for doc in inputs[\"context\"]])\n",
        "        else:\n",
        "            context_text = inputs[\"context\"]\n",
        "        return {\"context\": context_text, \"question\": inputs[\"question\"]}\n",
        "\n",
        "\n",
        "'''\n",
        "정의된 순차적으로 진행되는 rag chain\n",
        "'''\n",
        "rag_chain_debug = {\n",
        "    \"context\": retriever,  # invoke(query)가 실행되면 제일 먼저 리트리버가 실행된다. retriever 실행결과는 \"context\" 키에 저장된다.\n",
        "    \"question\": DebugPassThrough() # query는 \"question\" 키에 저장된다. DebugPassThrough(query를)를 실행한다.\n",
        "}  | DebugPassThrough() | ContextToText() | contextual_prompt | model\n",
        "# DebugPassThrough() : 위에서 리턴받은 {\"context\", \"question\"} 쌍을 입력으로 받고 그대로 출력하고 리턴한다.\n",
        "# ContextToText() : 위에서 리턴받은 {\"context\", \"question\"} 쌍을 ContextToText()에 넣고 정리하여 리턴한다.\n",
        "# contextual_prompt : 위에서 리턴받은 정리된 {\"context\", \"question\"} 쌍을 프롬프트 템플릿에 넣고 프롬프트로 만들어 리턴한다.\n",
        "# model : 위에서 리턴받은 프롬프트를 모델에 넣고 모델의 출력을 리턴한다"
      ]
    },
    {
      "cell_type": "code",
      "execution_count": null,
      "metadata": {
        "colab": {
          "base_uri": "https://localhost:8080/"
        },
        "id": "sOpsJm8xve-A",
        "outputId": "b6da5715-f742-4833-bc7c-822c768558f9"
      },
      "outputs": [],
      "source": [
        "print(\"========================\")\n",
        "query = input(\"질문을 입력하세요: \")\n",
        "response = rag_chain_debug.invoke(query)\n",
        "print(\"Final Response:\")\n",
        "print(response.content)"
      ]
    },
    {
      "cell_type": "markdown",
      "metadata": {
        "id": "3KDH0sDd5C14"
      },
      "source": [
        "# FAQ"
      ]
    },
    {
      "cell_type": "markdown",
      "metadata": {
        "id": "xlYSBfOZ4-U5"
      },
      "source": [
        "### Q. contextual_prompt, model 등은 그냥 변수명일 뿐인데 어떻게 체인 안에 들어가나요?\n",
        "\n",
        "- contextual_prompt은 '템플릿'을 부르는 변수명입니다. 해당 템플릿을 살펴보면 분명 intput과 output이 있음을 알 수 있습니다.\n",
        "\n",
        "input :\n",
        "{context} : 사칙 3873조. 우리 회사의 점심 시간은 12:30 ~ 1:30 입니다.\n",
        "사칙 96887858483조. 우리 회사의 석식 시간은 18:00 ~ 19:00 입니다.\n",
        "{question} :우리 회사의 사내 밥 시간 규정은 어떻게 돼?\n",
        "\n",
        "```\n",
        "contextual_prompt = ChatPromptTemplate.from_messages([\n",
        "    (\"system\", \"Answer the question using only the following context.\"),\n",
        "    (\"user\", \"Context: {context}\\\\n\\\\nQuestion: {question}\")\n",
        "])\n",
        "```\n",
        "\n",
        "output :\n",
        "\"Answer the question using only the following context.\"\n",
        "\"Context\" : 사칙 3873조. 우리 회사의 점심 시간은 12:30 ~ 1:30 입니다.\n",
        "사칙 96887858483조. 우리 회사의 석식 시간은 18:00 ~ 19:00 입니다.\"\n",
        "\"Question\" : \"우리 회사의 사내 밥 시간 규정은 어떻게 돼?\"\n",
        "\n",
        "- model 또한 당연히 input, output이 있는 객체이며 내부적으로 invoke()가 일어난다고 생각하시면 됩니다.\n",
        "\n",
        "\n"
      ]
    },
    {
      "cell_type": "markdown",
      "metadata": {
        "id": "yAC5zEFS1cNk"
      },
      "source": [
        "### Q. 다른 chain 구조 예시는 없나요?\n"
      ]
    },
    {
      "cell_type": "code",
      "execution_count": null,
      "metadata": {
        "id": "Whkd_xNq0BWP"
      },
      "outputs": [],
      "source": [
        "from langchain_community.vectorstores import FAISS\n",
        "from langchain_core.output_parsers import StrOutputParser\n",
        "from langchain_core.prompts import ChatPromptTemplate\n",
        "from langchain_core.runnables import RunnablePassthrough\n",
        "from langchain_openai import ChatOpenAI, OpenAIEmbeddings\n",
        "\n",
        "# 모델 초기화\n",
        "model = ChatOpenAI(model_name=\"gpt-4o-mini\")\n",
        "\n",
        "# 텍스트로부터 FAISS 벡터 저장소를 생성\n",
        "vectorstore = FAISS.from_texts(\n",
        "    [\n",
        "        \"우리 회사의 석식시간은 18:00시부터입니다.\",\n",
        "        \"우리 회사의 중식시간은 12:00시부터입니다.\",\n",
        "        \"우리 회사의 야근 식대는 2만원정입니다.\",\n",
        "        \"17층 복도 마지막 회의실 소등시 누군가 부르면 뒤돌아보면 안됩니다.\",\n",
        "    ],\n",
        "    embedding=OpenAIEmbeddings(),\n",
        ")\n",
        "# 리트리버 객체 생성\n",
        "retriever = vectorstore.as_retriever()\n",
        "\n",
        "# 프롬프트 템플릿 정의\n",
        "prompt = ChatPromptTemplate.from_template(\"\"\"Answer the question based only on the following context:\n",
        "{context}\n",
        "\n",
        "Question: {question}\n",
        "\"\"\")\n",
        "\n",
        "# 문서를 포맷팅하는 함수\n",
        "def format_docs(docs):\n",
        "    return \"\\n\".join([doc.page_content for doc in docs])\n",
        "\n",
        "# rag 체인 구성\n",
        "retrieval_chain = (\n",
        "    {\"context\": retriever | format_docs,\n",
        "     \"question\": RunnablePassthrough()} # RunnablePassthrough() : 있는 그대로 리턴하는 함수\n",
        "    | prompt\n",
        "    | model\n",
        "    | StrOutputParser()\n",
        ")\n",
        "\n",
        "# rag 체인 실행\n",
        "retrieval_chain.invoke(\"우리 회사의 야근 식대는 얼마입니까?\") # 답: 2만원정\n"
      ]
    }
  ],
  "metadata": {
    "colab": {
      "provenance": []
    },
    "kernelspec": {
      "display_name": "llm",
      "language": "python",
      "name": "llm"
    },
    "language_info": {
      "codemirror_mode": {
        "name": "ipython",
        "version": 3
      },
      "file_extension": ".py",
      "mimetype": "text/x-python",
      "name": "python",
      "nbconvert_exporter": "python",
      "pygments_lexer": "ipython3",
      "version": "3.12.7"
    }
  },
  "nbformat": 4,
  "nbformat_minor": 0
}
