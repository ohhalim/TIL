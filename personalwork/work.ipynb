{
 "cells": [
  {
   "cell_type": "code",
   "execution_count": 1,
   "id": "c329eda0-bf5f-4956-88b9-190ae18f7082",
   "metadata": {},
   "outputs": [
    {
     "ename": "ModuleNotFoundError",
     "evalue": "No module named 'audiocraft'",
     "output_type": "error",
     "traceback": [
      "\u001b[0;31m---------------------------------------------------------------------------\u001b[0m",
      "\u001b[0;31mModuleNotFoundError\u001b[0m                       Traceback (most recent call last)",
      "Cell \u001b[0;32mIn[1], line 2\u001b[0m\n\u001b[1;32m      1\u001b[0m \u001b[38;5;28;01mimport\u001b[39;00m \u001b[38;5;21;01mtorch\u001b[39;00m\n\u001b[0;32m----> 2\u001b[0m \u001b[38;5;28;01mfrom\u001b[39;00m \u001b[38;5;21;01maudiocraft\u001b[39;00m\u001b[38;5;21;01m.\u001b[39;00m\u001b[38;5;21;01mmodels\u001b[39;00m \u001b[38;5;28;01mimport\u001b[39;00m MusicGen\n\u001b[1;32m      3\u001b[0m \u001b[38;5;28;01mfrom\u001b[39;00m \u001b[38;5;21;01maudiocraft\u001b[39;00m\u001b[38;5;21;01m.\u001b[39;00m\u001b[38;5;21;01mdata\u001b[39;00m\u001b[38;5;21;01m.\u001b[39;00m\u001b[38;5;21;01maudio\u001b[39;00m \u001b[38;5;28;01mimport\u001b[39;00m audio_write\n\u001b[1;32m      5\u001b[0m \u001b[38;5;66;03m# 모델 로드\u001b[39;00m\n",
      "\u001b[0;31mModuleNotFoundError\u001b[0m: No module named 'audiocraft'"
     ]
    }
   ],
   "source": [
    "import torch\n",
    "from audiocraft.models import MusicGen\n",
    "from audiocraft.data.audio import audio_write\n",
    "\n",
    "# 모델 로드\n",
    "model = MusicGen.get_pretrained('facebook/musicgen-small')\n",
    "\n",
    "# 생성 파라미터 설정\n",
    "model.set_generation_params(\n",
    "    duration=10,  # 10초 음악\n",
    "    temperature=0.7  # 창의성 레벨\n",
    ")\n",
    "\n",
    "# 음악 생성\n",
    "descriptions = [\n",
    "    'An upbeat jazz music',\n",
    "    'Calm electronic ambient music'\n",
    "]\n",
    "\n",
    "# 오디오 생성\n",
    "wav = model.generate(descriptions)\n",
    "\n",
    "# 파일로 저장\n",
    "for idx, one_wav in enumerate(wav):\n",
    "    audio_write(f'music_{idx}', one_wav.cpu(), model.sample_rate)"
   ]
  },
  {
   "cell_type": "markdown",
   "id": "8d8c0542-0664-49df-839a-0edcd22b384c",
   "metadata": {},
   "source": [
    "사실 팀과제도 그냥 음악으로 해버리고 싶다\n"
   ]
  }
 ],
 "metadata": {
  "kernelspec": {
   "display_name": "audiocraft",
   "language": "python",
   "name": "audiocraft"
  },
  "language_info": {
   "codemirror_mode": {
    "name": "ipython",
    "version": 3
   },
   "file_extension": ".py",
   "mimetype": "text/x-python",
   "name": "python",
   "nbconvert_exporter": "python",
   "pygments_lexer": "ipython3",
   "version": "3.9.20"
  }
 },
 "nbformat": 4,
 "nbformat_minor": 5
}
