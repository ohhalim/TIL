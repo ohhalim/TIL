{
 "cells": [
  {
   "cell_type": "code",
   "execution_count": 1,
   "metadata": {},
   "outputs": [],
   "source": [
    "from bs4 import BeautifulSoup\n",
    "import requests\n",
    "\n",
    "# 네이버페이 증권 오늘의 주요 뉴스\n",
    "start_url = 'https://finance.naver.com/news/mainnews.naver'\n",
    "header = {'User-agent':'Mozilla/5.0'}\n",
    "\n",
    "html = BeautifulSoup(requests.get(start_url, headers=header).text, 'html.parser')\n",
    "pgrr = html.find('td', class_='pgRR')\n",
    "\n",
    "last_page = int(pgrr.a['href'].split('=')[-1])"
   ]
  },
  {
   "cell_type": "code",
   "execution_count": 3,
   "metadata": {},
   "outputs": [],
   "source": [
    "# 요약 기능을 사용하려면 API 키가 필요함.\n",
    "import os\n",
    "\n",
    "# 이 파일과 동일한 폴더에 자신의 OpenAI API가 텍스트 형태로 담긴 openai_api.key 파일을 둘 것.\n",
    "with open('openai_api.key', 'r') as f:\n",
    "    api_key = f.read()\n",
    "\n",
    "os.environ[\"OPENAI_API_KEY\"] = api_key\n",
    "\n",
    "from openai import OpenAI\n",
    "\n",
    "client = OpenAI()\n",
    "\n",
    "# GPT 모델에 주는 시스템 프롬프트\n",
    "system_prompt = \\\n",
    "\"\"\"\n",
    "# 입력으로 기사의 내용이 주어진다. 다음과 같은 조건을 만족하도록 출력하자.\n",
    "\n",
    "- 입력을 요약한 요약문을 만든다.\n",
    "- 요약문은 반드시 3문장으로 작성한다.\n",
    "- 들어온 내용을 평서문으로 작성한다. (특히, '요약한 내용은 ~~ 입니다' 절대 이런 식으로 쓰면 안 된다.)\n",
    "- 언론사 홍보성 글, 기자의 이름이 있을 수 있는데 이 내용은 요약문에 포함해서는 안 된다.\n",
    "\"\"\""
   ]
  },
  {
   "cell_type": "code",
   "execution_count": 4,
   "metadata": {},
   "outputs": [
    {
     "name": "stdout",
     "output_type": "stream",
     "text": [
      "1페이지 진행 중...\n",
      "2페이지 진행 중...\n",
      "3페이지 진행 중...\n",
      "4페이지 진행 중...\n"
     ]
    }
   ],
   "source": [
    "import re\n",
    "import time\n",
    "\n",
    "article_list = []\n",
    "select_summary = 0  # 0은 요약 안 함. 1은 요약함.\n",
    "\n",
    "for page in range(1, last_page + 1):\n",
    "    print(f'{page}페이지 진행 중...')\n",
    "    list_url = start_url + f'?&page={page}'\n",
    "    list_html = BeautifulSoup(requests.get(list_url, headers=header).text, 'html.parser')\n",
    "    list_html.find('ul', class_='newsList').select('dd > a')[0]['href']\n",
    "\n",
    "    bridges = list_html.find('ul', class_='newsList').select('dd > a')\n",
    "    for bridge in bridges:\n",
    "        bridge_html = BeautifulSoup(requests.get('https://finance.naver.com' + bridge['href'], headers=header).text, 'html.parser')\n",
    "        \n",
    "        # 기사 url\n",
    "        article_url = str(bridge_html.select_one('script')).split(\"'\")[1]\n",
    "\n",
    "        article_html = BeautifulSoup(requests.get(article_url, headers=header).text, 'html.parser')\n",
    "\n",
    "        # 기사 제목\n",
    "        title = article_html.select_one('h2', class_='media_end_head_headline').span.text\n",
    "        \n",
    "        # 기사 작성 시각\n",
    "        date = article_html.find('span', class_='media_end_head_info_datestamp_time _ARTICLE_DATE_TIME')['data-date-time']\n",
    "\n",
    "        # 기사 내용. 정규식을 통한 전처리 과정은 GPT의 힘을 빌림.\n",
    "        article = article_html.find('article')\n",
    "        blanked = re.sub(r'(?<=[^\\d])\\.(?=\\S)|(?<=[\\d])\\.(?=[^\\d\\s])', r'. ', article.text)\n",
    "        content = re.sub(r'\\n+', '\\n', blanked)\n",
    "\n",
    "        if select_summary == 1:\n",
    "            completion = client.chat.completions.create(\n",
    "                model=\"gpt-4o\",\n",
    "                messages=[\n",
    "                    {\"role\": \"system\", \"content\": system_prompt},\n",
    "                    {\"role\": \"user\", \"content\": content}\n",
    "                ]\n",
    "            )\n",
    "            summary = completion.choices[0].message.content\n",
    "            article_list.append({'title':title, 'url':article_url, 'date':date, 'summary':summary})\n",
    "        else:\n",
    "            article_list.append({'title':title, 'url':article_url, 'date':date, 'content':content})\n",
    "        time.sleep(0.1)"
   ]
  },
  {
   "cell_type": "code",
   "execution_count": 5,
   "metadata": {},
   "outputs": [],
   "source": [
    "import os\n",
    "import json\n",
    "\n",
    "os.makedirs('naver_stock_news', exist_ok=True)\n",
    "\n",
    "suffix = '_summary' if select_summary == 1 else ''\n",
    "\n",
    "with open('naver_stock_news/today_news' + suffix + '.json', 'wt', encoding='utf-8') as f:\n",
    "    json.dump(article_list, f, ensure_ascii=False, indent=4)"
   ]
  },
  {
   "cell_type": "code",
   "execution_count": null,
   "metadata": {},
   "outputs": [],
   "source": []
  }
 ],
 "metadata": {
  "kernelspec": {
   "display_name": "llm",
   "language": "python",
   "name": "llm"
  },
  "language_info": {
   "codemirror_mode": {
    "name": "ipython",
    "version": 3
   },
   "file_extension": ".py",
   "mimetype": "text/x-python",
   "name": "python",
   "nbconvert_exporter": "python",
   "pygments_lexer": "ipython3",
   "version": "3.12.7"
  }
 },
 "nbformat": 4,
 "nbformat_minor": 2
}
