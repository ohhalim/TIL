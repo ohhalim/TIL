{
 "cells": [
  {
   "cell_type": "code",
   "execution_count": 1,
   "id": "d81ae7f7-2e09-46f2-bbfc-f3b4e72dd544",
   "metadata": {},
   "outputs": [
    {
     "name": "stdout",
     "output_type": "stream",
     "text": [
      "도시          부산  서울\n",
      "날짜                \n",
      "2023-01-01   6   2\n",
      "2023-01-02   7   3\n"
     ]
    }
   ],
   "source": [
    "import pandas as pd\n",
    "\n",
    "# 예시 데이터프레임 생성\n",
    "data = {\n",
    "    '날짜': ['2023-01-01', '2023-01-02', '2023-01-01', '2023-01-02'],\n",
    "    '도시': ['서울', '서울', '부산', '부산'],\n",
    "    '온도': [2, 3, 6, 7],\n",
    "    '습도': [55, 60, 80, 85]\n",
    "}\n",
    "df = pd.DataFrame(data)\n",
    "\n",
    "# '도시'를 기준으로 '날짜'를 인덱스로, '온도'를 값으로 하는 피벗 테이블 생성\n",
    "pivot_df = df.pivot(index='날짜', columns='도시', values='온도')\n",
    "print(pivot_df)\n"
   ]
  },
  {
   "cell_type": "code",
   "execution_count": 2,
   "id": "20d8f788-2837-422c-b3e7-da5911b59e82",
   "metadata": {},
   "outputs": [
    {
     "name": "stdout",
     "output_type": "stream",
     "text": [
      "           날짜  도시 variable  value\n",
      "0  2023-01-01  서울       온도      2\n",
      "1  2023-01-02  서울       온도      3\n",
      "2  2023-01-01  부산       온도      6\n",
      "3  2023-01-02  부산       온도      7\n",
      "4  2023-01-01  서울       습도     55\n",
      "5  2023-01-02  서울       습도     60\n",
      "6  2023-01-01  부산       습도     80\n",
      "7  2023-01-02  부산       습도     85\n"
     ]
    }
   ],
   "source": [
    "# 데이터프레임 구조 해체 (melt)\n",
    "melted_df = pd.melt(df, id_vars=['날짜', '도시'], value_vars=['온도', '습도'])\n",
    "print(melted_df)\n"
   ]
  },
  {
   "cell_type": "code",
   "execution_count": 3,
   "id": "5de1e5d0-9e6a-4996-b4c7-5cf33495b77b",
   "metadata": {},
   "outputs": [
    {
     "name": "stdout",
     "output_type": "stream",
     "text": [
      "날짜          도시\n",
      "2023-01-01  부산    6\n",
      "            서울    2\n",
      "2023-01-02  부산    7\n",
      "            서울    3\n",
      "dtype: int64\n"
     ]
    }
   ],
   "source": [
    "# '도시' 레벨을 인덱스로 스택(stack)\n",
    "stacked_df = pivot_df.stack()\n",
    "print(stacked_df)\n"
   ]
  },
  {
   "cell_type": "code",
   "execution_count": 4,
   "id": "dbd1c743-9634-47c0-8ad9-4659d1b70c1f",
   "metadata": {},
   "outputs": [
    {
     "name": "stdout",
     "output_type": "stream",
     "text": [
      "도시          부산  서울\n",
      "날짜                \n",
      "2023-01-01   6   2\n",
      "2023-01-02   7   3\n"
     ]
    }
   ],
   "source": [
    "# 다시 언스택(unstack)하여 원래 구조로 복원\n",
    "unstacked_df = stacked_df.unstack()\n",
    "print(unstacked_df)\n"
   ]
  },
  {
   "cell_type": "code",
   "execution_count": 5,
   "id": "5f221576-3e68-40b7-aad7-0966dac99982",
   "metadata": {},
   "outputs": [
    {
     "name": "stdout",
     "output_type": "stream",
     "text": [
      "           날짜  도시  온도  습도  날씨\n",
      "0  2023-01-01  서울   2  55  맑음\n",
      "1  2023-01-02  서울   3  60  흐림\n",
      "2  2023-01-01  부산   6  80  맑음\n",
      "3  2023-01-02  부산   7  85  흐림\n"
     ]
    }
   ],
   "source": [
    "# 새로운 열 추가\n",
    "df['날씨'] = ['맑음', '흐림', '맑음', '흐림']\n",
    "print(df)\n"
   ]
  },
  {
   "cell_type": "code",
   "execution_count": 6,
   "id": "39c09a3b-748e-47ea-93ba-e5635757c9ac",
   "metadata": {},
   "outputs": [
    {
     "name": "stdout",
     "output_type": "stream",
     "text": [
      "           날짜  도시  온도  날씨\n",
      "0  2023-01-01  서울   2  맑음\n",
      "1  2023-01-02  서울   3  흐림\n",
      "2  2023-01-01  부산   6  맑음\n",
      "3  2023-01-02  부산   7  흐림\n"
     ]
    }
   ],
   "source": [
    "# '습도' 열 삭제\n",
    "df_dropped = df.drop(columns=['습도'])\n",
    "print(df_dropped)\n"
   ]
  },
  {
   "cell_type": "code",
   "execution_count": 7,
   "id": "c87876b8-d089-4201-9922-24d2db421767",
   "metadata": {},
   "outputs": [
    {
     "name": "stdout",
     "output_type": "stream",
     "text": [
      "           날짜  도시  온도  습도  날씨\n",
      "1  2023-01-02  서울   3  60  흐림\n",
      "2  2023-01-01  부산   6  80  맑음\n",
      "3  2023-01-02  부산   7  85  흐림\n"
     ]
    }
   ],
   "source": [
    "# 특정 행 삭제 (예: 첫 번째 행)\n",
    "df_dropped_row = df.drop(index=0)\n",
    "print(df_dropped_row)\n"
   ]
  },
  {
   "cell_type": "code",
   "execution_count": 8,
   "id": "0c5de808-9c7d-4b49-b3a9-8b3d1326554c",
   "metadata": {},
   "outputs": [
    {
     "name": "stdout",
     "output_type": "stream",
     "text": [
      "           날짜  도시  온도  습도  날씨\n",
      "0  2023-01-01  서울   2  55  맑음\n",
      "1  2023-01-02  서울   3  60  흐림\n",
      "2  2023-01-01  부산   6  80  맑음\n",
      "3  2023-01-02  부산   7  85  흐림\n",
      "4  2023-01-03  서울   5  70  맑음\n",
      "5  2023-01-04  부산   8  75  흐림\n"
     ]
    }
   ],
   "source": [
    "# 새로운 데이터프레임 생성\n",
    "data2 = {\n",
    "    '날짜': ['2023-01-03', '2023-01-04'],\n",
    "    '도시': ['서울', '부산'],\n",
    "    '온도': [5, 8],\n",
    "    '습도': [70, 75],\n",
    "    '날씨': ['맑음', '흐림']\n",
    "}\n",
    "df2 = pd.DataFrame(data2)\n",
    "\n",
    "# 행을 기준으로 데이터프레임 병합 (concat)\n",
    "merged_df = pd.concat([df, df2], ignore_index=True)\n",
    "print(merged_df)\n"
   ]
  },
  {
   "cell_type": "code",
   "execution_count": null,
   "id": "d522208d-3c29-4e95-8bf2-025deaf98de6",
   "metadata": {},
   "outputs": [],
   "source": []
  }
 ],
 "metadata": {
  "kernelspec": {
   "display_name": "pandas_course",
   "language": "python",
   "name": "pandas_course"
  },
  "language_info": {
   "codemirror_mode": {
    "name": "ipython",
    "version": 3
   },
   "file_extension": ".py",
   "mimetype": "text/x-python",
   "name": "python",
   "nbconvert_exporter": "python",
   "pygments_lexer": "ipython3",
   "version": "3.12.2"
  }
 },
 "nbformat": 4,
 "nbformat_minor": 5
}
