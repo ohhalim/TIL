{
 "cells": [
  {
   "cell_type": "markdown",
   "metadata": {},
   "source": [
    "## Youtube API 활용"
   ]
  },
  {
   "cell_type": "markdown",
   "metadata": {},
   "source": [
    "### 1. 검색 리스트 조회"
   ]
  },
  {
   "cell_type": "code",
   "execution_count": null,
   "metadata": {},
   "outputs": [],
   "source": [
    "# Step 1: 필요한 라이브러리 임포트\n",
    "import requests\n",
    "import pandas as pd\n",
    "import json\n",
    "import datetime\n",
    "# Step 2: API 키 설정\n",
    "API_KEY = \"YOUR_API_KEY\"\n",
    "\n",
    "\n",
    "#%% Step 3: 검색 기능 구현\n",
    "# YouTube Data API 검색 엔드포인트\n",
    "search_url = \"https://www.googleapis.com/youtube/v3/search\"\n",
    "\n",
    "search_term = '아이유'\n",
    "# 검색어와 검색 조건 설정\n",
    "search_params = {\n",
    "    'key': API_KEY,\n",
    "    'q': search_term,  # 예: 'BTS'\n",
    "    'part': 'snippet',\n",
    "    'maxResults': 5,  # 검색 결과 수 (최대 50)\n",
    "    'type': 'video'   # 동영상만 검색\n",
    "}\n",
    "\n",
    "# API 호출\n",
    "response = requests.get(search_url, params=search_params)\n",
    "\n",
    "# 결과 확인\n",
    "if response.status_code == 200:\n",
    "    search_data = response.json()\n",
    "    print(\"검색 성공!\")\n",
    "    print(f\"검색된 동영상 수: {len(search_data['items'])}\")\n",
    "else:\n",
    "    print(f\"검색 실패! 에러 코드: {response.status_code}\")\n",
    "    print(response.text)"
   ]
  },
  {
   "cell_type": "markdown",
   "metadata": {},
   "source": [
    "#### 검색 결과를 데이터프레임으로 변환"
   ]
  },
  {
   "cell_type": "code",
   "execution_count": null,
   "metadata": {},
   "outputs": [],
   "source": [
    "\n",
    "# 검색 결과를 저장할 리스트\n",
    "video_list = []\n",
    "\n",
    "# 검색 결과 처리\n",
    "for item in search_data['items']:\n",
    "    video = {\n",
    "        'video_id': item['id']['videoId'],\n",
    "        'title': item['snippet']['title'],\n",
    "        'channel_title': item['snippet']['channelTitle'],\n",
    "        'published_at': item['snippet']['publishedAt'],\n",
    "        'description': item['snippet']['description']\n",
    "    }\n",
    "    video_list.append(video)\n",
    "\n",
    "# 데이터프레임 생성\n",
    "search_df = pd.DataFrame(video_list)\n",
    "print(\"\\n검색 결과 데이터:\")\n",
    "print(search_df)"
   ]
  },
  {
   "cell_type": "markdown",
   "metadata": {},
   "source": [
    "### 2. 영상 상세정보 조회\n",
    "- 조회수, 좋아요 수, 코멘트 수 "
   ]
  },
  {
   "cell_type": "code",
   "execution_count": null,
   "metadata": {},
   "outputs": [],
   "source": [
    "#%% Step 5: 동영상 상세 정보 가져오기\n",
    "# 동영상 상세정보 API 엔드포인트\n",
    "video_url = \"https://www.googleapis.com/youtube/v3/videos\"\n",
    "\n",
    "# 상세정보를 저장할 리스트\n",
    "stats_list = []\n",
    "\n",
    "# 각 동영상의 상세 정보 수집\n",
    "for video_id in search_df['video_id']:\n",
    "    # API 매개변수 설정\n",
    "    video_params = {\n",
    "        'key': API_KEY,\n",
    "        'id': video_id,\n",
    "        'part': 'statistics'\n",
    "    }\n",
    "    \n",
    "    # API 호출\n",
    "    video_response = requests.get(video_url, params=video_params)\n",
    "    \n",
    "    if video_response.status_code == 200:\n",
    "        video_data = video_response.json()\n",
    "        if video_data['items']:\n",
    "            stats = video_data['items'][0]['statistics']\n",
    "            stats_list.append({\n",
    "                'video_id': video_id,\n",
    "                'view_count': int(stats.get('viewCount', 0)),\n",
    "                'like_count': int(stats.get('likeCount', 0)),\n",
    "                'comment_count': int(stats.get('commentCount', 0))\n",
    "            })\n",
    "            print(f\"ID: {video_id} 상세정보 수집 완료\")\n",
    "\n",
    "# 상세정보 데이터프레임 생성\n",
    "stats_df = pd.DataFrame(stats_list)\n",
    "print(\"\\n상세정보 데이터:\")\n",
    "print(stats_df)"
   ]
  },
  {
   "cell_type": "markdown",
   "metadata": {},
   "source": [
    "### 3.두 데이터 병합 및 저장"
   ]
  },
  {
   "cell_type": "code",
   "execution_count": null,
   "metadata": {},
   "outputs": [],
   "source": [
    "#%% Step 6: 두 데이터프레임 병합\n",
    "# video_id를 기준으로 두 데이터프레임 병합\n",
    "final_df = pd.merge(search_df, stats_df, on='video_id')\n",
    "\n",
    "# URL 컬럼 추가\n",
    "final_df['video_url'] = 'https://www.youtube.com/watch?v=' + final_df['video_id']\n",
    "\n",
    "print(\"\\n최종 데이터:\")\n",
    "print(final_df)\n",
    "\n",
    "#%% Step 7: 데이터 저장\n",
    "# 현재 시간을 파일명에 포함\n",
    "json_filename = f'youtube_results_{search_term}_{len(final_df)}개.json'\n",
    "\n",
    "# DataFrame을 JSON으로 변환하여 저장\n",
    "# orient='records'는 데이터를 리스트 형태의 JSON으로 저장\n",
    "# force_ascii=False는 한글 등의 유니코드 문자를 그대로 저장\n",
    "# indent=2는 JSON 파일을 보기 좋게 들여쓰기\n",
    "final_df.to_json(json_filename, orient='records', force_ascii=False, indent=2)"
   ]
  },
  {
   "cell_type": "markdown",
   "metadata": {},
   "source": [
    "#### 4.데이터 분석"
   ]
  },
  {
   "cell_type": "code",
   "execution_count": null,
   "metadata": {},
   "outputs": [],
   "source": [
    "# 조회수 기준 상위 3개 동영상\n",
    "print(\"\\n조회수 TOP 3:\")\n",
    "print(final_df.nlargest(3, 'view_count')[['title', 'view_count', 'video_url']])\n",
    "\n",
    "# 좋아요 수 기준 상위 3개 동영상\n",
    "print(\"\\n좋아요 TOP 3:\")\n",
    "print(final_df.nlargest(3, 'like_count')[['title', 'like_count', 'video_url']])\n",
    "\n",
    "# 기본 통계 정보\n",
    "print(\"\\n통계 정보:\")\n",
    "print(final_df[['view_count', 'like_count', 'comment_count']].describe())"
   ]
  }
 ],
 "metadata": {
  "kernelspec": {
   "display_name": "Python 3 (ipykernel)",
   "language": "python",
   "name": "python3"
  },
  "language_info": {
   "codemirror_mode": {
    "name": "ipython",
    "version": 3
   },
   "file_extension": ".py",
   "mimetype": "text/x-python",
   "name": "python",
   "nbconvert_exporter": "python",
   "pygments_lexer": "ipython3",
   "version": "3.12.2"
  }
 },
 "nbformat": 4,
 "nbformat_minor": 4
}
