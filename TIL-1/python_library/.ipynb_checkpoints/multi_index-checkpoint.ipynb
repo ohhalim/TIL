{
 "cells": [
  {
   "cell_type": "code",
   "execution_count": 2,
   "id": "d1c0fc6f-b503-4c7d-bbfa-20a54cbaba50",
   "metadata": {},
   "outputs": [],
   "source": [
    "import pandas as pd"
   ]
  },
  {
   "cell_type": "code",
   "execution_count": 3,
   "id": "dff434eb-c56c-4706-9c4a-69ebb720eb99",
   "metadata": {},
   "outputs": [],
   "source": [
    "data = {\n",
    "    '도시': ['서울', '서울', '부산', '부산'],\n",
    "    '년도': [2021,2022, 2021, 2022],\n",
    "    '인구수': [9700000, 9720000, 3400000, 3450000]\n",
    "}\n"
   ]
  },
  {
   "cell_type": "code",
   "execution_count": 4,
   "id": "faa69ab6-5669-4f38-84ad-ec366345b737",
   "metadata": {},
   "outputs": [],
   "source": [
    "df = pd.DataFrame(data)\n"
   ]
  },
  {
   "cell_type": "code",
   "execution_count": 5,
   "id": "d1001559-cf61-40df-894e-afae8fbd0136",
   "metadata": {},
   "outputs": [],
   "source": [
    "df_multi_index = df.set_index([\"도시\",\"년도\"])\n"
   ]
  },
  {
   "cell_type": "code",
   "execution_count": 6,
   "id": "18a464bc-e763-4261-8032-bd111cc7dabe",
   "metadata": {},
   "outputs": [
    {
     "data": {
      "text/html": [
       "<div>\n",
       "<style scoped>\n",
       "    .dataframe tbody tr th:only-of-type {\n",
       "        vertical-align: middle;\n",
       "    }\n",
       "\n",
       "    .dataframe tbody tr th {\n",
       "        vertical-align: top;\n",
       "    }\n",
       "\n",
       "    .dataframe thead th {\n",
       "        text-align: right;\n",
       "    }\n",
       "</style>\n",
       "<table border=\"1\" class=\"dataframe\">\n",
       "  <thead>\n",
       "    <tr style=\"text-align: right;\">\n",
       "      <th></th>\n",
       "      <th></th>\n",
       "      <th>인구수</th>\n",
       "    </tr>\n",
       "    <tr>\n",
       "      <th>도시</th>\n",
       "      <th>년도</th>\n",
       "      <th></th>\n",
       "    </tr>\n",
       "  </thead>\n",
       "  <tbody>\n",
       "    <tr>\n",
       "      <th rowspan=\"2\" valign=\"top\">서울</th>\n",
       "      <th>2021</th>\n",
       "      <td>9700000</td>\n",
       "    </tr>\n",
       "    <tr>\n",
       "      <th>2022</th>\n",
       "      <td>9720000</td>\n",
       "    </tr>\n",
       "    <tr>\n",
       "      <th rowspan=\"2\" valign=\"top\">부산</th>\n",
       "      <th>2021</th>\n",
       "      <td>3400000</td>\n",
       "    </tr>\n",
       "    <tr>\n",
       "      <th>2022</th>\n",
       "      <td>3450000</td>\n",
       "    </tr>\n",
       "  </tbody>\n",
       "</table>\n",
       "</div>"
      ],
      "text/plain": [
       "             인구수\n",
       "도시 년도           \n",
       "서울 2021  9700000\n",
       "   2022  9720000\n",
       "부산 2021  3400000\n",
       "   2022  3450000"
      ]
     },
     "execution_count": 6,
     "metadata": {},
     "output_type": "execute_result"
    }
   ],
   "source": [
    "df_multi_index"
   ]
  },
  {
   "cell_type": "code",
   "execution_count": 7,
   "id": "f8732690-9b78-4246-80b0-80067ab110bb",
   "metadata": {},
   "outputs": [
    {
     "data": {
      "text/html": [
       "<div>\n",
       "<style scoped>\n",
       "    .dataframe tbody tr th:only-of-type {\n",
       "        vertical-align: middle;\n",
       "    }\n",
       "\n",
       "    .dataframe tbody tr th {\n",
       "        vertical-align: top;\n",
       "    }\n",
       "\n",
       "    .dataframe thead th {\n",
       "        text-align: right;\n",
       "    }\n",
       "</style>\n",
       "<table border=\"1\" class=\"dataframe\">\n",
       "  <thead>\n",
       "    <tr style=\"text-align: right;\">\n",
       "      <th></th>\n",
       "      <th>도시</th>\n",
       "      <th>년도</th>\n",
       "      <th>인구수</th>\n",
       "    </tr>\n",
       "  </thead>\n",
       "  <tbody>\n",
       "    <tr>\n",
       "      <th>0</th>\n",
       "      <td>서울</td>\n",
       "      <td>2021</td>\n",
       "      <td>9700000</td>\n",
       "    </tr>\n",
       "    <tr>\n",
       "      <th>1</th>\n",
       "      <td>서울</td>\n",
       "      <td>2022</td>\n",
       "      <td>9720000</td>\n",
       "    </tr>\n",
       "    <tr>\n",
       "      <th>2</th>\n",
       "      <td>부산</td>\n",
       "      <td>2021</td>\n",
       "      <td>3400000</td>\n",
       "    </tr>\n",
       "    <tr>\n",
       "      <th>3</th>\n",
       "      <td>부산</td>\n",
       "      <td>2022</td>\n",
       "      <td>3450000</td>\n",
       "    </tr>\n",
       "  </tbody>\n",
       "</table>\n",
       "</div>"
      ],
      "text/plain": [
       "   도시    년도      인구수\n",
       "0  서울  2021  9700000\n",
       "1  서울  2022  9720000\n",
       "2  부산  2021  3400000\n",
       "3  부산  2022  3450000"
      ]
     },
     "execution_count": 7,
     "metadata": {},
     "output_type": "execute_result"
    }
   ],
   "source": [
    "df"
   ]
  },
  {
   "cell_type": "code",
   "execution_count": 10,
   "id": "27fdf757-dd67-4d39-8caf-a779603a5dbc",
   "metadata": {},
   "outputs": [
    {
     "name": "stdout",
     "output_type": "stream",
     "text": [
      "             인구수\n",
      "도시 년도           \n",
      "서울 2021  9700000\n",
      "   2022  9720000\n",
      "부산 2021  3400000\n",
      "   2022  3450000\n"
     ]
    }
   ],
   "source": [
    "# 멀티 인덱스를 튜플로 직접 생성\n",
    "index = pd.MultiIndex.from_tuples([('서울', 2021), ('서울', 2022), ('부산', 2021), ('부산', 2022)], names=['도시', '년도'])\n",
    "\n",
    "# 데이터프레임에 적용\n",
    "df_multi_index = pd.DataFrame({'인구수': [9700000, 9720000, 3400000, 3450000]}, index=index)\n",
    "print(df_multi_index)\n"
   ]
  },
  {
   "cell_type": "code",
   "execution_count": 11,
   "id": "449f234f-96f3-4243-85c9-1945a9dc4bf6",
   "metadata": {},
   "outputs": [
    {
     "data": {
      "text/plain": [
       "인구수    9700000\n",
       "Name: (서울, 2021), dtype: int64"
      ]
     },
     "execution_count": 11,
     "metadata": {},
     "output_type": "execute_result"
    }
   ],
   "source": [
    "df_multi_index.loc[\"서울\",2021]"
   ]
  },
  {
   "cell_type": "code",
   "execution_count": 12,
   "id": "041990ce-9b2e-4d52-9625-99ec1f166010",
   "metadata": {},
   "outputs": [
    {
     "name": "stdout",
     "output_type": "stream",
     "text": [
      "               인구수       소득\n",
      "도시 년도                      \n",
      "부산 2021  3400000.0  45000.0\n",
      "   2022  3475000.0  46500.0\n",
      "서울 2021  9750000.0  61500.0\n",
      "   2022  9720000.0  62000.0\n"
     ]
    }
   ],
   "source": [
    "# 데이터프레임 생성\n",
    "data = {\n",
    "    '도시': ['서울', '서울', '부산', '부산', '서울', '부산'],\n",
    "    '년도': [2021, 2022, 2021, 2022, 2021, 2022],\n",
    "    '인구수': [9700000, 9720000, 3400000, 3450000, 9800000, 3500000],\n",
    "    '소득': [60000, 62000, 45000, 46000, 63000, 47000]\n",
    "}\n",
    "df = pd.DataFrame(data)\n",
    "\n",
    "# '도시'와 '년도'를 기준으로 그룹화하여 평균 계산\n",
    "grouped_df = df.groupby(['도시', '년도']).mean()\n",
    "print(grouped_df)\n"
   ]
  },
  {
   "cell_type": "code",
   "execution_count": 15,
   "id": "adad6354-771c-45d5-bc09-55866afa1b0c",
   "metadata": {},
   "outputs": [
    {
     "name": "stdout",
     "output_type": "stream",
     "text": [
      "\n",
      "그룹화한 데이터:\n",
      "               인구수       소득\n",
      "도시 년도                      \n",
      "부산 2021  3400000.0  45000.0\n",
      "   2022  3475000.0  46500.0\n",
      "서울 2021  9750000.0  61500.0\n",
      "   2022  9720000.0  62000.0\n"
     ]
    }
   ],
   "source": [
    "grouped = df.groupby(['도시','년도']).mean()\n",
    "print(\"\\n그룹화한 데이터:\")\n",
    "print(grouped)"
   ]
  },
  {
   "cell_type": "code",
   "execution_count": 16,
   "id": "b2ed1e8e-e238-479c-896a-2d939f4b8e58",
   "metadata": {},
   "outputs": [
    {
     "data": {
      "text/html": [
       "<div>\n",
       "<style scoped>\n",
       "    .dataframe tbody tr th:only-of-type {\n",
       "        vertical-align: middle;\n",
       "    }\n",
       "\n",
       "    .dataframe tbody tr th {\n",
       "        vertical-align: top;\n",
       "    }\n",
       "\n",
       "    .dataframe thead th {\n",
       "        text-align: right;\n",
       "    }\n",
       "</style>\n",
       "<table border=\"1\" class=\"dataframe\">\n",
       "  <thead>\n",
       "    <tr style=\"text-align: right;\">\n",
       "      <th></th>\n",
       "      <th>인구수</th>\n",
       "      <th>소득</th>\n",
       "    </tr>\n",
       "    <tr>\n",
       "      <th>년도</th>\n",
       "      <th></th>\n",
       "      <th></th>\n",
       "    </tr>\n",
       "  </thead>\n",
       "  <tbody>\n",
       "    <tr>\n",
       "      <th>2021</th>\n",
       "      <td>9750000.0</td>\n",
       "      <td>61500.0</td>\n",
       "    </tr>\n",
       "    <tr>\n",
       "      <th>2022</th>\n",
       "      <td>9720000.0</td>\n",
       "      <td>62000.0</td>\n",
       "    </tr>\n",
       "  </tbody>\n",
       "</table>\n",
       "</div>"
      ],
      "text/plain": [
       "            인구수       소득\n",
       "년도                      \n",
       "2021  9750000.0  61500.0\n",
       "2022  9720000.0  62000.0"
      ]
     },
     "execution_count": 16,
     "metadata": {},
     "output_type": "execute_result"
    }
   ],
   "source": [
    "grouped.loc['서울']"
   ]
  },
  {
   "cell_type": "code",
   "execution_count": null,
   "id": "6ca5729e-c2e5-4f99-940f-d3c64aa821fa",
   "metadata": {},
   "outputs": [],
   "source": []
  }
 ],
 "metadata": {
  "kernelspec": {
   "display_name": "pandas_course",
   "language": "python",
   "name": "pandas_course"
  },
  "language_info": {
   "codemirror_mode": {
    "name": "ipython",
    "version": 3
   },
   "file_extension": ".py",
   "mimetype": "text/x-python",
   "name": "python",
   "nbconvert_exporter": "python",
   "pygments_lexer": "ipython3",
   "version": "3.12.2"
  }
 },
 "nbformat": 4,
 "nbformat_minor": 5
}
