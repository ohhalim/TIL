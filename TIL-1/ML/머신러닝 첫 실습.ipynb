{
 "cells": [
  {
   "cell_type": "code",
   "execution_count": 25,
   "id": "0020186e-2239-416c-a788-374d389dafec",
   "metadata": {},
   "outputs": [],
   "source": [
    "import pandas as pd\n",
    "import numpy as np\n",
    "from sklearn.preprocessing import MinMaxScaler, LabelEncoder\n",
    "\n",
    "\n",
    "# 가상 데이터 생성\n",
    "data = {\n",
    "    'TransactionID': range(1, 21),\n",
    "    'CustomerID': [101, 102, 103, 104, 105, 106, 107, 108, 109, 110, 101, 102, 103, 104, 105, 106, 107, 108, 109, 110],\n",
    "    'PurchaseAmount': [250, -50, 3000000, 450, 0, 300, 200, 150, -10, 800, 50, 75, 400, np.nan, 600, 1000, 20, 5000, 150, 80],\n",
    "    'PurchaseDate': pd.date_range(start='2024-01-01', periods=20, freq='ME').tolist(),\n",
    "    'ProductCategory': ['Electronics', 'Clothing', 'Electronics', 'Home', 'Electronics', 'Home', 'Clothing', 'Home', 'Clothing', 'Electronics', 'Electronics', 'Home', 'Clothing', 'Electronics', 'Home', 'Home', 'Clothing', 'Electronics', 'Home', 'Electronics'],\n",
    "    'CustomerAge': [25, 35, 45, np.nan, 22, 29, 33, 41, 27, 36, 28, 34, 42, 39, 24, 30, 32, 40, 38, 26],\n",
    "    'CustomerGender': ['Male', 'Female', 'Female', 'Male', 'Female', 'Male', 'Female', np.nan, 'Male', 'Female', 'Male', 'Female', 'Male', 'Female', 'Male', 'Female', 'Male', 'Female', 'Male', 'Female'],\n",
    "    'ReviewScore': [5, np.nan, 4, 3, 2, 5, 3, 4, 1, 2, np.nan, 4, 5, 3, 4, np.nan, 1, 5, 2, 4]\n",
    "}\n",
    "\n",
    "df = pd.DataFrame(data)\n"
   ]
  },
  {
   "cell_type": "code",
   "execution_count": 27,
   "id": "18b778bc-4c93-4118-84e9-1251e74aa322",
   "metadata": {},
   "outputs": [
    {
     "name": "stdout",
     "output_type": "stream",
     "text": [
      "    TransactionID  CustomerID  PurchaseAmount PurchaseDate ProductCategory  \\\n",
      "0               1         101         250.000   2024-01-31     Electronics   \n",
      "17             18         108        1521.875   2025-06-30     Electronics   \n",
      "15             16         106        1000.000   2025-04-30            Home   \n",
      "1               2         102           0.000   2024-02-29        Clothing   \n",
      "8               9         109           0.000   2024-09-30        Clothing   \n",
      "\n",
      "    CustomerAge CustomerGender  ReviewScore  PurchaseAmount_Normalized  \\\n",
      "0          25.0           Male     5.000000                   0.164271   \n",
      "17         40.0         Female     5.000000                   1.000000   \n",
      "15         30.0         Female     3.352941                   0.657084   \n",
      "1          35.0         Female     3.352941                   0.000000   \n",
      "8          27.0           Male     1.000000                   0.000000   \n",
      "\n",
      "    ProductCategory_Encoded  CustomerGender_Encoded  \n",
      "0                         1                       1  \n",
      "17                        1                       0  \n",
      "15                        2                       0  \n",
      "1                         0                       0  \n",
      "8                         0                       1  \n"
     ]
    },
    {
     "name": "stderr",
     "output_type": "stream",
     "text": [
      "/var/folders/ln/kkrz5x5s3rq0k4s1f6vqd08c0000gn/T/ipykernel_78784/2323642167.py:2: FutureWarning: A value is trying to be set on a copy of a DataFrame or Series through chained assignment using an inplace method.\n",
      "The behavior will change in pandas 3.0. This inplace method will never work because the intermediate object on which we are setting values always behaves as a copy.\n",
      "\n",
      "For example, when doing 'df[col].method(value, inplace=True)', try using 'df.method({col: value}, inplace=True)' or df[col] = df[col].method(value) instead, to perform the operation inplace on the original object.\n",
      "\n",
      "\n",
      "  df['PurchaseAmount'].fillna(df['PurchaseAmount'].mean(), inplace=True)\n",
      "/var/folders/ln/kkrz5x5s3rq0k4s1f6vqd08c0000gn/T/ipykernel_78784/2323642167.py:3: FutureWarning: A value is trying to be set on a copy of a DataFrame or Series through chained assignment using an inplace method.\n",
      "The behavior will change in pandas 3.0. This inplace method will never work because the intermediate object on which we are setting values always behaves as a copy.\n",
      "\n",
      "For example, when doing 'df[col].method(value, inplace=True)', try using 'df.method({col: value}, inplace=True)' or df[col] = df[col].method(value) instead, to perform the operation inplace on the original object.\n",
      "\n",
      "\n",
      "  df['CustomerAge'].fillna(df['CustomerAge'].median(), inplace=True)\n",
      "/var/folders/ln/kkrz5x5s3rq0k4s1f6vqd08c0000gn/T/ipykernel_78784/2323642167.py:4: FutureWarning: A value is trying to be set on a copy of a DataFrame or Series through chained assignment using an inplace method.\n",
      "The behavior will change in pandas 3.0. This inplace method will never work because the intermediate object on which we are setting values always behaves as a copy.\n",
      "\n",
      "For example, when doing 'df[col].method(value, inplace=True)', try using 'df.method({col: value}, inplace=True)' or df[col] = df[col].method(value) instead, to perform the operation inplace on the original object.\n",
      "\n",
      "\n",
      "  df['CustomerGender'].fillna(df['CustomerGender'].mode()[0], inplace=True)\n",
      "/var/folders/ln/kkrz5x5s3rq0k4s1f6vqd08c0000gn/T/ipykernel_78784/2323642167.py:5: FutureWarning: A value is trying to be set on a copy of a DataFrame or Series through chained assignment using an inplace method.\n",
      "The behavior will change in pandas 3.0. This inplace method will never work because the intermediate object on which we are setting values always behaves as a copy.\n",
      "\n",
      "For example, when doing 'df[col].method(value, inplace=True)', try using 'df.method({col: value}, inplace=True)' or df[col] = df[col].method(value) instead, to perform the operation inplace on the original object.\n",
      "\n",
      "\n",
      "  df['ReviewScore'].fillna(df['ReviewScore'].mean(), inplace=True)\n"
     ]
    }
   ],
   "source": [
    "# 1. 결측값 처리\n",
    "df['PurchaseAmount'].fillna(df['PurchaseAmount'].mean(), inplace=True)\n",
    "df['CustomerAge'].fillna(df['CustomerAge'].median(), inplace=True)\n",
    "df['CustomerGender'].fillna(df['CustomerGender'].mode()[0], inplace=True)\n",
    "df['ReviewScore'].fillna(df['ReviewScore'].mean(), inplace=True)\n",
    "\n",
    "# 2. 이상치 처리\n",
    "Q1 = df['PurchaseAmount'].quantile(0.25)\n",
    "Q3 = df['PurchaseAmount'].quantile(0.75)\n",
    "IQR = Q3 - Q1\n",
    "lower_bound = Q1 - 1.5 * IQR\n",
    "upper_bound = Q3 + 1.5 * IQR\n",
    "df['PurchaseAmount'] = df['PurchaseAmount'].clip(lower_bound, upper_bound)\n",
    "df['PurchaseAmount'] = df['PurchaseAmount'].clip(lower=0)  # 음수 값을 0으로 처리\n",
    "\n",
    "# 3. 중복 데이터 제거\n",
    "df.drop_duplicates(subset=['TransactionID'], keep='first', inplace=True)\n",
    "\n",
    "# 4. 데이터 타입 변환\n",
    "df['PurchaseDate'] = pd.to_datetime(df['PurchaseDate'])\n",
    "\n",
    "# 5. 정규화\n",
    "scaler = MinMaxScaler()\n",
    "df['PurchaseAmount_Normalized'] = scaler.fit_transform(df[['PurchaseAmount']])\n",
    "\n",
    "# 6. 범주형 데이터 인코딩\n",
    "le = LabelEncoder()\n",
    "df['ProductCategory_Encoded'] = le.fit_transform(df['ProductCategory'])\n",
    "df['CustomerGender_Encoded'] = le.fit_transform(df['CustomerGender'])\n",
    "\n",
    "# 7. 샘플링\n",
    "sample_df = df.sample(n=5, random_state=42)\n",
    "\n",
    "print(sample_df)"
   ]
  },
  {
   "cell_type": "code",
   "execution_count": null,
   "id": "1118893e-8309-4327-938d-e3cb6dcbf36b",
   "metadata": {},
   "outputs": [],
   "source": []
  }
 ],
 "metadata": {
  "kernelspec": {
   "display_name": "dlenv",
   "language": "python",
   "name": "welcometodl"
  },
  "language_info": {
   "codemirror_mode": {
    "name": "ipython",
    "version": 3
   },
   "file_extension": ".py",
   "mimetype": "text/x-python",
   "name": "python",
   "nbconvert_exporter": "python",
   "pygments_lexer": "ipython3",
   "version": "3.12.7"
  }
 },
 "nbformat": 4,
 "nbformat_minor": 5
}
