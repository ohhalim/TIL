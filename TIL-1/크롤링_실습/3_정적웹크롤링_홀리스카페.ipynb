{
 "cells": [
  {
   "cell_type": "markdown",
   "metadata": {},
   "source": [
    "# 할리스 매장정보 웹스크래핑 실습"
   ]
  },
  {
   "cell_type": "code",
   "execution_count": 1,
   "metadata": {},
   "outputs": [
    {
     "name": "stdout",
     "output_type": "stream",
     "text": [
      "Requirement already satisfied: requests in /opt/anaconda3/envs/llm/lib/python3.12/site-packages (2.32.3)\n",
      "Requirement already satisfied: beautifulsoup4 in /opt/anaconda3/envs/llm/lib/python3.12/site-packages (4.12.3)\n",
      "Collecting pandas\n",
      "  Downloading pandas-2.2.3-cp312-cp312-macosx_11_0_arm64.whl.metadata (89 kB)\n",
      "Requirement already satisfied: charset-normalizer<4,>=2 in /opt/anaconda3/envs/llm/lib/python3.12/site-packages (from requests) (3.3.2)\n",
      "Requirement already satisfied: idna<4,>=2.5 in /opt/anaconda3/envs/llm/lib/python3.12/site-packages (from requests) (3.7)\n",
      "Requirement already satisfied: urllib3<3,>=1.21.1 in /opt/anaconda3/envs/llm/lib/python3.12/site-packages (from requests) (2.2.3)\n",
      "Requirement already satisfied: certifi>=2017.4.17 in /opt/anaconda3/envs/llm/lib/python3.12/site-packages (from requests) (2024.8.30)\n",
      "Requirement already satisfied: soupsieve>1.2 in /opt/anaconda3/envs/llm/lib/python3.12/site-packages (from beautifulsoup4) (2.5)\n",
      "Requirement already satisfied: numpy>=1.26.0 in /opt/anaconda3/envs/llm/lib/python3.12/site-packages (from pandas) (1.26.4)\n",
      "Requirement already satisfied: python-dateutil>=2.8.2 in /opt/anaconda3/envs/llm/lib/python3.12/site-packages (from pandas) (2.9.0.post0)\n",
      "Requirement already satisfied: pytz>=2020.1 in /opt/anaconda3/envs/llm/lib/python3.12/site-packages (from pandas) (2024.1)\n",
      "Collecting tzdata>=2022.7 (from pandas)\n",
      "  Downloading tzdata-2024.2-py2.py3-none-any.whl.metadata (1.4 kB)\n",
      "Requirement already satisfied: six>=1.5 in /opt/anaconda3/envs/llm/lib/python3.12/site-packages (from python-dateutil>=2.8.2->pandas) (1.16.0)\n",
      "Downloading pandas-2.2.3-cp312-cp312-macosx_11_0_arm64.whl (11.4 MB)\n",
      "\u001b[2K   \u001b[90m━━━━━━━━━━━━━━━━━━━━━━━━━━━━━━━━━━━━━━━━\u001b[0m \u001b[32m11.4/11.4 MB\u001b[0m \u001b[31m20.4 MB/s\u001b[0m eta \u001b[36m0:00:00\u001b[0m \u001b[36m0:00:01\u001b[0m\n",
      "\u001b[?25hDownloading tzdata-2024.2-py2.py3-none-any.whl (346 kB)\n",
      "Installing collected packages: tzdata, pandas\n",
      "Successfully installed pandas-2.2.3 tzdata-2024.2\n"
     ]
    }
   ],
   "source": [
    "# 1. 필요한 라이브러리 설치 및 임포트\n",
    "!pip install requests beautifulsoup4 pandas"
   ]
  },
  {
   "cell_type": "markdown",
   "metadata": {},
   "source": [
    "## 2. 웹 페이지 요청하기\n",
    "- 웹사이트에서 데이터를 가져오기"
   ]
  },
  {
   "cell_type": "code",
   "execution_count": 2,
   "metadata": {},
   "outputs": [
    {
     "name": "stdout",
     "output_type": "stream",
     "text": [
      "HTML 일부: <!DOCTYPE html>\n",
      "<html xmlns=\"http://www.w3.org/1999/xhtml\" xml:lang=\"ko\" lang=\"ko\">\n",
      "<head>\n",
      "\t<title>할리스</title>\n",
      "\t<meta charset=\"UTF-8\">\n",
      "\n",
      "\t<meta name=\"Subject\" content=\"HOLLYS\" />\n",
      "\t<meta name=\"Title\" content=\"HOLLYS\" />\n",
      "\t<meta name=\"Keywords\" content=\"HOLLYS,HOLLYS,할리스,할리스,커피\" />\n",
      "\t<meta name=\"Description\" content=\"할리스는 1998년 국내 첫 에스프레소 커피전문점을 개점한 순수 국내브랜드로서 당당하게 시장 선점이라는 확고한 위치를 확보하고 국내 에스프레소 커피시장을 주도해 나가고 있습니다.\" />\n",
      "\t<meta name=\"Author\" content=\"HOLLYS F&B\" />\n",
      "\t<meta name=\"Publisher\" content=\"HOLL\n"
     ]
    }
   ],
   "source": [
    "\n",
    "\n",
    "import requests\n",
    "from bs4 import BeautifulSoup\n",
    "import pandas as pd\n",
    "import json\n",
    "from typing import List, Dict\n",
    "\n",
    "def get_hollys_store_info(page: int) -> str:\n",
    "    \"\"\"\n",
    "    할리스 매장 정보 페이지의 HTML을 가져오는 함수\n",
    "    \n",
    "    Args:\n",
    "        page (int): 페이지 번호\n",
    "    Returns:\n",
    "        str: 웹 페이지의 HTML 내용\n",
    "    \"\"\"\n",
    "    url = \"https://www.hollys.co.kr/store/korea/korStore2.do\"\n",
    "    params = {\"pageNo\": page}\n",
    "    headers = {\n",
    "        'User-Agent': 'Mozilla/5.0 (Windows NT 10.0; Win64; x64) Chrome/120.0.0.0'\n",
    "    }\n",
    "    \n",
    "    try:\n",
    "        response = requests.get(url, params=params, headers=headers)\n",
    "        response.raise_for_status()  # 오류가 있으면 예외를 발생시킴\n",
    "        return response.text\n",
    "    except requests.exceptions.RequestException as e:\n",
    "        print(f\"페이지 {page} 요청 중 에러 발생: {e}\")\n",
    "        return \"\"\n",
    "\n",
    "# 테스트: 첫 페이지 가져오기\n",
    "html = get_hollys_store_info(1)\n",
    "print(\"HTML 일부:\", html[:500])  # 처음 500자만 출력"
   ]
  },
  {
   "cell_type": "markdown",
   "metadata": {},
   "source": [
    "## 3. HTML 파싱하기\n",
    "- BeautifulSoup를 사용하여 HTML에서 필요한 정보를 추출"
   ]
  },
  {
   "cell_type": "code",
   "execution_count": 4,
   "metadata": {},
   "outputs": [
    {
     "name": "stdout",
     "output_type": "stream",
     "text": [
      "첫 페이지에서 찾은 매장 수: 10\n",
      "\n",
      "첫 번째 매장 정보:\n",
      "{\n",
      "  \"region\": \"인천 남동구\",\n",
      "  \"name\": \"간석오거리점2\",\n",
      "  \"status\": \"영업중\",\n",
      "  \"address\": \"인천광역시 남동구 남동대로 931 (간석동) 씨앤케이 웨딩홀\",\n",
      "  \"service\": \"주차\",\n",
      "  \"phone\": \"032-425-0915\"\n",
      "}\n"
     ]
    }
   ],
   "source": [
    "def parse_store_info(html: str) -> List[Dict]:\n",
    "    \"\"\"\n",
    "    HTML에서 매장 정보를 파싱하는 함수\n",
    "    \n",
    "    Args:\n",
    "        html (str): 파싱할 HTML 문자열\n",
    "    Returns:\n",
    "        List[Dict]: 매장 정보 딕셔너리의 리스트\n",
    "    \"\"\"\n",
    "    stores = []\n",
    "    soup = BeautifulSoup(html, 'html.parser')\n",
    "    \n",
    "    tbody = soup.find(\"tbody\")\n",
    "    if not tbody:\n",
    "        return stores\n",
    "        \n",
    "    for tr in tbody.find_all(\"tr\"):\n",
    "        tds = tr.find_all('td')\n",
    "        if len(tds) < 6:\n",
    "            continue\n",
    "            \n",
    "        store = {\n",
    "            'region': tds[0].text.strip(),\n",
    "            'name': tds[1].text.strip(),\n",
    "            'status': tds[2].text.strip(),\n",
    "            'address': tds[3].text.strip(),\n",
    "            'service': ' '.join(img['alt'] for img in tds[4].find_all('img')),\n",
    "            'phone': tds[5].text.strip()\n",
    "        }\n",
    "        stores.append(store)\n",
    "        \n",
    "    return stores\n",
    "\n",
    "# 테스트: 첫 페이지 파싱하기\n",
    "stores = parse_store_info(html)\n",
    "print(f\"첫 페이지에서 찾은 매장 수: {len(stores)}\")\n",
    "print(\"\\n첫 번째 매장 정보:\")\n",
    "print(json.dumps(stores[0], ensure_ascii=False, indent=2))"
   ]
  },
  {
   "cell_type": "markdown",
   "metadata": {},
   "source": [
    "## 4. 데이터 저장하기\n",
    "- 수집한 데이터를 CSV와 JSON 형식으로 저장"
   ]
  },
  {
   "cell_type": "code",
   "execution_count": 5,
   "metadata": {},
   "outputs": [
    {
     "name": "stdout",
     "output_type": "stream",
     "text": [
      "CSV 파일 저장 완료: ./hollys_stores.csv\n",
      "JSON 파일 저장 완료: ./hollys_stores.json\n",
      "\n",
      "데이터 미리보기:\n",
      "       region      name status  \\\n",
      "0      인천 남동구   간석오거리점2    영업중   \n",
      "1      대구 수성구  대구범어천로점2    영업중   \n",
      "2      서울 강동구  길동포유르센티점    영업중   \n",
      "3      서울 강동구   고덕비즈밸리점    영업중   \n",
      "4  경남 창원시 의창구     창원팔용점    영업중   \n",
      "\n",
      "                                             address      service  \\\n",
      "0                  인천광역시 남동구 남동대로 931 (간석동) 씨앤케이 웨딩홀           주차   \n",
      "1  대구광역시 수성구 범어천로 200 (범어동, 범어월드메르디앙웨스턴카운티) 102호,...           주차   \n",
      "2              서울특별시 강동구 진황도로 104 (길동) 1층 (101~102호)                \n",
      "3          서울특별시 강동구 고덕비즈밸리로 38 (고덕동) KS타워 101호~102호       테라스 주차   \n",
      "4          경상남도 창원시 의창구 창원대로18번길 6-8 (팔용동) 할리스 창원팔용점  테라스 흡연시설 주차   \n",
      "\n",
      "          phone  \n",
      "0  032-425-0915  \n",
      "1  053-759-5779  \n",
      "2   02-487-9997  \n",
      "3             .  \n",
      "4             .  \n"
     ]
    }
   ],
   "source": [
    "def save_to_files(stores: List[Dict], base_path: str = \"./\"):\n",
    "    \"\"\"\n",
    "    매장 정보를 CSV와 JSON 파일로 저장하는 함수\n",
    "    \n",
    "    Args:\n",
    "        stores (List[Dict]): 저장할 매장 정보 리스트\n",
    "        base_path (str): 파일을 저장할 기본 경로\n",
    "    \"\"\"\n",
    "    # CSV 파일로 저장\n",
    "    df = pd.DataFrame(stores)\n",
    "    csv_path = f\"{base_path}hollys_stores.csv\"\n",
    "    df.to_csv(csv_path, encoding='utf-8', index=False)\n",
    "    \n",
    "    # JSON 파일로 저장\n",
    "    json_path = f\"{base_path}hollys_stores.json\"\n",
    "    with open(json_path, 'w', encoding='utf-8') as f:\n",
    "        json.dump(stores, f, ensure_ascii=False, indent=4)\n",
    "    \n",
    "    print(f\"CSV 파일 저장 완료: {csv_path}\")\n",
    "    print(f\"JSON 파일 저장 완료: {json_path}\")\n",
    "    \n",
    "    # 데이터 미리보기\n",
    "    print(\"\\n데이터 미리보기:\")\n",
    "    print(df.head())\n",
    "\n",
    "# 테스트: 첫 페이지 데이터 저장하기\n",
    "save_to_files(stores)"
   ]
  },
  {
   "cell_type": "markdown",
   "metadata": {},
   "source": [
    "## 5. 전체 과정 실행하기"
   ]
  },
  {
   "cell_type": "code",
   "execution_count": 7,
   "metadata": {},
   "outputs": [
    {
     "name": "stdout",
     "output_type": "stream",
     "text": [
      "할리스 매장 정보 수집 중...\n",
      "페이지 1: 10개의 매장 정보 수집 완료\n",
      "페이지 2: 10개의 매장 정보 수집 완료\n",
      "페이지 3: 10개의 매장 정보 수집 완료\n",
      "페이지 4: 10개의 매장 정보 수집 완료\n",
      "페이지 5: 10개의 매장 정보 수집 완료\n",
      "페이지 6: 10개의 매장 정보 수집 완료\n",
      "페이지 7: 10개의 매장 정보 수집 완료\n",
      "페이지 8: 10개의 매장 정보 수집 완료\n",
      "페이지 9: 10개의 매장 정보 수집 완료\n",
      "페이지 10: 10개의 매장 정보 수집 완료\n",
      "페이지 11: 10개의 매장 정보 수집 완료\n",
      "페이지 12: 10개의 매장 정보 수집 완료\n",
      "페이지 13: 10개의 매장 정보 수집 완료\n",
      "페이지 14: 10개의 매장 정보 수집 완료\n",
      "페이지 15: 10개의 매장 정보 수집 완료\n",
      "페이지 16: 10개의 매장 정보 수집 완료\n",
      "페이지 17: 10개의 매장 정보 수집 완료\n",
      "페이지 18: 10개의 매장 정보 수집 완료\n",
      "페이지 19: 10개의 매장 정보 수집 완료\n",
      "페이지 20: 10개의 매장 정보 수집 완료\n",
      "페이지 21: 10개의 매장 정보 수집 완료\n",
      "페이지 22: 10개의 매장 정보 수집 완료\n",
      "페이지 23: 10개의 매장 정보 수집 완료\n",
      "페이지 24: 10개의 매장 정보 수집 완료\n",
      "페이지 25: 10개의 매장 정보 수집 완료\n",
      "페이지 26: 10개의 매장 정보 수집 완료\n",
      "페이지 27: 10개의 매장 정보 수집 완료\n",
      "페이지 28: 10개의 매장 정보 수집 완료\n",
      "페이지 29: 10개의 매장 정보 수집 완료\n",
      "페이지 30: 10개의 매장 정보 수집 완료\n",
      "페이지 31: 10개의 매장 정보 수집 완료\n",
      "페이지 32: 10개의 매장 정보 수집 완료\n",
      "페이지 33: 10개의 매장 정보 수집 완료\n",
      "페이지 34: 10개의 매장 정보 수집 완료\n",
      "페이지 35: 10개의 매장 정보 수집 완료\n",
      "페이지 36: 10개의 매장 정보 수집 완료\n",
      "페이지 37: 10개의 매장 정보 수집 완료\n",
      "페이지 38: 10개의 매장 정보 수집 완료\n",
      "페이지 39: 10개의 매장 정보 수집 완료\n",
      "페이지 40: 10개의 매장 정보 수집 완료\n",
      "페이지 41: 10개의 매장 정보 수집 완료\n",
      "페이지 42: 10개의 매장 정보 수집 완료\n",
      "페이지 43: 10개의 매장 정보 수집 완료\n",
      "페이지 44: 10개의 매장 정보 수집 완료\n",
      "페이지 45: 10개의 매장 정보 수집 완료\n",
      "페이지 46: 10개의 매장 정보 수집 완료\n",
      "페이지 47: 10개의 매장 정보 수집 완료\n",
      "페이지 48: 10개의 매장 정보 수집 완료\n",
      "페이지 49: 9개의 매장 정보 수집 완료\n",
      "\n",
      "총 489개의 매장 정보를 수집했습니다.\n",
      "CSV 파일 저장 완료: ./hollys_stores.csv\n",
      "JSON 파일 저장 완료: ./hollys_stores.json\n",
      "\n",
      "데이터 미리보기:\n",
      "       region      name status  \\\n",
      "0      인천 남동구   간석오거리점2    영업중   \n",
      "1      대구 수성구  대구범어천로점2    영업중   \n",
      "2      서울 강동구  길동포유르센티점    영업중   \n",
      "3      서울 강동구   고덕비즈밸리점    영업중   \n",
      "4  경남 창원시 의창구     창원팔용점    영업중   \n",
      "\n",
      "                                             address      service  \\\n",
      "0                  인천광역시 남동구 남동대로 931 (간석동) 씨앤케이 웨딩홀           주차   \n",
      "1  대구광역시 수성구 범어천로 200 (범어동, 범어월드메르디앙웨스턴카운티) 102호,...           주차   \n",
      "2              서울특별시 강동구 진황도로 104 (길동) 1층 (101~102호)                \n",
      "3          서울특별시 강동구 고덕비즈밸리로 38 (고덕동) KS타워 101호~102호       테라스 주차   \n",
      "4          경상남도 창원시 의창구 창원대로18번길 6-8 (팔용동) 할리스 창원팔용점  테라스 흡연시설 주차   \n",
      "\n",
      "          phone  \n",
      "0  032-425-0915  \n",
      "1  053-759-5779  \n",
      "2   02-487-9997  \n",
      "3             .  \n",
      "4             .  \n"
     ]
    }
   ],
   "source": [
    "def main():\n",
    "    stores = []\n",
    "    \n",
    "    # 매장 정보 수집\n",
    "    print(\"할리스 매장 정보 수집 중...\")\n",
    "    for page in range(1, 50):  # 1~2 페이지만 수집 (테스트용)\n",
    "        html = get_hollys_store_info(page)\n",
    "        if html:\n",
    "            page_stores = parse_store_info(html)\n",
    "            stores.extend(page_stores)\n",
    "            print(f\"페이지 {page}: {len(page_stores)}개의 매장 정보 수집 완료\")\n",
    "    \n",
    "    if not stores:\n",
    "        print(\"매장 정보를 가져오는데 실패했습니다.\")\n",
    "        return\n",
    "        \n",
    "    print(f\"\\n총 {len(stores)}개의 매장 정보를 수집했습니다.\")\n",
    "\n",
    "    # 데이터 저장\n",
    "    try:\n",
    "        save_to_files(stores)\n",
    "    except Exception as e:\n",
    "        print(f\"데이터 저장 중 에러 발생: {e}\")\n",
    "\n",
    "# 전체 과정 실행\n",
    "main()"
   ]
  },
  {
   "cell_type": "code",
   "execution_count": null,
   "metadata": {},
   "outputs": [],
   "source": []
  }
 ],
 "metadata": {
  "kernelspec": {
   "display_name": "Python 3 (ipykernel)",
   "language": "python",
   "name": "python3"
  },
  "language_info": {
   "codemirror_mode": {
    "name": "ipython",
    "version": 3
   },
   "file_extension": ".py",
   "mimetype": "text/x-python",
   "name": "python",
   "nbconvert_exporter": "python",
   "pygments_lexer": "ipython3",
   "version": "3.12.7"
  }
 },
 "nbformat": 4,
 "nbformat_minor": 4
}
