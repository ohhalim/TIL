{
 "cells": [
  {
   "cell_type": "code",
   "execution_count": 1,
   "id": "81af1a96-d0a6-465e-808a-97046fbc0758",
   "metadata": {},
   "outputs": [],
   "source": [
    "from fastapi import FastAPI\n",
    "\n",
    "# FastAPI 인스턴스 생성\n",
    "app = FastAPI()\n",
    "\n",
    "# 루트 경로에 GET 요청이 들어왔을 때 \"Hello World!\"를 반환하는 엔드포인트 정의\n",
    "@app.get(\"/\")\n",
    "def read_root():\n",
    "    return {\"message\": \"Hello World!\"}\n"
   ]
  },
  {
   "cell_type": "code",
   "execution_count": 2,
   "id": "9e892002-f7e4-4d85-ac34-fbeea8836739",
   "metadata": {},
   "outputs": [
    {
     "ename": "SyntaxError",
     "evalue": "invalid syntax (3777925087.py, line 1)",
     "output_type": "error",
     "traceback": [
      "\u001b[0;36m  Cell \u001b[0;32mIn[2], line 1\u001b[0;36m\u001b[0m\n\u001b[0;31m    uvicorn your_script_name:app --reload\u001b[0m\n\u001b[0m            ^\u001b[0m\n\u001b[0;31mSyntaxError\u001b[0m\u001b[0;31m:\u001b[0m invalid syntax\n"
     ]
    }
   ],
   "source": [
    "uvicorn your_script_name:app --reload\n"
   ]
  },
  {
   "cell_type": "code",
   "execution_count": null,
   "id": "d55a18ee-b614-4e5f-8efc-7d0e5c9b0bca",
   "metadata": {},
   "outputs": [],
   "source": []
  }
 ],
 "metadata": {
  "kernelspec": {
   "display_name": "ai",
   "language": "python",
   "name": "myenv"
  },
  "language_info": {
   "codemirror_mode": {
    "name": "ipython",
    "version": 3
   },
   "file_extension": ".py",
   "mimetype": "text/x-python",
   "name": "python",
   "nbconvert_exporter": "python",
   "pygments_lexer": "ipython3",
   "version": "3.12.7"
  }
 },
 "nbformat": 4,
 "nbformat_minor": 5
}
