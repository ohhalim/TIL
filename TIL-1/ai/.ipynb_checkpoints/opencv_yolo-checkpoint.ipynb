{
 "cells": [
  {
   "cell_type": "code",
   "execution_count": 2,
   "id": "d03c6d04-d50e-4e32-a293-81d29e9f8ed4",
   "metadata": {},
   "outputs": [
    {
     "ename": "ModuleNotFoundError",
     "evalue": "No module named 'ultralytics'",
     "output_type": "error",
     "traceback": [
      "\u001b[0;31m---------------------------------------------------------------------------\u001b[0m",
      "\u001b[0;31mModuleNotFoundError\u001b[0m                       Traceback (most recent call last)",
      "Cell \u001b[0;32mIn[2], line 1\u001b[0m\n\u001b[0;32m----> 1\u001b[0m \u001b[38;5;28;01mfrom\u001b[39;00m \u001b[38;5;21;01multralytics\u001b[39;00m \u001b[38;5;28;01mimport\u001b[39;00m YOLO\n\u001b[1;32m      2\u001b[0m \u001b[38;5;28;01mimport\u001b[39;00m \u001b[38;5;21;01mcv2\u001b[39;00m\n\u001b[1;32m      3\u001b[0m \u001b[38;5;28;01mfrom\u001b[39;00m \u001b[38;5;21;01mPyQt5\u001b[39;00m\u001b[38;5;21;01m.\u001b[39;00m\u001b[38;5;21;01mQtWidgets\u001b[39;00m \u001b[38;5;28;01mimport\u001b[39;00m QApplication, QLabel, QVBoxLayout, QWidget, QPushButton\n",
      "\u001b[0;31mModuleNotFoundError\u001b[0m: No module named 'ultralytics'"
     ]
    }
   ],
   "source": [
    "from ultralytics import YOLO\n",
    "import cv2\n",
    "from PyQt5.QtWidgets import QApplication, QLabel, QVBoxLayout, QWidget, QPushButton\n",
    "from PyQt5.QtCore import QTimer\n",
    "from PyQt5.QtGui import QImage, QPixmap\n"
   ]
  },
  {
   "cell_type": "code",
   "execution_count": 1,
   "id": "6f740842-ca54-4709-913e-61d8f52dd506",
   "metadata": {},
   "outputs": [
    {
     "name": "stdout",
     "output_type": "stream",
     "text": [
      "\u001b[33mDEPRECATION: Loading egg at /opt/anaconda3/envs/ai/lib/python3.12/site-packages/huggingface_hub-0.7.0-py3.8.egg is deprecated. pip 24.3 will enforce this behaviour change. A possible replacement is to use pip for package installation. Discussion can be found at https://github.com/pypa/pip/issues/12330\u001b[0m\u001b[33m\n",
      "\u001b[0mRequirement already satisfied: pyqt5 in /opt/anaconda3/envs/ai/lib/python3.12/site-packages (5.15.10)\n",
      "Requirement already satisfied: PyQt5-sip<13,>=12.13 in /opt/anaconda3/envs/ai/lib/python3.12/site-packages (from pyqt5) (12.13.0)\n",
      "Note: you may need to restart the kernel to use updated packages.\n"
     ]
    }
   ],
   "source": [
    "pip install pyqt5"
   ]
  },
  {
   "cell_type": "code",
   "execution_count": null,
   "id": "513e2757-8a0a-45dd-8222-c90043c0d235",
   "metadata": {},
   "outputs": [],
   "source": [
    "from ultralytics import YOLO\n",
    "import cv2\n",
    "from PyQt5.QtWidgets import QApplication, QLabel, QVBoxLayout, QWidget, QPushButton\n",
    "from PyQt5.QtCore import QTimer\n",
    "from PyQt5.QtGui import QImage, QPixmap\n",
    "\n",
    "class VideoCaptureWidget(QWidget):\n",
    "    def __init__(self):\n",
    "        super().__init__()\n",
    "\n",
    "        # YOLOv8x 모델 로드 (YOLOv8x)\n",
    "        self.model = YOLO('yolov8x.pt')\n",
    "\n",
    "        # UI 설정\n",
    "        self.setWindowTitle(\"실시간 객체 탐지\")\n",
    "        self.image_label = QLabel(self)\n",
    "        self.layout = QVBoxLayout()\n",
    "        self.layout.addWidget(self.image_label)\n",
    "\n",
    "        self.start_button = QPushButton(\"Start Webcam\", self)\n",
    "        self.start_button.clicked.connect(self.start_webcam)\n",
    "        self.layout.addWidget(self.start_button)\n",
    "\n",
    "        self.stop_button = QPushButton(\"Stop Webcam\", self)\n",
    "        self.stop_button.clicked.connect(self.stop_webcam)\n",
    "        self.layout.addWidget(self.stop_button)\n",
    "        self.setLayout(self.layout)\n",
    "\n",
    "        # 웹캠 초기화\n",
    "        self.capture = None\n",
    "        self.timer = QTimer(self)\n",
    "        self.timer.timeout.connect(self.update_frame)\n",
    "\n",
    "    def start_webcam(self):\n",
    "        \"\"\"웹캠을 시작하고, 타이머를 시작하여 프레임을 주기적으로 읽음\"\"\"\n",
    "        self.capture = cv2.VideoCapture(0)  # 웹캠 장치 열기\n",
    "        self.timer.start(20)  # 20ms마다 프레임 업데이트 (50fps)\n",
    "\n",
    "    def stop_webcam(self):\n",
    "        \"\"\"웹캠을 중지하고 타이머를 멈춤\"\"\"\n",
    "        self.timer.stop()\n",
    "        if self.capture is not None:\n",
    "            self.capture.release()\n",
    "\n",
    "    def update_frame(self):\n",
    "        \"\"\"웹캠에서 프레임을 읽어와서 YOLO 객체 탐지를 수행한 후 UI에 표시\"\"\"\n",
    "        ret, frame = self.capture.read()\n",
    "        if ret:\n",
    "            # YOLOv8 객체 탐지 수행\n",
    "            results = self.model(frame)\n",
    "            result = results[0]\n",
    "\n",
    "            # 바운딩 박스가 포함된 이미지를 가져옴\n",
    "            img_with_boxes = result.plot()\n",
    "\n",
    "            # OpenCV 이미지를 QImage로 변환\n",
    "            rgb_image = cv2.cvtColor(img_with_boxes, cv2.COLOR_BGR2RGB)\n",
    "            h, w, ch = rgb_image.shape\n",
    "            bytes_per_line = ch * w\n",
    "            convert_to_Qt_format = QImage(rgb_image.data, w, h, bytes_per_line, QImage.Format_RGB888)\n",
    "\n",
    "            # QImage를 QLabel에 표시하기 위해 QPixmap으로 변환\n",
    "            self.image_label.setPixmap(QPixmap.fromImage(convert_to_Qt_format))\n",
    "\n",
    "    def closeEvent(self, event):\n",
    "        \"\"\"윈도우 닫을 때 웹캠 해제\"\"\"\n",
    "        if self.capture is not None:\n",
    "            self.capture.release()\n",
    "\n",
    "if __name__ == \"__main__\":\n",
    "    app = QApplication([])\n",
    "    window = VideoCaptureWidget()\n",
    "    window.show()\n",
    "    app.exec_()\n"
   ]
  }
 ],
 "metadata": {
  "kernelspec": {
   "display_name": "ai",
   "language": "python",
   "name": "myenv"
  },
  "language_info": {
   "codemirror_mode": {
    "name": "ipython",
    "version": 3
   },
   "file_extension": ".py",
   "mimetype": "text/x-python",
   "name": "python",
   "nbconvert_exporter": "python",
   "pygments_lexer": "ipython3",
   "version": "3.12.7"
  }
 },
 "nbformat": 4,
 "nbformat_minor": 5
}
