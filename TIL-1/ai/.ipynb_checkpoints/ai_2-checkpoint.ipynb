{
 "cells": [
  {
   "cell_type": "code",
   "execution_count": 2,
   "id": "ea8bbb80-f0c8-411d-9168-6e662ae7beaf",
   "metadata": {},
   "outputs": [],
   "source": [
    "import torch\n",
    "import torch.nn as nn\n",
    "from torch.nn import Transformer"
   ]
  },
  {
   "cell_type": "code",
   "execution_count": 4,
   "id": "0e730a80-595c-4bd0-b088-e2b6f586368f",
   "metadata": {},
   "outputs": [
    {
     "name": "stdout",
     "output_type": "stream",
     "text": [
      "Requirement already satisfied: sentencepiece in /opt/anaconda3/lib/python3.12/site-packages (0.2.0)\n",
      "Requirement already satisfied: sacremoses in /opt/anaconda3/lib/python3.12/site-packages (0.1.1)\n",
      "Requirement already satisfied: regex in /opt/anaconda3/lib/python3.12/site-packages (from sacremoses) (2023.10.3)\n",
      "Requirement already satisfied: click in /opt/anaconda3/lib/python3.12/site-packages (from sacremoses) (8.1.7)\n",
      "Requirement already satisfied: joblib in /opt/anaconda3/lib/python3.12/site-packages (from sacremoses) (1.4.2)\n",
      "Requirement already satisfied: tqdm in /opt/anaconda3/lib/python3.12/site-packages (from sacremoses) (4.66.4)\n"
     ]
    }
   ],
   "source": [
    "!pip install sentencepiece sacremoses"
   ]
  },
  {
   "cell_type": "code",
   "execution_count": 6,
   "id": "0aca5e0c-aaa6-4f3f-b0bb-ceb1e7d659cd",
   "metadata": {},
   "outputs": [
    {
     "name": "stderr",
     "output_type": "stream",
     "text": [
      "Using cache found in /Users/ohhalim/.cache/torch/hub/huggingface_pytorch-transformers_main\n",
      "Using cache found in /Users/ohhalim/.cache/torch/hub/huggingface_pytorch-transformers_main\n"
     ]
    }
   ],
   "source": [
    "model = torch.hub.load('huggingface/pytorch-transformers', 'modelForCausalLM', 'gpt2')\n",
    "tokenizer = torch.hub.load('huggingface/pytorch-transformers', 'tokenizer', 'gpt2')\n"
   ]
  },
  {
   "cell_type": "code",
   "execution_count": 13,
   "id": "6a1f415c-5bf1-436f-9a2b-392718b54f26",
   "metadata": {},
   "outputs": [],
   "source": [
    "input_text = \"Once upon a time\""
   ]
  },
  {
   "cell_type": "code",
   "execution_count": 15,
   "id": "aede10ef-0759-4a9b-98d5-ddc3ffb23313",
   "metadata": {},
   "outputs": [],
   "source": [
    "input_ids = tokenizer.encode(input_text, return_tensors='pt')\n"
   ]
  },
  {
   "cell_type": "code",
   "execution_count": 19,
   "id": "43a488e5-7ae0-4ec7-b007-a5e2d72f3eab",
   "metadata": {},
   "outputs": [
    {
     "name": "stderr",
     "output_type": "stream",
     "text": [
      "The attention mask and the pad token id were not set. As a consequence, you may observe unexpected behavior. Please pass your input's `attention_mask` to obtain reliable results.\n",
      "Setting `pad_token_id` to `eos_token_id`:None for open-end generation.\n",
      "The attention mask is not set and cannot be inferred from input because pad token is same as eos token. As a consequence, you may observe unexpected behavior. Please pass your input's `attention_mask` to obtain reliable results.\n"
     ]
    }
   ],
   "source": [
    "output = model.generate(input_ids, max_length = 50, num_return_sequences = 1)"
   ]
  },
  {
   "cell_type": "code",
   "execution_count": 27,
   "id": "8019f384-e114-4c4d-9c35-177b44ebfdbb",
   "metadata": {},
   "outputs": [
    {
     "data": {
      "text/plain": [
       "'Once upon a time, the world was a place of great beauty and great danger. The world was a place of great danger, and the world was a place of great danger. The world was a place of great danger, and the world was a'"
      ]
     },
     "execution_count": 27,
     "metadata": {},
     "output_type": "execute_result"
    }
   ],
   "source": [
    "tokenizer.decode(output[0], skip_speciel_tokens = True)"
   ]
  },
  {
   "cell_type": "code",
   "execution_count": null,
   "id": "1bad4b9e-bf4c-4f3c-9840-f10a9affe19f",
   "metadata": {},
   "outputs": [],
   "source": []
  }
 ],
 "metadata": {
  "kernelspec": {
   "display_name": "ai",
   "language": "python",
   "name": "myenv"
  },
  "language_info": {
   "codemirror_mode": {
    "name": "ipython",
    "version": 3
   },
   "file_extension": ".py",
   "mimetype": "text/x-python",
   "name": "python",
   "nbconvert_exporter": "python",
   "pygments_lexer": "ipython3",
   "version": "3.12.7"
  }
 },
 "nbformat": 4,
 "nbformat_minor": 5
}
