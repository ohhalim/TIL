{
 "cells": [
  {
   "cell_type": "code",
   "execution_count": null,
   "id": "4df67fc2-4712-4f6c-ad97-dc44736a696d",
   "metadata": {},
   "outputs": [],
   "source": []
  }
 ],
 "metadata": {
  "kernelspec": {
   "display_name": "",
   "name": ""
  },
  "language_info": {
   "name": ""
  }
 },
 "nbformat": 4,
 "nbformat_minor": 5
}
