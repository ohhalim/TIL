{
 "cells": [
  {
   "cell_type": "code",
   "execution_count": null,
   "id": "d72adf65-89b1-463e-aebc-f95507eb193f",
   "metadata": {},
   "outputs": [],
   "source": [
    "\n",
    "from openai import OpenAI\n",
    "client = OpenAI(api_key=\"your_key\")\n",
    "system_message={\n",
    "    \"role\": \"system\", \"content\": \"너는 변호사야, 법률상담을 해줘. 주의사항은 말하지마. 한국법을 기준으로 해줘\"\n",
    "}\n",
    "messages=[system_message]\n",
    "while True:\n",
    "    user_input=input(\"사용자 전달:\")\n",
    "    if user_input.lower()==\"exit\":\n",
    "        print(\"대답: 즐거운 대화였어요! 감사합니다.\")\n",
    "        break\n",
    "    messages.append({\"role\":\"user\",\"content\":user_input})\n",
    "    completion = client.chat.completions.create(\n",
    "        model=\"gpt-4o\",\n",
    "        messages=messages\n",
    "    )\n",
    "    reply=completion.choices[0].message.content\n",
    "    print(\"대답: \" +reply)\n",
    "    messages.append({\"role\":\"assistant\",\"content\":reply})\n",
    "    "
   ]
  }
 ],
 "metadata": {
  "kernelspec": {
   "display_name": "ai",
   "language": "python",
   "name": "myenv"
  },
  "language_info": {
   "codemirror_mode": {
    "name": "ipython",
    "version": 3
   },
   "file_extension": ".py",
   "mimetype": "text/x-python",
   "name": "python",
   "nbconvert_exporter": "python",
   "pygments_lexer": "ipython3",
   "version": "3.12.7"
  }
 },
 "nbformat": 4,
 "nbformat_minor": 5
}
