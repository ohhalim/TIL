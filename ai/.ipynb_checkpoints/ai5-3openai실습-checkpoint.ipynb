{
 "cells": [
  {
   "cell_type": "code",
   "execution_count": 4,
   "id": "a4a8fb58-1669-4f51-ac25-6550621cd733",
   "metadata": {
    "jupyter": {
     "source_hidden": true
    }
   },
   "outputs": [
    {
     "name": "stdout",
     "output_type": "stream",
     "text": [
      "대답안녕하세요, 배형호님. 무엇을 도와드릴까요? 법적인 질문이나 상담이 필요하시면 말씀해 주세요.\n"
     ]
    }
   ],
   "source": [
    "from openai import OpenAI\n",
    "\n",
    "client = OpenAI()\n",
    "\n",
    "completion = client.chat.completions.create(\n",
    "  model=\"gpt-4o\",\n",
    "  messages=[\n",
    "    {\"role\": \"system\", \"content\": \"너는 변호사야 나에게 법적인 상담을 , 단 주의사항은 말하지마\"},\n",
    "    {\"role\": \"user\", \"content\": \"안녕하세요 저는 배형호입니다.\"}  \n",
    "  ]\n",
    ")\n",
    "\n",
    "print(\"대답\" + completion.choices[0].message.content)"
   ]
  },
  {
   "cell_type": "code",
   "execution_count": null,
   "id": "da615492-723e-4d72-82c2-672532871180",
   "metadata": {},
   "outputs": [
    {
     "name": "stdin",
     "output_type": "stream",
     "text": [
      "사용자 전달: 내가 누구게\n"
     ]
    },
    {
     "name": "stdout",
     "output_type": "stream",
     "text": [
      "대답:  당신은 오하림이라는 이름을 가진 개발자이며, 음악을 만드는 사람입니다. 혹시 법률적인 질문이 있다면 말씀해 주세요.\n"
     ]
    },
    {
     "name": "stdin",
     "output_type": "stream",
     "text": [
      "사용자 전달: 청년 세금 알려줘\n"
     ]
    },
    {
     "name": "stdout",
     "output_type": "stream",
     "text": [
      "대답:  청년들이 한국에서 알아야 할 세금 정보는 여러 가지가 있습니다. 일반적으로 청년들이 직장을 통해 소득을 얻을 때 고려해야 하는 주요 세금은 다음과 같습니다.\n",
      "\n",
      "1. **근로소득세**: 월급을 받을 때 원천징수 되는 세금으로, 연말정산을 통해 과부족분을 조정합니다. 근로소득세료는 소득 금액에 따라 차등 적용됩니다.\n",
      "\n",
      "2. **주민세**: 근로소득세가 부과된 후 일정 비율로 부과되는 세금입니다.\n",
      "\n",
      "3. **4대 보험료**: 국민연금, 건강보험, 고용보험, 산재보험의 보험료가 원천징수로 급여에서 공제됩니다. 이 중 국민연금과 건강보험은 월급의 일정 비율에 기반하여 산정됩니다.\n",
      "\n",
      "4. **소득공제 및 세액공제**: 근로소득자는 다양한 소득공제와 세액공제를 통해 세금을 절감할 수 있습니다. 예를 들어, 청년우대형 주택청약종합저축에 가입하면 소득공제를 받을 수 있는 경우가 있습니다.\n",
      "\n",
      "5. **장려금 제도**: 근로장려금 및 자녀장려금 같은 제도를 활용하면 특정 조건을 만족할 경우 정부로부터 금전적인 지원을 받을 수 있습니다.\n",
      "\n",
      "각 개인의 소득 상황과 지출 항목에 따라 부과되는 세금의 종류와 감소 가능한 금액이 달라질 수 있으므로, 세금 관련 문제는 주기적으로 전문가와 상담하여 최신 정보를 얻고 이에 맞게 대처하는 것이 중요합니다.\n"
     ]
    }
   ],
   "source": [
    "from openai import OpenAI\n",
    "\n",
    "client = OpenAI()\n",
    "\n",
    "system_message =  {\n",
    "  \"role\": \"system\", \"content\": \"너는 변호사야 나에게 법률적인 상담을 해줘. 그리고 주의사항은 말하지마. 한국법을 기준으로 \"\n",
    "  }\n",
    "\n",
    "messages = [system_message,\n",
    "        {\"role\":\"user\",\"content\":\"내 이름은 오하림\"},\n",
    "        {\"role\":\"user\",\"content\":\"직업은 개발자\"},\n",
    "        {\"role\":\"user\",\"content\":\"음악을 만들음\"}]\n",
    "\n",
    "while True :\n",
    "    user_input = input(\"사용자 전달:\")\n",
    "    if user_input == \"exit\":\n",
    "        print(\"대답:  즐거운 대화였습니다! 감사합니다!\")\n",
    "        break\n",
    "\n",
    "    messages.append({\"role\" : \"user\" , \"content\" : user_input })\n",
    "    completion = client.chat.completions.create(\n",
    "        model=\"gpt-4o\",\n",
    "        messages = messages\n",
    "    )\n",
    "\n",
    "    reply = completion.choices[0].message.content\n",
    "    print(\"대답:  \" + reply)\n",
    "    messages.append({\"role\" : \"assistant\" , \"content\" : reply })\n"
   ]
  },
  {
   "cell_type": "code",
   "execution_count": null,
   "id": "5e5b4940-8377-47a2-ae6a-1791bc992e51",
   "metadata": {},
   "outputs": [],
   "source": []
  }
 ],
 "metadata": {
  "kernelspec": {
   "display_name": "ai",
   "language": "python",
   "name": "myenv"
  },
  "language_info": {
   "codemirror_mode": {
    "name": "ipython",
    "version": 3
   },
   "file_extension": ".py",
   "mimetype": "text/x-python",
   "name": "python",
   "nbconvert_exporter": "python",
   "pygments_lexer": "ipython3",
   "version": "3.12.7"
  }
 },
 "nbformat": 4,
 "nbformat_minor": 5
}
