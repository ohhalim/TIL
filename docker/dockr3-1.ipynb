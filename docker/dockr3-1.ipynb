{
 "cells": [
  {
   "cell_type": "raw",
   "metadata": {
    "vscode": {
     "languageId": "raw"
    }
   },
   "source": [
    "version: '3'\n",
    "services:\n",
    "  web:\n",
    "    image: nginx:latest\n",
    "    ports:\n",
    "      - 80:80\n",
    "    volumes:\n",
    "      - ./web:/usr/share/nginx/html\n",
    "    depends_on:\n",
    "      - api\n",
    "    links:\n",
    "      - api:api\n",
    "  api:\n",
    "    image: java:latest\n",
    "    volumes:\n",
    "      - ./api:/app\n",
    "    ports:\n",
    "      - 8080:8080\n",
    "    environment:\n",
    "      - REDIS_HOST=redis\n",
    "      - MYSQL_HOST=mysql\n",
    "      - MYSQL_USER=root\n",
    "      - MYSQL_PASSWORD=password\n",
    "      - MYSQL_DATABASE=test\n",
    "    depends_on:\n",
    "      - mysql\n",
    "      - redis\n",
    "    links:\n",
    "      - mysql:mysql\n",
    "      - redis:redis\n",
    "  redis:\n",
    "    image: redis:latest\n",
    "    ports:\n",
    "      - 6379:6379\n",
    "  mysql:\n",
    "    image: mysql:latest\n",
    "    ports:\n",
    "      - 3306:3306\n",
    "    volumes:\n",
    "      - ./mysql:/var/lib/mysql\n",
    "    environment:\n",
    "      - MYSQL_ROOT_PASSWORD=password\n",
    "      - MYSQL_DATABASE=test\n",
    "      - MYSQL_USER=root\n",
    "      - MYSQL_PASSWORD=password"
   ]
  },
  {
   "cell_type": "code",
   "execution_count": null,
   "metadata": {},
   "outputs": [],
   "source": []
  }
 ],
 "metadata": {
  "language_info": {
   "name": "python"
  }
 },
 "nbformat": 4,
 "nbformat_minor": 2
}
