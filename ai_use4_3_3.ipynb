{
  "nbformat": 4,
  "nbformat_minor": 0,
  "metadata": {
    "colab": {
      "provenance": [],
      "authorship_tag": "ABX9TyPouWeMeNZX2KsJfedYYd+G",
      "include_colab_link": true
    },
    "kernelspec": {
      "name": "python3",
      "display_name": "Python 3"
    },
    "language_info": {
      "name": "python"
    }
  },
  "cells": [
    {
      "cell_type": "markdown",
      "metadata": {
        "id": "view-in-github",
        "colab_type": "text"
      },
      "source": [
        "<a href=\"https://colab.research.google.com/github/ohhalim/TIL/blob/main/ai_use4_3_3.ipynb\" target=\"_parent\"><img src=\"https://colab.research.google.com/assets/colab-badge.svg\" alt=\"Open In Colab\"/></a>"
      ]
    },
    {
      "cell_type": "code",
      "execution_count": null,
      "metadata": {
        "id": "IvEXhmhAz7_o"
      },
      "outputs": [],
      "source": [
        "!pip install diffusers transformers torch\n",
        "\n",
        "from diffusers import StableDiffusionPipeline\n",
        "import torch\n",
        "\n",
        "# Stable Diffusion 파이프라인 로드\n",
        "pipe = StableDiffusionPipeline.from_pretrained(\"CompVis/stable-diffusion-v1-4\", torch_dtype=torch.float16)\n",
        "pipe = pipe.to(\"cuda\")  # GPU 사용\n",
        "\n",
        "# 텍스트 설명을 기반으로 이미지 생성\n",
        "prompt = \"A futuristic cityscape with flying cars at sunset\"\n",
        "image = pipe(prompt).images[0]\n",
        "\n",
        "# 생성된 이미지 저장 및 출력\n",
        "image.save(\"generated_image.png\")\n",
        "image.show()\n",
        "\n",
        "\n",
        "image = pipe(prompt, guidance_scale=7.5, num_inference_steps=50).images[0]\n"
      ]
    }
  ]
}